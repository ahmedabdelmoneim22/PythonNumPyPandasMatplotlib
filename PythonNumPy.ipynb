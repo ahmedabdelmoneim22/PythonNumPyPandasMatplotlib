{
 "cells": [
  {
   "cell_type": "code",
   "execution_count": 1,
   "id": "7f10ac9b-93ff-49a7-9692-247871da620f",
   "metadata": {},
   "outputs": [
    {
     "name": "stdout",
     "output_type": "stream",
     "text": [
      "NumPy for Beginners in 15 minutes | Python Crash Course\n"
     ]
    }
   ],
   "source": [
    "print(\"NumPy for Beginners in 15 minutes | Python Crash Course\")"
   ]
  },
  {
   "cell_type": "code",
   "execution_count": 5,
   "id": "75c88093-570e-4620-a6c6-538ceabd5684",
   "metadata": {},
   "outputs": [
    {
     "name": "stdout",
     "output_type": "stream",
     "text": [
      "You'll learn How to:-\n",
      "1. Install NumPy.\n",
      "2. Create and Transform NumPy Arrays.\n",
      "3. Apply Mathematical Functions and Export Data.\n"
     ]
    }
   ],
   "source": [
    "print(\"You\\'ll learn How to:-\")\n",
    "print(\"1. Install NumPy.\")\n",
    "print(\"2. Create and Transform NumPy Arrays.\")\n",
    "print(\"3. Apply Mathematical Functions and Export Data.\")"
   ]
  },
  {
   "cell_type": "code",
   "execution_count": 6,
   "id": "803bd92a-114a-4b15-9b35-492d10f35d2d",
   "metadata": {},
   "outputs": [
    {
     "name": "stdout",
     "output_type": "stream",
     "text": [
      "Install NumPy\n",
      "NumPy Arrays\n",
      "Mathematical Functions\n"
     ]
    }
   ],
   "source": [
    "print(\"Install NumPy\")\n",
    "print(\"NumPy Arrays\")\n",
    "print(\"Mathematical Functions\")"
   ]
  },
  {
   "cell_type": "code",
   "execution_count": 7,
   "id": "cf89c402-e50d-426d-8475-9aa5ea87e39d",
   "metadata": {},
   "outputs": [
    {
     "name": "stdout",
     "output_type": "stream",
     "text": [
      "What is NumPy?\n"
     ]
    }
   ],
   "source": [
    "print(\"What is NumPy?\")"
   ]
  },
  {
   "cell_type": "code",
   "execution_count": 8,
   "id": "dbe7c219-8b36-4b71-b226-d227647377af",
   "metadata": {},
   "outputs": [
    {
     "name": "stdout",
     "output_type": "stream",
     "text": [
      "1.Fast,Powerful and Easy \n",
      "to use Library for working with Arrays Big and Small.\n",
      "2.Has support for N-dimensional Arrays.\n",
      "e.g [1,2,3],[4,5,6],[7,8,9]\n",
      "3.Useful for working with a large majority of \n",
      "Data Science tools Like Pandas and Tensorflow.\n",
      "\n"
     ]
    }
   ],
   "source": [
    "print(\"\"\"1.Fast,Powerful and Easy \n",
    "to use Library for working with Arrays Big and Small.\n",
    "2.Has support for N-dimensional Arrays.\n",
    "e.g [1,2,3],[4,5,6],[7,8,9]\n",
    "3.Useful for working with a large majority of \n",
    "Data Science tools Like Pandas and Tensorflow.\n",
    "\"\"\")"
   ]
  },
  {
   "cell_type": "code",
   "execution_count": 11,
   "id": "4c897f7b-7e5d-4ca9-a00e-7be14804682b",
   "metadata": {},
   "outputs": [
    {
     "name": "stdout",
     "output_type": "stream",
     "text": [
      "What's Covered:-\n",
      "1.Installing NumPy.\n",
      "2.Working with np for Data Science.\n",
      "3.Exporting your work.\n",
      "'Creating Reading Updating and Deleting NumPy Arrarys'\n",
      "1.Create.\n",
      "2.Read.\n",
      "3.Update.\n",
      "4.Delete.\n",
      "\n"
     ]
    }
   ],
   "source": [
    "print(\"\"\"What's Covered:-\n",
    "1.Installing NumPy.\n",
    "2.Working with np for Data Science.\n",
    "3.Exporting your work.\n",
    "'Creating Reading Updating and Deleting NumPy Arrarys'\n",
    "1.Create.\n",
    "2.Read.\n",
    "3.Update.\n",
    "4.Delete.\n",
    "\"\"\")"
   ]
  },
  {
   "cell_type": "code",
   "execution_count": 12,
   "id": "0c5ce620-199a-4a63-adcb-89955c766d52",
   "metadata": {},
   "outputs": [
    {
     "name": "stdout",
     "output_type": "stream",
     "text": [
      "Requirement already satisfied: numpy in c:\\jupiter\\lib\\site-packages (1.26.4)\n"
     ]
    }
   ],
   "source": [
    "!pip install numpy"
   ]
  },
  {
   "cell_type": "code",
   "execution_count": 13,
   "id": "42b2a5b5-e9c0-49b4-89a7-23b16fa8bb53",
   "metadata": {},
   "outputs": [],
   "source": [
    "import numpy as np"
   ]
  },
  {
   "cell_type": "code",
   "execution_count": 14,
   "id": "a7d9b324-4c60-48b1-b5a5-06c0e84feb88",
   "metadata": {},
   "outputs": [
    {
     "name": "stdout",
     "output_type": "stream",
     "text": [
      "1.Create\n"
     ]
    }
   ],
   "source": [
    "print(\"1.Create\")"
   ]
  },
  {
   "cell_type": "code",
   "execution_count": 19,
   "id": "bf26b63a-9404-42ac-8657-60374ca7a09a",
   "metadata": {},
   "outputs": [],
   "source": [
    "#Two[],row=3,column=4.\n",
    "data = np.random.rand(2,3,4)"
   ]
  },
  {
   "cell_type": "code",
   "execution_count": 20,
   "id": "0a4fef19-097a-49e9-a19e-c3812e1b6c6b",
   "metadata": {},
   "outputs": [
    {
     "name": "stdout",
     "output_type": "stream",
     "text": [
      "[[[0.88790606 0.61657275 0.34735263 0.45698572]\n",
      "  [0.68837249 0.5253554  0.06319619 0.10653006]\n",
      "  [0.5994093  0.50613144 0.00959431 0.27752234]]\n",
      "\n",
      " [[0.34455767 0.12478674 0.99849042 0.78660386]\n",
      "  [0.00698601 0.34607136 0.3597709  0.36846349]\n",
      "  [0.10530606 0.72875514 0.85989017 0.94403603]]]\n"
     ]
    }
   ],
   "source": [
    "print(data)"
   ]
  },
  {
   "cell_type": "code",
   "execution_count": 21,
   "id": "9e9f1524-5b7b-4392-aa92-e3946207dc50",
   "metadata": {},
   "outputs": [],
   "source": [
    "zeroes = np.zeros((2,2,2))"
   ]
  },
  {
   "cell_type": "code",
   "execution_count": 22,
   "id": "ca246511-a5ce-458b-9c02-65850f4b9113",
   "metadata": {},
   "outputs": [
    {
     "name": "stdout",
     "output_type": "stream",
     "text": [
      "[[[0. 0.]\n",
      "  [0. 0.]]\n",
      "\n",
      " [[0. 0.]\n",
      "  [0. 0.]]]\n"
     ]
    }
   ],
   "source": [
    "print(zeroes)"
   ]
  },
  {
   "cell_type": "code",
   "execution_count": 23,
   "id": "358aa798-6a9d-4ad2-bd41-52703e441248",
   "metadata": {},
   "outputs": [],
   "source": [
    "full = np.full((2,2,2),7)"
   ]
  },
  {
   "cell_type": "code",
   "execution_count": 24,
   "id": "bc1e0980-b7f6-47f7-9d85-382fcb1a6a06",
   "metadata": {},
   "outputs": [
    {
     "data": {
      "text/plain": [
       "array([[[7, 7],\n",
       "        [7, 7]],\n",
       "\n",
       "       [[7, 7],\n",
       "        [7, 7]]])"
      ]
     },
     "execution_count": 24,
     "metadata": {},
     "output_type": "execute_result"
    }
   ],
   "source": [
    "full"
   ]
  },
  {
   "cell_type": "code",
   "execution_count": 48,
   "id": "0372fd83-3ced-4b08-80d0-cc4d7ed575cd",
   "metadata": {},
   "outputs": [],
   "source": [
    "ones = np.ones((2,2,2))"
   ]
  },
  {
   "cell_type": "code",
   "execution_count": 26,
   "id": "701ed6f8-cbb2-4970-a142-00e45412ca02",
   "metadata": {},
   "outputs": [
    {
     "data": {
      "text/plain": [
       "array([[[1., 1.],\n",
       "        [1., 1.]],\n",
       "\n",
       "       [[1., 1.],\n",
       "        [1., 1.]]])"
      ]
     },
     "execution_count": 26,
     "metadata": {},
     "output_type": "execute_result"
    }
   ],
   "source": [
    "ones"
   ]
  },
  {
   "cell_type": "code",
   "execution_count": 27,
   "id": "6f92b1f1-edae-44af-99ba-41738a738de5",
   "metadata": {},
   "outputs": [
    {
     "data": {
      "text/plain": [
       "array([[[0.88790606, 0.61657275, 0.34735263, 0.45698572],\n",
       "        [0.68837249, 0.5253554 , 0.06319619, 0.10653006],\n",
       "        [0.5994093 , 0.50613144, 0.00959431, 0.27752234]],\n",
       "\n",
       "       [[0.34455767, 0.12478674, 0.99849042, 0.78660386],\n",
       "        [0.00698601, 0.34607136, 0.3597709 , 0.36846349],\n",
       "        [0.10530606, 0.72875514, 0.85989017, 0.94403603]]])"
      ]
     },
     "execution_count": 27,
     "metadata": {},
     "output_type": "execute_result"
    }
   ],
   "source": [
    "data"
   ]
  },
  {
   "cell_type": "code",
   "execution_count": 28,
   "id": "78ee5d5b-21a3-4fd4-a26b-fa4613fc33a4",
   "metadata": {},
   "outputs": [],
   "source": [
    "arr = np.array([[1,2,3,4],[1,2,3,4]])"
   ]
  },
  {
   "cell_type": "code",
   "execution_count": 29,
   "id": "e7bc2650-d226-4ae8-a3d6-793ed671166f",
   "metadata": {},
   "outputs": [
    {
     "data": {
      "text/plain": [
       "array([[1, 2, 3, 4],\n",
       "       [1, 2, 3, 4]])"
      ]
     },
     "execution_count": 29,
     "metadata": {},
     "output_type": "execute_result"
    }
   ],
   "source": [
    "arr"
   ]
  },
  {
   "cell_type": "code",
   "execution_count": 30,
   "id": "45090b14-d6e6-4e8b-9cfa-c0d0baaaea3e",
   "metadata": {},
   "outputs": [
    {
     "data": {
      "text/plain": [
       "numpy.ndarray"
      ]
     },
     "execution_count": 30,
     "metadata": {},
     "output_type": "execute_result"
    }
   ],
   "source": [
    "type(arr)"
   ]
  },
  {
   "cell_type": "code",
   "execution_count": 56,
   "id": "6ae71d3e-09b7-4470-8d87-cb97d412644d",
   "metadata": {},
   "outputs": [],
   "source": [
    "arr2 = np.array([[1,2,3,4],\n",
    "                 [1,2,3,4],\n",
    "                 [1,2,3,4],\n",
    "                 [1,2,3,4]])"
   ]
  },
  {
   "cell_type": "code",
   "execution_count": 57,
   "id": "a9eded86-8966-4a33-8f8d-36e759b1766c",
   "metadata": {},
   "outputs": [
    {
     "data": {
      "text/plain": [
       "array([[2, 4, 6, 8],\n",
       "       [2, 4, 6, 8],\n",
       "       [2, 4, 6, 8],\n",
       "       [2, 4, 6, 8]])"
      ]
     },
     "execution_count": 57,
     "metadata": {},
     "output_type": "execute_result"
    }
   ],
   "source": [
    "arr2*2"
   ]
  },
  {
   "cell_type": "code",
   "execution_count": 58,
   "id": "9874e30f-2a92-418b-9a55-9153322ce97d",
   "metadata": {},
   "outputs": [
    {
     "name": "stdout",
     "output_type": "stream",
     "text": [
      "2.Read\n"
     ]
    }
   ],
   "source": [
    "print(\"2.Read\")"
   ]
  },
  {
   "cell_type": "code",
   "execution_count": 59,
   "id": "e299ffdb-8947-47e2-8047-a660ca9e8c66",
   "metadata": {},
   "outputs": [],
   "source": [
    "shape = data.shape"
   ]
  },
  {
   "cell_type": "code",
   "execution_count": 60,
   "id": "2ad94aae-3cb7-44c8-8107-3b5599639a6e",
   "metadata": {},
   "outputs": [
    {
     "data": {
      "text/plain": [
       "(2, 3, 4)"
      ]
     },
     "execution_count": 60,
     "metadata": {},
     "output_type": "execute_result"
    }
   ],
   "source": [
    "shape"
   ]
  },
  {
   "cell_type": "code",
   "execution_count": 61,
   "id": "a09b12ae-a316-4c48-afbe-e8d5c05c8ebc",
   "metadata": {},
   "outputs": [],
   "source": [
    "size = data.size"
   ]
  },
  {
   "cell_type": "code",
   "execution_count": 62,
   "id": "b0194a50-2fa7-42e5-a688-f7fde5117643",
   "metadata": {},
   "outputs": [],
   "source": [
    "types = data.dtype"
   ]
  },
  {
   "cell_type": "code",
   "execution_count": 65,
   "id": "510e0db5-189a-403a-9902-82acd0846092",
   "metadata": {},
   "outputs": [
    {
     "data": {
      "text/plain": [
       "24"
      ]
     },
     "execution_count": 65,
     "metadata": {},
     "output_type": "execute_result"
    }
   ],
   "source": [
    "size#4Columns x 6Rows"
   ]
  },
  {
   "cell_type": "code",
   "execution_count": 64,
   "id": "72f0ca2d-8104-47d9-93fa-7f531bc2fb5e",
   "metadata": {},
   "outputs": [
    {
     "data": {
      "text/plain": [
       "dtype('float64')"
      ]
     },
     "execution_count": 64,
     "metadata": {},
     "output_type": "execute_result"
    }
   ],
   "source": [
    "types"
   ]
  },
  {
   "cell_type": "code",
   "execution_count": 66,
   "id": "3e945edd-bd1e-4b6d-9f62-be1142676e08",
   "metadata": {},
   "outputs": [],
   "source": [
    "#Attributes.\n",
    "shape = data.shape\n",
    "size = data.size\n",
    "types = data.dtype"
   ]
  },
  {
   "cell_type": "code",
   "execution_count": 69,
   "id": "2998fb04-bf6f-441b-9be6-2a218d69d1aa",
   "metadata": {},
   "outputs": [
    {
     "name": "stdout",
     "output_type": "stream",
     "text": [
      "(2, 3, 4)\n",
      "24\n",
      "float64\n"
     ]
    }
   ],
   "source": [
    "print(shape)\n",
    "print(size)\n",
    "print(types)"
   ]
  },
  {
   "cell_type": "code",
   "execution_count": 70,
   "id": "87b06802-121e-466d-aad5-3a53846c663a",
   "metadata": {},
   "outputs": [
    {
     "name": "stdout",
     "output_type": "stream",
     "text": [
      "#Slicing\n"
     ]
    }
   ],
   "source": [
    "print(\"#Slicing\")"
   ]
  },
  {
   "cell_type": "code",
   "execution_count": 76,
   "id": "fcf31b58-14ca-40f7-aac6-4635f90cc505",
   "metadata": {},
   "outputs": [
    {
     "name": "stdout",
     "output_type": "stream",
     "text": [
      "[[0.88790606 0.61657275 0.34735263 0.45698572]\n",
      " [0.68837249 0.5253554  0.06319619 0.10653006]\n",
      " [0.5994093  0.50613144 0.00959431 0.27752234]]\n",
      "---------\n",
      "[[[0.88790606 0.61657275 0.34735263 0.45698572]\n",
      "  [0.68837249 0.5253554  0.06319619 0.10653006]\n",
      "  [0.5994093  0.50613144 0.00959431 0.27752234]]\n",
      "\n",
      " [[0.34455767 0.12478674 0.99849042 0.78660386]\n",
      "  [0.00698601 0.34607136 0.3597709  0.36846349]\n",
      "  [0.10530606 0.72875514 0.85989017 0.94403603]]]\n",
      "---------\n",
      "[[0.34455767 0.12478674 0.99849042 0.78660386]\n",
      " [0.00698601 0.34607136 0.3597709  0.36846349]\n",
      " [0.10530606 0.72875514 0.85989017 0.94403603]]\n",
      "---------\n",
      "0.887906055273492\n"
     ]
    }
   ],
   "source": [
    "arr0 = data[0]\n",
    "print(arr0)\n",
    "print(\"---------\")\n",
    "slicer = data[0:2]\n",
    "print(slicer)\n",
    "print(\"---------\")\n",
    "reverse = data[-1]\n",
    "print(reverse)\n",
    "print(\"---------\")\n",
    "singlevel = data[0][0][0]\n",
    "print(singlevel)"
   ]
  },
  {
   "cell_type": "code",
   "execution_count": 77,
   "id": "986c9180-aeb5-4f4a-99f7-dcbe9bc4c744",
   "metadata": {},
   "outputs": [
    {
     "data": {
      "text/plain": [
       "array([[[0.88790606, 0.61657275, 0.34735263, 0.45698572],\n",
       "        [0.68837249, 0.5253554 , 0.06319619, 0.10653006],\n",
       "        [0.5994093 , 0.50613144, 0.00959431, 0.27752234]],\n",
       "\n",
       "       [[0.34455767, 0.12478674, 0.99849042, 0.78660386],\n",
       "        [0.00698601, 0.34607136, 0.3597709 , 0.36846349],\n",
       "        [0.10530606, 0.72875514, 0.85989017, 0.94403603]]])"
      ]
     },
     "execution_count": 77,
     "metadata": {},
     "output_type": "execute_result"
    }
   ],
   "source": [
    "data"
   ]
  },
  {
   "cell_type": "code",
   "execution_count": 78,
   "id": "24131378-40d4-4701-befb-b59c411e9cb5",
   "metadata": {},
   "outputs": [
    {
     "name": "stdout",
     "output_type": "stream",
     "text": [
      "3.Update\n"
     ]
    }
   ],
   "source": [
    "print(\"3.Update\")"
   ]
  },
  {
   "cell_type": "code",
   "execution_count": 90,
   "id": "a843d6ce-40a0-4a91-aedf-7d44b0d49875",
   "metadata": {},
   "outputs": [
    {
     "data": {
      "text/plain": [
       "array([0.92169946, 0.82242872, 0.95133747, 0.83822974, 0.90130472,\n",
       "       0.54978931, 0.83971847, 0.99830812, 0.05106181, 0.19325047])"
      ]
     },
     "execution_count": 90,
     "metadata": {},
     "output_type": "execute_result"
    }
   ],
   "source": [
    "list1 = np.random.rand(10)\n",
    "list2 = np.random.rand(10)\n",
    "list1"
   ]
  },
  {
   "cell_type": "code",
   "execution_count": 80,
   "id": "f85ddee7-fc3e-472e-9f7c-d97b7128ede0",
   "metadata": {},
   "outputs": [
    {
     "data": {
      "text/plain": [
       "array([0.18732246, 0.50048185, 0.86351358, 0.62095568, 0.13051768,\n",
       "       0.98201768, 0.83133066, 0.58621411, 0.74505364, 0.06631114])"
      ]
     },
     "execution_count": 80,
     "metadata": {},
     "output_type": "execute_result"
    }
   ],
   "source": [
    "list2"
   ]
  },
  {
   "cell_type": "code",
   "execution_count": 81,
   "id": "a4d2be99-ca62-4114-834a-6cc69ea94a99",
   "metadata": {},
   "outputs": [
    {
     "name": "stdout",
     "output_type": "stream",
     "text": [
      "# Basic Math\n"
     ]
    }
   ],
   "source": [
    "print(\"# Basic Math\")"
   ]
  },
  {
   "cell_type": "code",
   "execution_count": 83,
   "id": "01ea5988-3414-4944-aaa9-62f29eda9e98",
   "metadata": {},
   "outputs": [],
   "source": [
    "#add,subtract,divide,multiply and dot Array By Array.\n",
    "add = np.add(list1,list2)\n",
    "sub = np.subtract(list1,list2)\n",
    "div = np.divide(list1,list2)\n",
    "mult = np.multiply(list1,list2)\n",
    "dot = np.dot(list1,list2)"
   ]
  },
  {
   "cell_type": "code",
   "execution_count": 84,
   "id": "f0a67318-3116-42c9-b47b-32eff426c4f4",
   "metadata": {},
   "outputs": [
    {
     "data": {
      "text/plain": [
       "array([0.48730275, 1.05618648, 1.78549633, 0.73320223, 0.29348141,\n",
       "       1.80870766, 1.2372414 , 1.27691817, 1.65209726, 0.48816782])"
      ]
     },
     "execution_count": 84,
     "metadata": {},
     "output_type": "execute_result"
    }
   ],
   "source": [
    "add"
   ]
  },
  {
   "cell_type": "code",
   "execution_count": 85,
   "id": "0abd255c-be00-4e42-a98e-87bc85d49b48",
   "metadata": {},
   "outputs": [
    {
     "data": {
      "text/plain": [
       "array([ 0.11265783,  0.05522277,  0.05846917, -0.50870912,  0.03244605,\n",
       "       -0.1553277 , -0.42541992,  0.10448995,  0.16198998,  0.35554555])"
      ]
     },
     "execution_count": 85,
     "metadata": {},
     "output_type": "execute_result"
    }
   ],
   "source": [
    "sub"
   ]
  },
  {
   "cell_type": "code",
   "execution_count": 86,
   "id": "41018883-acc9-4d86-b9ab-2a7ae8d171da",
   "metadata": {},
   "outputs": [
    {
     "data": {
      "text/plain": [
       "array([1.60141122, 1.1103392 , 1.06771077, 0.1807642 , 1.24859503,\n",
       "       0.841828  , 0.48826629, 1.17824537, 1.21742055, 6.36177738])"
      ]
     },
     "execution_count": 86,
     "metadata": {},
     "output_type": "execute_result"
    }
   ],
   "source": [
    "div"
   ]
  },
  {
   "cell_type": "code",
   "execution_count": 87,
   "id": "b1fed5a2-2fa1-4ad9-acfe-5ff5ac1ae7f9",
   "metadata": {},
   "outputs": [
    {
     "data": {
      "text/plain": [
       "array([0.05619305, 0.27812008, 0.79614463, 0.06970013, 0.02126965,\n",
       "       0.81182418, 0.33744605, 0.40490047, 0.67579615, 0.0279738 ])"
      ]
     },
     "execution_count": 87,
     "metadata": {},
     "output_type": "execute_result"
    }
   ],
   "source": [
    "mult"
   ]
  },
  {
   "cell_type": "code",
   "execution_count": 88,
   "id": "f39367d8-2bb6-4ed8-bd9b-d16a763cda7d",
   "metadata": {},
   "outputs": [
    {
     "data": {
      "text/plain": [
       "3.4793681716823137"
      ]
     },
     "execution_count": 88,
     "metadata": {},
     "output_type": "execute_result"
    }
   ],
   "source": [
    "dot"
   ]
  },
  {
   "cell_type": "code",
   "execution_count": 93,
   "id": "60d2ff14-51c6-4abb-ae96-97de5a33d89b",
   "metadata": {},
   "outputs": [],
   "source": [
    "# Calculated Functions."
   ]
  },
  {
   "cell_type": "code",
   "execution_count": 101,
   "id": "3eadf561-b514-4185-b92f-557a88b9efa4",
   "metadata": {},
   "outputs": [
    {
     "name": "stdout",
     "output_type": "stream",
     "text": [
      "5.0\n",
      "2\n",
      "128\n",
      "3.2188758248682006\n",
      "[2, 3]\n"
     ]
    }
   ],
   "source": [
    "sqrt = np.sqrt(25)#Root 25.\n",
    "print(sqrt)\n",
    "ab = np.abs(-2)\n",
    "print(ab)\n",
    "power = np.power(2,7)\n",
    "print(power)\n",
    "log = np.log(25)\n",
    "print(log)\n",
    "exp = ([2,3])\n",
    "print(exp)"
   ]
  },
  {
   "cell_type": "code",
   "execution_count": 102,
   "id": "94868fdd-2b60-488d-a839-ea2759a0f088",
   "metadata": {},
   "outputs": [],
   "source": [
    "mins = np.min([list1])\n",
    "maxs = np.max(list1)"
   ]
  },
  {
   "cell_type": "code",
   "execution_count": 103,
   "id": "d5198f37-378f-485b-a677-f8548368fb8c",
   "metadata": {},
   "outputs": [
    {
     "data": {
      "text/plain": [
       "0.05106180559364848"
      ]
     },
     "execution_count": 103,
     "metadata": {},
     "output_type": "execute_result"
    }
   ],
   "source": [
    "mins"
   ]
  },
  {
   "cell_type": "code",
   "execution_count": 104,
   "id": "1abd17bb-3688-4f8c-bb73-a9bbd3f4ba67",
   "metadata": {},
   "outputs": [
    {
     "data": {
      "text/plain": [
       "0.9983081228637499"
      ]
     },
     "execution_count": 104,
     "metadata": {},
     "output_type": "execute_result"
    }
   ],
   "source": [
    "maxs"
   ]
  },
  {
   "cell_type": "code",
   "execution_count": 105,
   "id": "e9938c98-0343-439f-ab9f-058e8e5eae5e",
   "metadata": {},
   "outputs": [],
   "source": [
    "exp = np.exp([2,3])"
   ]
  },
  {
   "cell_type": "code",
   "execution_count": 107,
   "id": "64f8f889-f485-4878-af8f-6c9afb65a6c1",
   "metadata": {},
   "outputs": [
    {
     "data": {
      "text/plain": [
       "array([ 7.3890561 , 20.08553692])"
      ]
     },
     "execution_count": 107,
     "metadata": {},
     "output_type": "execute_result"
    }
   ],
   "source": [
    "exp"
   ]
  },
  {
   "cell_type": "code",
   "execution_count": 110,
   "id": "b3b91e23-1105-43ef-8d78-3014db71f6af",
   "metadata": {},
   "outputs": [
    {
     "data": {
      "text/plain": [
       "array([[[0.88790606, 0.61657275, 0.34735263, 0.45698572],\n",
       "        [0.68837249, 0.5253554 , 0.06319619, 0.10653006],\n",
       "        [0.5994093 , 0.50613144, 0.00959431, 0.27752234]],\n",
       "\n",
       "       [[0.34455767, 0.12478674, 0.99849042, 0.78660386],\n",
       "        [0.00698601, 0.34607136, 0.3597709 , 0.36846349],\n",
       "        [0.10530606, 0.72875514, 0.85989017, 0.94403603]]])"
      ]
     },
     "execution_count": 110,
     "metadata": {},
     "output_type": "execute_result"
    }
   ],
   "source": [
    "data"
   ]
  },
  {
   "cell_type": "code",
   "execution_count": 111,
   "id": "bf508ceb-4bab-4324-a7ea-4db336fc4f31",
   "metadata": {},
   "outputs": [
    {
     "data": {
      "text/plain": [
       "0.887906055273492"
      ]
     },
     "execution_count": 111,
     "metadata": {},
     "output_type": "execute_result"
    }
   ],
   "source": [
    "#First Element in the Array.\n",
    "data[0][0][0]"
   ]
  },
  {
   "cell_type": "code",
   "execution_count": 114,
   "id": "0716f60a-4b8a-4dbf-adea-08574fcee56c",
   "metadata": {},
   "outputs": [],
   "source": [
    "data[0][0][0] = 700#Update-Data."
   ]
  },
  {
   "cell_type": "code",
   "execution_count": 115,
   "id": "d2e4ed87-2b46-4241-8f5c-1fda54e303cd",
   "metadata": {},
   "outputs": [
    {
     "data": {
      "text/plain": [
       "array([[[7.00000000e+02, 6.16572754e-01, 3.47352631e-01, 4.56985724e-01],\n",
       "        [6.88372490e-01, 5.25355400e-01, 6.31961943e-02, 1.06530065e-01],\n",
       "        [5.99409301e-01, 5.06131443e-01, 9.59431481e-03, 2.77522342e-01]],\n",
       "\n",
       "       [[3.44557668e-01, 1.24786737e-01, 9.98490423e-01, 7.86603860e-01],\n",
       "        [6.98601115e-03, 3.46071363e-01, 3.59770904e-01, 3.68463494e-01],\n",
       "        [1.05306063e-01, 7.28755140e-01, 8.59890172e-01, 9.44036029e-01]]])"
      ]
     },
     "execution_count": 115,
     "metadata": {},
     "output_type": "execute_result"
    }
   ],
   "source": [
    "data"
   ]
  },
  {
   "cell_type": "code",
   "execution_count": 116,
   "id": "856808b0-224a-4190-82b0-9cddb289728b",
   "metadata": {},
   "outputs": [],
   "source": [
    "data.sort()"
   ]
  },
  {
   "cell_type": "code",
   "execution_count": 117,
   "id": "6d95aef8-b316-4792-92a4-94cf41803dce",
   "metadata": {},
   "outputs": [
    {
     "data": {
      "text/plain": [
       "array([[[3.47352631e-01, 4.56985724e-01, 6.16572754e-01, 7.00000000e+02],\n",
       "        [6.31961943e-02, 1.06530065e-01, 5.25355400e-01, 6.88372490e-01],\n",
       "        [9.59431481e-03, 2.77522342e-01, 5.06131443e-01, 5.99409301e-01]],\n",
       "\n",
       "       [[1.24786737e-01, 3.44557668e-01, 7.86603860e-01, 9.98490423e-01],\n",
       "        [6.98601115e-03, 3.46071363e-01, 3.59770904e-01, 3.68463494e-01],\n",
       "        [1.05306063e-01, 7.28755140e-01, 8.59890172e-01, 9.44036029e-01]]])"
      ]
     },
     "execution_count": 117,
     "metadata": {},
     "output_type": "execute_result"
    }
   ],
   "source": [
    "data"
   ]
  },
  {
   "cell_type": "code",
   "execution_count": 118,
   "id": "455255d3-5bbf-47d1-8d4d-9659e45dc986",
   "metadata": {},
   "outputs": [
    {
     "name": "stdout",
     "output_type": "stream",
     "text": [
      "4.Delete\n"
     ]
    }
   ],
   "source": [
    "print('4.Delete')"
   ]
  },
  {
   "cell_type": "code",
   "execution_count": 119,
   "id": "26c812bb-10ba-4ca8-aece-abda2d23772b",
   "metadata": {},
   "outputs": [
    {
     "name": "stdout",
     "output_type": "stream",
     "text": [
      "(2, 3, 4)\n"
     ]
    }
   ],
   "source": [
    "print(data.shape)"
   ]
  },
  {
   "cell_type": "code",
   "execution_count": 125,
   "id": "b28a499e-dca3-450a-b93a-7a9d92416150",
   "metadata": {},
   "outputs": [
    {
     "data": {
      "text/plain": [
       "(2, 2, 6)"
      ]
     },
     "execution_count": 125,
     "metadata": {},
     "output_type": "execute_result"
    }
   ],
   "source": [
    "data = data.reshape((2,2,-1))\n",
    "data.shape"
   ]
  },
  {
   "cell_type": "code",
   "execution_count": 128,
   "id": "2954c1ac-2b38-4d9d-9247-a3b534a381eb",
   "metadata": {},
   "outputs": [
    {
     "name": "stdout",
     "output_type": "stream",
     "text": [
      "[0. 0. 0. 0. 0. 0. 0. 0.]\n",
      "[0. 0. 0. 0. 0. 0. 0. 0. 3. 4.]\n"
     ]
    }
   ],
   "source": [
    "zeros = np.zeros(8)\n",
    "print(zeros)\n",
    "zeros = np.append(zeros,[3,4])\n",
    "print(zeros)"
   ]
  },
  {
   "cell_type": "code",
   "execution_count": 131,
   "id": "3ba278fb-27a2-48a8-a5ca-03f9c7887e87",
   "metadata": {},
   "outputs": [
    {
     "name": "stdout",
     "output_type": "stream",
     "text": [
      "[0. 0. 1. 1. 1. 0. 0. 0. 0. 0. 0. 3. 4.]\n"
     ]
    }
   ],
   "source": [
    "#Insert 1 in position 2.\n",
    "zeros= np.insert(zeros,2,1)\n",
    "print(zeros)"
   ]
  },
  {
   "cell_type": "code",
   "execution_count": 132,
   "id": "6e2416e8-d03b-4cec-86e9-95cf9566b7ae",
   "metadata": {},
   "outputs": [
    {
     "name": "stdout",
     "output_type": "stream",
     "text": [
      "4.Delete\n"
     ]
    }
   ],
   "source": [
    "print(\"4.Delete\")"
   ]
  },
  {
   "cell_type": "code",
   "execution_count": 133,
   "id": "f0c60c0e-c711-4036-ae13-64ac0dda06e5",
   "metadata": {},
   "outputs": [
    {
     "data": {
      "text/plain": [
       "array([[[3.47352631e-01, 4.56985724e-01, 6.16572754e-01, 7.00000000e+02,\n",
       "         6.31961943e-02, 1.06530065e-01],\n",
       "        [5.25355400e-01, 6.88372490e-01, 9.59431481e-03, 2.77522342e-01,\n",
       "         5.06131443e-01, 5.99409301e-01]],\n",
       "\n",
       "       [[1.24786737e-01, 3.44557668e-01, 7.86603860e-01, 9.98490423e-01,\n",
       "         6.98601115e-03, 3.46071363e-01],\n",
       "        [3.59770904e-01, 3.68463494e-01, 1.05306063e-01, 7.28755140e-01,\n",
       "         8.59890172e-01, 9.44036029e-01]]])"
      ]
     },
     "execution_count": 133,
     "metadata": {},
     "output_type": "execute_result"
    }
   ],
   "source": [
    "data"
   ]
  },
  {
   "cell_type": "code",
   "execution_count": 135,
   "id": "dcd28916-0990-40e7-8fb6-c2ce240c5c86",
   "metadata": {},
   "outputs": [
    {
     "data": {
      "text/plain": [
       "array([[[0.5253554 , 0.68837249, 0.00959431, 0.27752234, 0.50613144,\n",
       "         0.5994093 ]],\n",
       "\n",
       "       [[0.3597709 , 0.36846349, 0.10530606, 0.72875514, 0.85989017,\n",
       "         0.94403603]]])"
      ]
     },
     "execution_count": 135,
     "metadata": {},
     "output_type": "execute_result"
    }
   ],
   "source": [
    "#Delete The Axis 1 From data.\n",
    "np.delete(data,0,axis=1)"
   ]
  },
  {
   "cell_type": "code",
   "execution_count": 136,
   "id": "6f3d2991-83ce-4458-9dc0-5be627312896",
   "metadata": {},
   "outputs": [],
   "source": [
    "np.save(\"new array\",data)"
   ]
  },
  {
   "cell_type": "code",
   "execution_count": 137,
   "id": "48bc9996-1a07-4920-96c0-bf4f1c50fa8a",
   "metadata": {},
   "outputs": [],
   "source": [
    "test = np.load(\"new array.npy\")"
   ]
  },
  {
   "cell_type": "code",
   "execution_count": 138,
   "id": "c2e210b9-b57b-458c-aaf1-8abce0401d24",
   "metadata": {},
   "outputs": [
    {
     "data": {
      "text/plain": [
       "array([[[3.47352631e-01, 4.56985724e-01, 6.16572754e-01, 7.00000000e+02,\n",
       "         6.31961943e-02, 1.06530065e-01],\n",
       "        [5.25355400e-01, 6.88372490e-01, 9.59431481e-03, 2.77522342e-01,\n",
       "         5.06131443e-01, 5.99409301e-01]],\n",
       "\n",
       "       [[1.24786737e-01, 3.44557668e-01, 7.86603860e-01, 9.98490423e-01,\n",
       "         6.98601115e-03, 3.46071363e-01],\n",
       "        [3.59770904e-01, 3.68463494e-01, 1.05306063e-01, 7.28755140e-01,\n",
       "         8.59890172e-01, 9.44036029e-01]]])"
      ]
     },
     "execution_count": 138,
     "metadata": {},
     "output_type": "execute_result"
    }
   ],
   "source": [
    "test"
   ]
  },
  {
   "cell_type": "code",
   "execution_count": 139,
   "id": "8adf0751-8be6-417d-a25b-00ed360fdfa6",
   "metadata": {},
   "outputs": [
    {
     "name": "stdout",
     "output_type": "stream",
     "text": [
      "NumPy for Beginners in 15 minutes | Python Crash Course Finished\n"
     ]
    }
   ],
   "source": [
    "print(\"NumPy for Beginners in 15 minutes | Python Crash Course Finished\")"
   ]
  },
  {
   "cell_type": "code",
   "execution_count": 140,
   "id": "2fc5890e-2094-4614-a76c-67a58dae6332",
   "metadata": {},
   "outputs": [
    {
     "name": "stdout",
     "output_type": "stream",
     "text": [
      "\n",
      ">>NumPy>>(Numerical Python) Arrays.\n",
      "Mathematical Functions.\n",
      "Linear Algebra.\n",
      "\n"
     ]
    }
   ],
   "source": [
    "print(\n",
    "\"\"\"\n",
    ">>NumPy>>(Numerical Python) Arrays.\n",
    "Mathematical Functions.\n",
    "Linear Algebra.\n",
    "\"\"\"\n",
    ")"
   ]
  },
  {
   "cell_type": "code",
   "execution_count": 141,
   "id": "c851d7e0-da45-4501-b024-cea5b89a4045",
   "metadata": {},
   "outputs": [
    {
     "name": "stdout",
     "output_type": "stream",
     "text": [
      "Ask ChatGPT>>NumPy most used Modules.\n",
      ">>NumPy has several Modules and Submodules that are frequently \n",
      "used in various Scientific Computing and Data Analysis Tasks. \n",
      "Here are some of the most commonly used modules in NumPy.\n",
      "\n"
     ]
    }
   ],
   "source": [
    "print(\"\"\"Ask ChatGPT>>NumPy most used Modules.\n",
    ">>NumPy has several Modules and Submodules that are frequently \n",
    "used in various Scientific Computing and Data Analysis Tasks. \n",
    "Here are some of the most commonly used modules in NumPy.\n",
    "\"\"\")"
   ]
  },
  {
   "cell_type": "code",
   "execution_count": 142,
   "id": "66476372-eca8-4a80-b9b3-fe6417296146",
   "metadata": {},
   "outputs": [
    {
     "name": "stdout",
     "output_type": "stream",
     "text": [
      "NumPy:-The fundamental package for scientific computing with Python\n"
     ]
    }
   ],
   "source": [
    "print(\"NumPy:-The fundamental package for scientific computing with Python\")"
   ]
  },
  {
   "cell_type": "code",
   "execution_count": 143,
   "id": "7910155e-7f57-4b81-9f26-3c04839f88e3",
   "metadata": {},
   "outputs": [
    {
     "name": "stdout",
     "output_type": "stream",
     "text": [
      "Complete>>NumPy Documentation And Ask ChatGPT\n"
     ]
    }
   ],
   "source": [
    "print(\"Complete>>NumPy Documentation And Ask ChatGPT\")"
   ]
  },
  {
   "cell_type": "code",
   "execution_count": null,
   "id": "9295dd69-018c-4e71-ba41-30c59a69b5ca",
   "metadata": {},
   "outputs": [],
   "source": []
  }
 ],
 "metadata": {
  "kernelspec": {
   "display_name": "Python 3 (ipykernel)",
   "language": "python",
   "name": "python3"
  },
  "language_info": {
   "codemirror_mode": {
    "name": "ipython",
    "version": 3
   },
   "file_extension": ".py",
   "mimetype": "text/x-python",
   "name": "python",
   "nbconvert_exporter": "python",
   "pygments_lexer": "ipython3",
   "version": "3.11.7"
  }
 },
 "nbformat": 4,
 "nbformat_minor": 5
}
