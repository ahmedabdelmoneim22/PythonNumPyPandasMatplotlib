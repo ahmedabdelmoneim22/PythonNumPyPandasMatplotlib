{
 "cells": [
  {
   "cell_type": "code",
   "execution_count": 1,
   "id": "d5d1d617-1031-4f18-b915-13d46bda84a5",
   "metadata": {},
   "outputs": [],
   "source": [
    "#Introduction\n",
    "#Variables\n",
    "#Strings\n",
    "#Object Types\n",
    "#Boolean\n",
    "#Comments\n",
    "#Sequences (Iterables)\n",
    "#Lists\n",
    "#range()\n",
    "#Tuples\n",
    "#Strings as Iterables\n",
    "#Sets\n",
    "#Dictionaries\n",
    "#Strings - A Deeper Look\n",
    "#If Statement\n",
    "#while Loop\n",
    "#for Loop\n",
    "#Functions\n",
    "#Classes\n",
    "#Modules and Packages\n",
    "#Python Standard Library Tour\n",
    "#Working with Files\n",
    "#Testing and Exception Handling\n",
    "#Bonus and Quiz"
   ]
  },
  {
   "cell_type": "code",
   "execution_count": 1,
   "id": "c1d09103-43e1-4cbd-b712-f6684d235fb9",
   "metadata": {},
   "outputs": [],
   "source": [
    "#Variables"
   ]
  },
  {
   "cell_type": "code",
   "execution_count": 2,
   "id": "fe3c466b-c993-4289-8c56-b96d21d1b75f",
   "metadata": {},
   "outputs": [
    {
     "data": {
      "text/plain": [
       "13"
      ]
     },
     "execution_count": 2,
     "metadata": {},
     "output_type": "execute_result"
    }
   ],
   "source": [
    "13"
   ]
  },
  {
   "cell_type": "code",
   "execution_count": 3,
   "id": "9c27e222-abe5-4bc5-bcf1-348016f67249",
   "metadata": {},
   "outputs": [
    {
     "data": {
      "text/plain": [
       "114"
      ]
     },
     "execution_count": 3,
     "metadata": {},
     "output_type": "execute_result"
    }
   ],
   "source": [
    "29 + 85"
   ]
  },
  {
   "cell_type": "code",
   "execution_count": 4,
   "id": "1a22350b-2a15-45a4-b4e7-1a2e601b191d",
   "metadata": {},
   "outputs": [
    {
     "data": {
      "text/plain": [
       "12.8"
      ]
     },
     "execution_count": 4,
     "metadata": {},
     "output_type": "execute_result"
    }
   ],
   "source": [
    "12.8"
   ]
  },
  {
   "cell_type": "code",
   "execution_count": 5,
   "id": "afc2a403-2e5f-46a2-97b7-addd5d30f74b",
   "metadata": {},
   "outputs": [
    {
     "data": {
      "text/plain": [
       "21.75"
      ]
     },
     "execution_count": 5,
     "metadata": {},
     "output_type": "execute_result"
    }
   ],
   "source": [
    "5 * (12.7 - 4) / 2"
   ]
  },
  {
   "cell_type": "code",
   "execution_count": 6,
   "id": "63ea37f0-2d0e-4c54-8749-1ce0d3ceeec6",
   "metadata": {},
   "outputs": [
    {
     "data": {
      "text/plain": [
       "'Hello World'"
      ]
     },
     "execution_count": 6,
     "metadata": {},
     "output_type": "execute_result"
    }
   ],
   "source": [
    "'Hello World'"
   ]
  },
  {
   "cell_type": "code",
   "execution_count": 7,
   "id": "60de0180-a580-46c5-a1bc-7b9deb6d8bb4",
   "metadata": {},
   "outputs": [],
   "source": [
    "#Variables and Assignment Statements"
   ]
  },
  {
   "cell_type": "code",
   "execution_count": 8,
   "id": "5d118dc8-fffb-4219-bf93-9255e6bbf88f",
   "metadata": {},
   "outputs": [],
   "source": [
    "x = 7"
   ]
  },
  {
   "cell_type": "code",
   "execution_count": 9,
   "id": "7da64956-4be3-4c03-a55e-634af3119b05",
   "metadata": {},
   "outputs": [],
   "source": [
    "y = 3"
   ]
  },
  {
   "cell_type": "code",
   "execution_count": 10,
   "id": "6d45ea95-ae9a-46b4-b9d1-54fd36776f4c",
   "metadata": {},
   "outputs": [
    {
     "data": {
      "text/plain": [
       "10"
      ]
     },
     "execution_count": 10,
     "metadata": {},
     "output_type": "execute_result"
    }
   ],
   "source": [
    "x + y"
   ]
  },
  {
   "cell_type": "code",
   "execution_count": 11,
   "id": "4a97111e-1b02-40de-a97a-6669abffd1ed",
   "metadata": {},
   "outputs": [],
   "source": [
    "total = x + y"
   ]
  },
  {
   "cell_type": "code",
   "execution_count": 12,
   "id": "2f084ab8-e352-4a33-9b68-e40263d428ce",
   "metadata": {},
   "outputs": [
    {
     "data": {
      "text/plain": [
       "10"
      ]
     },
     "execution_count": 12,
     "metadata": {},
     "output_type": "execute_result"
    }
   ],
   "source": [
    "total"
   ]
  },
  {
   "cell_type": "code",
   "execution_count": 13,
   "id": "8b460b88-7701-4c66-9e06-8f0171255d67",
   "metadata": {},
   "outputs": [],
   "source": [
    "x = 9.3 # float"
   ]
  },
  {
   "cell_type": "code",
   "execution_count": 14,
   "id": "ee91816d-fbb6-4ea7-887f-312c1ff95962",
   "metadata": {},
   "outputs": [],
   "source": [
    "y = -2 # integer"
   ]
  },
  {
   "cell_type": "code",
   "execution_count": 15,
   "id": "6772df03-70db-4bd5-adf8-cc54e6625c97",
   "metadata": {},
   "outputs": [
    {
     "data": {
      "text/plain": [
       "11.3"
      ]
     },
     "execution_count": 15,
     "metadata": {},
     "output_type": "execute_result"
    }
   ],
   "source": [
    "x - y"
   ]
  },
  {
   "cell_type": "code",
   "execution_count": 16,
   "id": "28472fcd-c804-42a3-b553-48df19a58cef",
   "metadata": {},
   "outputs": [],
   "source": [
    "# Very large numbers can be more readable by underscores"
   ]
  },
  {
   "cell_type": "code",
   "execution_count": 17,
   "id": "0e3eeaa9-3bdf-4a6f-9e56-7569030b96ca",
   "metadata": {},
   "outputs": [
    {
     "data": {
      "text/plain": [
       "14000000000"
      ]
     },
     "execution_count": 17,
     "metadata": {},
     "output_type": "execute_result"
    }
   ],
   "source": [
    "universe_age = 14_000_000_000\n",
    "universe_age"
   ]
  },
  {
   "cell_type": "code",
   "execution_count": 18,
   "id": "b1fe9b70-dcf6-48d4-b653-b7b878a9a096",
   "metadata": {},
   "outputs": [],
   "source": [
    "# multiple Assignments\n",
    "x, y, z = 1, 2, 3"
   ]
  },
  {
   "cell_type": "code",
   "execution_count": 19,
   "id": "4bb8fc5f-625a-4acf-b9c4-1cc25d239851",
   "metadata": {},
   "outputs": [
    {
     "data": {
      "text/plain": [
       "3"
      ]
     },
     "execution_count": 19,
     "metadata": {},
     "output_type": "execute_result"
    }
   ],
   "source": [
    "z"
   ]
  },
  {
   "cell_type": "code",
   "execution_count": 20,
   "id": "7ec4e795-73e6-4abf-be71-0ee4d7c04ae1",
   "metadata": {},
   "outputs": [],
   "source": [
    "x = y = 108"
   ]
  },
  {
   "cell_type": "code",
   "execution_count": 21,
   "id": "6b5d0bd5-e2c0-40ad-ba72-957955a651e1",
   "metadata": {},
   "outputs": [
    {
     "data": {
      "text/plain": [
       "108"
      ]
     },
     "execution_count": 21,
     "metadata": {},
     "output_type": "execute_result"
    }
   ],
   "source": [
    "x"
   ]
  },
  {
   "cell_type": "code",
   "execution_count": 22,
   "id": "e6d53f56-76a4-4bb3-b54c-0b23fae4f97f",
   "metadata": {},
   "outputs": [
    {
     "data": {
      "text/plain": [
       "108"
      ]
     },
     "execution_count": 22,
     "metadata": {},
     "output_type": "execute_result"
    }
   ],
   "source": [
    "y"
   ]
  },
  {
   "cell_type": "code",
   "execution_count": 23,
   "id": "8f725ff6-d926-40bf-9102-c6ade18dfc81",
   "metadata": {},
   "outputs": [],
   "source": [
    "#Assignment Operators"
   ]
  },
  {
   "cell_type": "code",
   "execution_count": 24,
   "id": "1ffe18b7-b4b5-4345-b709-2a10cb6d4e4a",
   "metadata": {},
   "outputs": [],
   "source": [
    "x = 5"
   ]
  },
  {
   "cell_type": "code",
   "execution_count": 25,
   "id": "42325d95-5d27-42d2-9250-162e95d3108a",
   "metadata": {},
   "outputs": [],
   "source": [
    "x = x + 3"
   ]
  },
  {
   "cell_type": "code",
   "execution_count": 26,
   "id": "c251cf18-8e89-448b-b8c4-d966dc6a4c78",
   "metadata": {},
   "outputs": [],
   "source": [
    "x = x - 3"
   ]
  },
  {
   "cell_type": "code",
   "execution_count": 27,
   "id": "490156a4-1504-4f00-b21c-d6f7c35c4816",
   "metadata": {},
   "outputs": [],
   "source": [
    "x = x * 3"
   ]
  },
  {
   "cell_type": "code",
   "execution_count": 28,
   "id": "72e0435a-8f0a-4582-b6bd-c51ef0ac32e1",
   "metadata": {},
   "outputs": [],
   "source": [
    "x = x / 3"
   ]
  },
  {
   "cell_type": "code",
   "execution_count": 29,
   "id": "4f60154c-4e80-4365-978c-75b360efe25a",
   "metadata": {},
   "outputs": [],
   "source": [
    "x = x % 3"
   ]
  },
  {
   "cell_type": "code",
   "execution_count": 30,
   "id": "3547754d-0797-400e-9e16-b6895d10f491",
   "metadata": {},
   "outputs": [],
   "source": [
    "x = x // 3"
   ]
  },
  {
   "cell_type": "code",
   "execution_count": 31,
   "id": "f5f3819b-60d5-4b38-9ac1-51168d204d4c",
   "metadata": {},
   "outputs": [],
   "source": [
    "x = x**3"
   ]
  },
  {
   "cell_type": "code",
   "execution_count": 33,
   "id": "a228f89a-3545-47cd-a568-d26c76e2e2ac",
   "metadata": {},
   "outputs": [
    {
     "name": "stdout",
     "output_type": "stream",
     "text": [
      "20\n",
      "10\n",
      "100\n",
      "100000000000000000000\n"
     ]
    }
   ],
   "source": [
    "x = 10\n",
    "\n",
    "x += 10\n",
    "print(x)\n",
    "\n",
    "x -=10\n",
    "print(x)\n",
    "\n",
    "x*=10\n",
    "print(x)\n",
    "\n",
    "x **= 10\n",
    "print(x)"
   ]
  },
  {
   "cell_type": "code",
   "execution_count": 34,
   "id": "ac52baee-bfa9-4395-86ca-30a24b759746",
   "metadata": {},
   "outputs": [],
   "source": [
    "#Arithmetic Operations"
   ]
  },
  {
   "cell_type": "code",
   "execution_count": 35,
   "id": "fc862d06-71f4-48c1-a0f2-0112390b823f",
   "metadata": {},
   "outputs": [
    {
     "data": {
      "text/plain": [
       "100"
      ]
     },
     "execution_count": 35,
     "metadata": {},
     "output_type": "execute_result"
    }
   ],
   "source": [
    "abs(-100)"
   ]
  },
  {
   "cell_type": "code",
   "execution_count": 36,
   "id": "b9ccaba0-215f-4986-97de-35bb2593730a",
   "metadata": {},
   "outputs": [
    {
     "data": {
      "text/plain": [
       "100"
      ]
     },
     "execution_count": 36,
     "metadata": {},
     "output_type": "execute_result"
    }
   ],
   "source": [
    "int(100.5)"
   ]
  },
  {
   "cell_type": "code",
   "execution_count": 37,
   "id": "bdb55f3b-6072-4ea8-bd60-b140a2e0112b",
   "metadata": {},
   "outputs": [
    {
     "data": {
      "text/plain": [
       "100.0"
      ]
     },
     "execution_count": 37,
     "metadata": {},
     "output_type": "execute_result"
    }
   ],
   "source": [
    "float(100)"
   ]
  },
  {
   "cell_type": "code",
   "execution_count": 39,
   "id": "ed2e6433-d44e-4236-b971-1fb7e4c774e2",
   "metadata": {},
   "outputs": [
    {
     "data": {
      "text/plain": [
       "8"
      ]
     },
     "execution_count": 39,
     "metadata": {},
     "output_type": "execute_result"
    }
   ],
   "source": [
    "pow(2,3)#2Power3"
   ]
  },
  {
   "cell_type": "code",
   "execution_count": 41,
   "id": "4a5a684f-a3d5-4d77-9e20-fb8607b1526a",
   "metadata": {},
   "outputs": [
    {
     "data": {
      "text/plain": [
       "10000000000"
      ]
     },
     "execution_count": 41,
     "metadata": {},
     "output_type": "execute_result"
    }
   ],
   "source": [
    "10**10#10Power10"
   ]
  },
  {
   "cell_type": "code",
   "execution_count": 42,
   "id": "dda7aa8c-abf6-4fc3-b092-248326d5373d",
   "metadata": {},
   "outputs": [
    {
     "data": {
      "text/plain": [
       "28"
      ]
     },
     "execution_count": 42,
     "metadata": {},
     "output_type": "execute_result"
    }
   ],
   "source": [
    "7 * 4"
   ]
  },
  {
   "cell_type": "code",
   "execution_count": 45,
   "id": "5c2fdf6d-fd1d-46a1-a32f-be852b275870",
   "metadata": {},
   "outputs": [
    {
     "data": {
      "text/plain": [
       "1024"
      ]
     },
     "execution_count": 45,
     "metadata": {},
     "output_type": "execute_result"
    }
   ],
   "source": [
    "2 ** 10#2Power10"
   ]
  },
  {
   "cell_type": "code",
   "execution_count": 46,
   "id": "0f746683-3d7a-4340-aa8a-fd93082a7e21",
   "metadata": {},
   "outputs": [
    {
     "data": {
      "text/plain": [
       "3.0"
      ]
     },
     "execution_count": 46,
     "metadata": {},
     "output_type": "execute_result"
    }
   ],
   "source": [
    "9 ** (1/2)"
   ]
  },
  {
   "cell_type": "code",
   "execution_count": 47,
   "id": "61c21cc7-a849-4290-b814-0a5db246d6c4",
   "metadata": {},
   "outputs": [],
   "source": [
    "#True&Floor Divistion"
   ]
  },
  {
   "cell_type": "code",
   "execution_count": 48,
   "id": "cc6890d7-86c1-4c2d-bb0d-fb45e2e84e88",
   "metadata": {},
   "outputs": [
    {
     "data": {
      "text/plain": [
       "1.75"
      ]
     },
     "execution_count": 48,
     "metadata": {},
     "output_type": "execute_result"
    }
   ],
   "source": [
    "7 / 4"
   ]
  },
  {
   "cell_type": "code",
   "execution_count": 49,
   "id": "034a38d2-eba5-4f13-b8e5-8e78a813184c",
   "metadata": {},
   "outputs": [
    {
     "data": {
      "text/plain": [
       "1"
      ]
     },
     "execution_count": 49,
     "metadata": {},
     "output_type": "execute_result"
    }
   ],
   "source": [
    "7 // 4"
   ]
  },
  {
   "cell_type": "code",
   "execution_count": 50,
   "id": "146373f9-142b-49b5-a51d-5dc798e08ea0",
   "metadata": {},
   "outputs": [
    {
     "data": {
      "text/plain": [
       "0"
      ]
     },
     "execution_count": 50,
     "metadata": {},
     "output_type": "execute_result"
    }
   ],
   "source": [
    "3 // 5"
   ]
  },
  {
   "cell_type": "code",
   "execution_count": 51,
   "id": "8d8b09af-da6e-456d-af46-15a9a57ec2aa",
   "metadata": {},
   "outputs": [
    {
     "data": {
      "text/plain": [
       "2"
      ]
     },
     "execution_count": 51,
     "metadata": {},
     "output_type": "execute_result"
    }
   ],
   "source": [
    "14 // 7"
   ]
  },
  {
   "cell_type": "code",
   "execution_count": 52,
   "id": "969db9b2-26da-4402-9a4b-ffef53b9a488",
   "metadata": {},
   "outputs": [
    {
     "data": {
      "text/plain": [
       "-2"
      ]
     },
     "execution_count": 52,
     "metadata": {},
     "output_type": "execute_result"
    }
   ],
   "source": [
    "-14 // 7"
   ]
  },
  {
   "cell_type": "code",
   "execution_count": 53,
   "id": "c2ddf6c4-58b2-418b-b546-bdbd4964767f",
   "metadata": {},
   "outputs": [
    {
     "data": {
      "text/plain": [
       "-4"
      ]
     },
     "execution_count": 53,
     "metadata": {},
     "output_type": "execute_result"
    }
   ],
   "source": [
    "-13 // 4"
   ]
  },
  {
   "cell_type": "code",
   "execution_count": 54,
   "id": "7d67defd-2751-462e-811e-8ce591ff9975",
   "metadata": {},
   "outputs": [
    {
     "name": "stdout",
     "output_type": "stream",
     "text": [
      "1.5\n"
     ]
    }
   ],
   "source": [
    "print(3.0/2)"
   ]
  },
  {
   "cell_type": "code",
   "execution_count": 55,
   "id": "ec9f7620-6410-4439-b443-9555b9acc521",
   "metadata": {},
   "outputs": [
    {
     "data": {
      "text/plain": [
       "3.0"
      ]
     },
     "execution_count": 55,
     "metadata": {},
     "output_type": "execute_result"
    }
   ],
   "source": [
    "1.0 + 2"
   ]
  },
  {
   "cell_type": "code",
   "execution_count": 56,
   "id": "6e906f5f-ac1a-4b44-91f0-e6a01a9fc3c4",
   "metadata": {},
   "outputs": [
    {
     "ename": "ZeroDivisionError",
     "evalue": "division by zero",
     "output_type": "error",
     "traceback": [
      "\u001b[1;31m---------------------------------------------------------------------------\u001b[0m",
      "\u001b[1;31mZeroDivisionError\u001b[0m                         Traceback (most recent call last)",
      "Cell \u001b[1;32mIn[56], line 1\u001b[0m\n\u001b[1;32m----> 1\u001b[0m \u001b[38;5;241m123\u001b[39m\u001b[38;5;241m/\u001b[39m\u001b[38;5;241m0\u001b[39m\n",
      "\u001b[1;31mZeroDivisionError\u001b[0m: division by zero"
     ]
    }
   ],
   "source": [
    "123/0"
   ]
  },
  {
   "cell_type": "code",
   "execution_count": 57,
   "id": "8af5861e-45ea-405d-bd14-521cbd75987e",
   "metadata": {},
   "outputs": [
    {
     "ename": "NameError",
     "evalue": "name 'q' is not defined",
     "output_type": "error",
     "traceback": [
      "\u001b[1;31m---------------------------------------------------------------------------\u001b[0m",
      "\u001b[1;31mNameError\u001b[0m                                 Traceback (most recent call last)",
      "Cell \u001b[1;32mIn[57], line 1\u001b[0m\n\u001b[1;32m----> 1\u001b[0m q \u001b[38;5;241m/\u001b[39m \u001b[38;5;241m7\u001b[39m\n",
      "\u001b[1;31mNameError\u001b[0m: name 'q' is not defined"
     ]
    }
   ],
   "source": [
    "q / 7"
   ]
  },
  {
   "cell_type": "code",
   "execution_count": 58,
   "id": "1f16ac8b-f8a5-43f7-bdbd-40096aa26833",
   "metadata": {},
   "outputs": [
    {
     "data": {
      "text/plain": [
       "2"
      ]
     },
     "execution_count": 58,
     "metadata": {},
     "output_type": "execute_result"
    }
   ],
   "source": [
    "17 % 5"
   ]
  },
  {
   "cell_type": "code",
   "execution_count": 59,
   "id": "5c83ea6a-5b0a-4dad-a557-f111aca8b398",
   "metadata": {},
   "outputs": [
    {
     "data": {
      "text/plain": [
       "0.5"
      ]
     },
     "execution_count": 59,
     "metadata": {},
     "output_type": "execute_result"
    }
   ],
   "source": [
    "7.5 % 3.5"
   ]
  },
  {
   "cell_type": "code",
   "execution_count": 60,
   "id": "27495140-e569-4c16-982b-0275a49da656",
   "metadata": {},
   "outputs": [
    {
     "data": {
      "text/plain": [
       "0"
      ]
     },
     "execution_count": 60,
     "metadata": {},
     "output_type": "execute_result"
    }
   ],
   "source": [
    "4 % 2"
   ]
  },
  {
   "cell_type": "code",
   "execution_count": 61,
   "id": "35143195-bd6e-49d3-ad47-4b25dfdb45f4",
   "metadata": {},
   "outputs": [
    {
     "data": {
      "text/plain": [
       "80"
      ]
     },
     "execution_count": 61,
     "metadata": {},
     "output_type": "execute_result"
    }
   ],
   "source": [
    "10 * (5 + 3)"
   ]
  },
  {
   "cell_type": "code",
   "execution_count": 62,
   "id": "d5fd25b0-a282-45e5-ac85-9c0db440495e",
   "metadata": {},
   "outputs": [
    {
     "data": {
      "text/plain": [
       "53"
      ]
     },
     "execution_count": 62,
     "metadata": {},
     "output_type": "execute_result"
    }
   ],
   "source": [
    "10 * 5 + 3"
   ]
  },
  {
   "cell_type": "code",
   "execution_count": 63,
   "id": "9ecdfc37-475d-4e74-bb43-4839abe6973b",
   "metadata": {},
   "outputs": [],
   "source": [
    "#Strings"
   ]
  },
  {
   "cell_type": "code",
   "execution_count": 64,
   "id": "c6fdb368-8c6a-43e4-9ef6-dfe58687a235",
   "metadata": {},
   "outputs": [
    {
     "data": {
      "text/plain": [
       "'This is a string'"
      ]
     },
     "execution_count": 64,
     "metadata": {},
     "output_type": "execute_result"
    }
   ],
   "source": [
    "\"This is a string\""
   ]
  },
  {
   "cell_type": "code",
   "execution_count": 65,
   "id": "5c22b431-fa3f-48ab-8c9e-29a521df0fc0",
   "metadata": {},
   "outputs": [
    {
     "data": {
      "text/plain": [
       "'This is also a string'"
      ]
     },
     "execution_count": 65,
     "metadata": {},
     "output_type": "execute_result"
    }
   ],
   "source": [
    "'This is also a string'"
   ]
  },
  {
   "cell_type": "code",
   "execution_count": 66,
   "id": "cd566ed7-2801-4160-ae26-31cb2f58e9e6",
   "metadata": {},
   "outputs": [
    {
     "data": {
      "text/plain": [
       "'I told my friend, \"Python is my favorite language!\"'"
      ]
     },
     "execution_count": 66,
     "metadata": {},
     "output_type": "execute_result"
    }
   ],
   "source": [
    "'I told my friend, \"Python is my favorite language!\"'"
   ]
  },
  {
   "cell_type": "code",
   "execution_count": 67,
   "id": "08a2a77e-0370-4a01-a866-2ddd10f4b421",
   "metadata": {},
   "outputs": [
    {
     "data": {
      "text/plain": [
       "'Helo World I AM AhmedAbdelMoneimAlSaidi'"
      ]
     },
     "execution_count": 67,
     "metadata": {},
     "output_type": "execute_result"
    }
   ],
   "source": [
    "\"Helo World I AM AhmedAbdelMoneimAlSaidi\""
   ]
  },
  {
   "cell_type": "code",
   "execution_count": 68,
   "id": "4cbe27c5-2f1f-43e2-bf01-73455f50db8d",
   "metadata": {},
   "outputs": [
    {
     "data": {
      "text/plain": [
       "\"A'hme'd\""
      ]
     },
     "execution_count": 68,
     "metadata": {},
     "output_type": "execute_result"
    }
   ],
   "source": [
    "'A\\'hme\\'d'"
   ]
  },
  {
   "cell_type": "code",
   "execution_count": 69,
   "id": "dcc42e86-5a95-4dc3-95d5-b22900649e89",
   "metadata": {},
   "outputs": [
    {
     "data": {
      "text/plain": [
       "\"Ahmed is 'Canadian' and 'American' DataWarehouse-Engineer\""
      ]
     },
     "execution_count": 69,
     "metadata": {},
     "output_type": "execute_result"
    }
   ],
   "source": [
    "\"\"\"Ahmed is 'Canadian' and 'American' DataWarehouse-Engineer\"\"\""
   ]
  },
  {
   "cell_type": "code",
   "execution_count": 71,
   "id": "19d0cdf9-e69c-4de5-9d2b-f58ee8d30198",
   "metadata": {},
   "outputs": [
    {
     "data": {
      "text/plain": [
       "'Build in Functions'"
      ]
     },
     "execution_count": 71,
     "metadata": {},
     "output_type": "execute_result"
    }
   ],
   "source": [
    "\"Build in Functions\""
   ]
  },
  {
   "cell_type": "code",
   "execution_count": 72,
   "id": "ee42e39a-7dda-404e-8270-3dc682a9b4f4",
   "metadata": {},
   "outputs": [
    {
     "data": {
      "text/plain": [
       "'python Build in Functions Alphabets'"
      ]
     },
     "execution_count": 72,
     "metadata": {},
     "output_type": "execute_result"
    }
   ],
   "source": [
    "\"python Build in Functions Alphabets\""
   ]
  },
  {
   "cell_type": "code",
   "execution_count": 73,
   "id": "d5ba45c7-df24-4348-a3ad-e99f33ff8607",
   "metadata": {},
   "outputs": [
    {
     "data": {
      "text/plain": [
       "'3.12.4 Documentation » The Python Standard Library » Built-in Functions'"
      ]
     },
     "execution_count": 73,
     "metadata": {},
     "output_type": "execute_result"
    }
   ],
   "source": [
    "\"3.12.4 Documentation » The Python Standard Library » Built-in Functions\""
   ]
  },
  {
   "cell_type": "code",
   "execution_count": 74,
   "id": "dd70a802-df15-4ef8-8dcb-9a7274dc065a",
   "metadata": {},
   "outputs": [
    {
     "name": "stdout",
     "output_type": "stream",
     "text": [
      "Build In Functions\n"
     ]
    }
   ],
   "source": [
    "print(\"Build In Functions\")"
   ]
  },
  {
   "cell_type": "code",
   "execution_count": 76,
   "id": "78d80acf-c22b-45d9-848a-1cc8e7b029e0",
   "metadata": {},
   "outputs": [
    {
     "data": {
      "text/plain": [
       "'Using-Build-in-Functions'"
      ]
     },
     "execution_count": 76,
     "metadata": {},
     "output_type": "execute_result"
    }
   ],
   "source": [
    "\"Using-Build-in-Functions\""
   ]
  },
  {
   "cell_type": "code",
   "execution_count": 78,
   "id": "5d1b02ea-c4a2-4d0a-8dfd-7e913ece515f",
   "metadata": {},
   "outputs": [
    {
     "name": "stdout",
     "output_type": "stream",
     "text": [
      "Welcome to Python\n"
     ]
    }
   ],
   "source": [
    "print(\"Welcome to Python\")"
   ]
  },
  {
   "cell_type": "code",
   "execution_count": 79,
   "id": "a860bf20-5fa0-4f15-8883-fc950153a6d5",
   "metadata": {},
   "outputs": [
    {
     "data": {
      "text/plain": [
       "45"
      ]
     },
     "execution_count": 79,
     "metadata": {},
     "output_type": "execute_result"
    }
   ],
   "source": [
    "abs(-45)"
   ]
  },
  {
   "cell_type": "code",
   "execution_count": 81,
   "id": "faf04b9e-a33d-4fc5-8f01-7c621dfe9fdf",
   "metadata": {},
   "outputs": [
    {
     "data": {
      "text/plain": [
       "'E'"
      ]
     },
     "execution_count": 81,
     "metadata": {},
     "output_type": "execute_result"
    }
   ],
   "source": [
    "chr(69)#Unicode Characters"
   ]
  },
  {
   "cell_type": "code",
   "execution_count": 82,
   "id": "b6719d57-2dbc-40eb-85ce-1f1b66a045d0",
   "metadata": {},
   "outputs": [
    {
     "data": {
      "text/plain": [
       "77"
      ]
     },
     "execution_count": 82,
     "metadata": {},
     "output_type": "execute_result"
    }
   ],
   "source": [
    "ord('M')"
   ]
  },
  {
   "cell_type": "code",
   "execution_count": 83,
   "id": "90d6da4b-a76c-41a4-8d33-4fda187eb499",
   "metadata": {},
   "outputs": [
    {
     "data": {
      "text/plain": [
       "6"
      ]
     },
     "execution_count": 83,
     "metadata": {},
     "output_type": "execute_result"
    }
   ],
   "source": [
    "len('Python')"
   ]
  },
  {
   "cell_type": "code",
   "execution_count": 84,
   "id": "349ab005-7d9c-41d5-b943-daf1d6f81375",
   "metadata": {},
   "outputs": [
    {
     "data": {
      "text/plain": [
       "56"
      ]
     },
     "execution_count": 84,
     "metadata": {},
     "output_type": "execute_result"
    }
   ],
   "source": [
    "max(45,12,-90,56,1)"
   ]
  },
  {
   "cell_type": "code",
   "execution_count": 85,
   "id": "c8b963f1-b2b3-47e7-b0d3-254669a30964",
   "metadata": {},
   "outputs": [
    {
     "data": {
      "text/plain": [
       "-90"
      ]
     },
     "execution_count": 85,
     "metadata": {},
     "output_type": "execute_result"
    }
   ],
   "source": [
    "min(45,12,-90,56,1)"
   ]
  },
  {
   "cell_type": "code",
   "execution_count": 86,
   "id": "e6b44ce1-495e-4743-b029-c5f41d46688e",
   "metadata": {},
   "outputs": [
    {
     "data": {
      "text/plain": [
       "24"
      ]
     },
     "execution_count": 86,
     "metadata": {},
     "output_type": "execute_result"
    }
   ],
   "source": [
    "sum([45,12,-90,56,1])"
   ]
  },
  {
   "cell_type": "code",
   "execution_count": 87,
   "id": "8f0241d4-a099-4641-bcb2-a51f727cedb9",
   "metadata": {},
   "outputs": [
    {
     "name": "stdout",
     "output_type": "stream",
     "text": [
      "I am 24 years old\n"
     ]
    }
   ],
   "source": [
    "age = 24\n",
    "print('I am',age,'years old')"
   ]
  },
  {
   "cell_type": "code",
   "execution_count": 88,
   "id": "e7911df4-efa8-44fd-a2bd-151502ef0936",
   "metadata": {},
   "outputs": [
    {
     "name": "stdout",
     "output_type": "stream",
     "text": [
      "\tPython\n"
     ]
    }
   ],
   "source": [
    "print(\"\\tPython\")"
   ]
  },
  {
   "cell_type": "code",
   "execution_count": 89,
   "id": "0eb672a9-28cb-4ac8-bab6-a73f578ee966",
   "metadata": {},
   "outputs": [
    {
     "name": "stdout",
     "output_type": "stream",
     "text": [
      "Languages:\n",
      "Python\n",
      "SQL\n",
      "R\n"
     ]
    }
   ],
   "source": [
    "print(\"Languages:\\nPython\\nSQL\\nR\")"
   ]
  },
  {
   "cell_type": "code",
   "execution_count": 90,
   "id": "61987a17-3c65-4e45-8a16-9e39fc141f9d",
   "metadata": {},
   "outputs": [
    {
     "name": "stdout",
     "output_type": "stream",
     "text": [
      "Python\n",
      "SQL\n",
      "PowerBI\n",
      "Excel\n",
      "DataWarehouse\n"
     ]
    }
   ],
   "source": [
    "print(\"Python\\nSQL\\nPowerBI\\nExcel\\nDataWarehouse\")"
   ]
  },
  {
   "cell_type": "code",
   "execution_count": 91,
   "id": "e94e625b-e4b4-4253-b834-d980876490ad",
   "metadata": {},
   "outputs": [
    {
     "name": "stdout",
     "output_type": "stream",
     "text": [
      "Using input() build-in Functions\n"
     ]
    }
   ],
   "source": [
    "print(\"Using input() build-in Functions\")"
   ]
  },
  {
   "cell_type": "code",
   "execution_count": 92,
   "id": "7c73e964-b7e1-42e2-a9e6-53650cbfba43",
   "metadata": {},
   "outputs": [
    {
     "name": "stdin",
     "output_type": "stream",
     "text": [
      "What's your name? Ahmed Abdel Moneim Al Saidi\n"
     ]
    }
   ],
   "source": [
    "name = input(\"What's your name?\")"
   ]
  },
  {
   "cell_type": "code",
   "execution_count": 93,
   "id": "366c22d5-d5cd-401a-b5c1-c4093dee9aab",
   "metadata": {},
   "outputs": [
    {
     "data": {
      "text/plain": [
       "'Ahmed Abdel Moneim Al Saidi'"
      ]
     },
     "execution_count": 93,
     "metadata": {},
     "output_type": "execute_result"
    }
   ],
   "source": [
    "name"
   ]
  },
  {
   "cell_type": "code",
   "execution_count": 94,
   "id": "afb698f2-92db-4c27-b219-fb3477d958e9",
   "metadata": {},
   "outputs": [
    {
     "name": "stdout",
     "output_type": "stream",
     "text": [
      "Ahmed Abdel Moneim Al Saidi\n"
     ]
    }
   ],
   "source": [
    "print(name)"
   ]
  },
  {
   "cell_type": "code",
   "execution_count": 95,
   "id": "8b3056be-5655-40b5-ae8b-36dd474aba05",
   "metadata": {},
   "outputs": [
    {
     "name": "stdin",
     "output_type": "stream",
     "text": [
      "what's your name?  Ahmed Abdel Moneim Al Saidi\n"
     ]
    },
    {
     "name": "stdout",
     "output_type": "stream",
     "text": [
      "Hello Mr. Ahmed Abdel Moneim Al Saidi\n"
     ]
    }
   ],
   "source": [
    "name = input(\"what's your name? \")\n",
    "print('Hello Mr. ' + name)"
   ]
  },
  {
   "cell_type": "code",
   "execution_count": 99,
   "id": "6b2b4214-6370-4887-831a-8ba6bc103789",
   "metadata": {},
   "outputs": [
    {
     "name": "stdin",
     "output_type": "stream",
     "text": [
      "What is your name?  AhmedAlSaidi\n",
      "And what is your age?  23\n"
     ]
    },
    {
     "name": "stdout",
     "output_type": "stream",
     "text": [
      "Hi AhmedAlSaidi you are 23 year old\n"
     ]
    }
   ],
   "source": [
    "name = input(\"What is your name? \")\n",
    "age = input(\"And what is your age? \")\n",
    "print('Hi',name,'you are',age,'year old')"
   ]
  },
  {
   "cell_type": "code",
   "execution_count": 97,
   "id": "83815a97-475b-406b-aa95-14f221410350",
   "metadata": {},
   "outputs": [
    {
     "data": {
      "text/plain": [
       "'Function input() Always Return a String'"
      ]
     },
     "execution_count": 97,
     "metadata": {},
     "output_type": "execute_result"
    }
   ],
   "source": [
    "'Function input() Always Return a String'"
   ]
  },
  {
   "cell_type": "code",
   "execution_count": 98,
   "id": "89048f20-9301-4ee7-9be5-2df09173fcfd",
   "metadata": {},
   "outputs": [
    {
     "name": "stdin",
     "output_type": "stream",
     "text": [
      "Enter first number:  Ahmed\n",
      "Enter second number:  Al Saidi\n"
     ]
    },
    {
     "data": {
      "text/plain": [
       "'AhmedAl Saidi'"
      ]
     },
     "execution_count": 98,
     "metadata": {},
     "output_type": "execute_result"
    }
   ],
   "source": [
    "value1 = input('Enter first number: ')\n",
    "value2 = input('Enter second number: ')\n",
    "value1+value2"
   ]
  },
  {
   "cell_type": "code",
   "execution_count": 100,
   "id": "0d9a7885-35e8-43a7-a0c7-05720a174fef",
   "metadata": {},
   "outputs": [
    {
     "name": "stdin",
     "output_type": "stream",
     "text": [
      "What is your name?  Ahmed AlSaidi\n",
      "And what is your birth?  24\n"
     ]
    },
    {
     "name": "stdout",
     "output_type": "stream",
     "text": [
      "Hi Ahmed AlSaidi you are 1997 year old\n"
     ]
    }
   ],
   "source": [
    "name = input(\"What is your name? \")\n",
    "Year = input(\"And what is your birth? \")\n",
    "age = 2021 - int(Year)\n",
    "print('Hi',name,'you are',age,'year old')"
   ]
  },
  {
   "cell_type": "code",
   "execution_count": 103,
   "id": "696430d3-faf1-45b5-963d-e87588ac0866",
   "metadata": {},
   "outputs": [
    {
     "name": "stdin",
     "output_type": "stream",
     "text": [
      "Enter an integer:  120\n"
     ]
    }
   ],
   "source": [
    "value = input('Enter an integer: ')"
   ]
  },
  {
   "cell_type": "code",
   "execution_count": 104,
   "id": "22b73f3a-f478-4a47-89cf-721445f6129b",
   "metadata": {},
   "outputs": [
    {
     "data": {
      "text/plain": [
       "'120'"
      ]
     },
     "execution_count": 104,
     "metadata": {},
     "output_type": "execute_result"
    }
   ],
   "source": [
    "value"
   ]
  },
  {
   "cell_type": "code",
   "execution_count": 105,
   "id": "8b16be4c-1eeb-4720-8562-49efaa11e7fe",
   "metadata": {},
   "outputs": [
    {
     "name": "stdin",
     "output_type": "stream",
     "text": [
      "Enter another integer:  55\n"
     ]
    }
   ],
   "source": [
    "another_value = int(input('Enter another integer: '))"
   ]
  },
  {
   "cell_type": "code",
   "execution_count": 106,
   "id": "7ecf21dc-2634-44e4-b6be-808ce429b66f",
   "metadata": {},
   "outputs": [
    {
     "data": {
      "text/plain": [
       "55"
      ]
     },
     "execution_count": 106,
     "metadata": {},
     "output_type": "execute_result"
    }
   ],
   "source": [
    "another_value"
   ]
  },
  {
   "cell_type": "code",
   "execution_count": 108,
   "id": "31348283-61bd-40ab-bd14-12e9eab567e5",
   "metadata": {},
   "outputs": [
    {
     "data": {
      "text/plain": [
       "175"
      ]
     },
     "execution_count": 108,
     "metadata": {},
     "output_type": "execute_result"
    }
   ],
   "source": [
    "int(value) + another_value"
   ]
  },
  {
   "cell_type": "code",
   "execution_count": 109,
   "id": "213891f4-8926-4675-bb4a-3b64c93d4d34",
   "metadata": {},
   "outputs": [
    {
     "data": {
      "text/plain": [
       "10"
      ]
     },
     "execution_count": 109,
     "metadata": {},
     "output_type": "execute_result"
    }
   ],
   "source": [
    "int(10.5)"
   ]
  },
  {
   "cell_type": "code",
   "execution_count": 110,
   "id": "7b1973b8-b330-471e-87df-1b4fe57cb788",
   "metadata": {},
   "outputs": [
    {
     "name": "stdout",
     "output_type": "stream",
     "text": [
      "Using type() function\n"
     ]
    }
   ],
   "source": [
    "print(\"Using type() function\")"
   ]
  },
  {
   "cell_type": "code",
   "execution_count": 111,
   "id": "116592ea-a00f-4105-befe-6c1d5fd23a04",
   "metadata": {},
   "outputs": [
    {
     "data": {
      "text/plain": [
       "int"
      ]
     },
     "execution_count": 111,
     "metadata": {},
     "output_type": "execute_result"
    }
   ],
   "source": [
    "type(2)"
   ]
  },
  {
   "cell_type": "code",
   "execution_count": 112,
   "id": "cebe3a59-de97-4a0c-9a6c-5e95e790a602",
   "metadata": {},
   "outputs": [
    {
     "data": {
      "text/plain": [
       "float"
      ]
     },
     "execution_count": 112,
     "metadata": {},
     "output_type": "execute_result"
    }
   ],
   "source": [
    "type(10.4)"
   ]
  },
  {
   "cell_type": "code",
   "execution_count": 113,
   "id": "eec5ecc0-ad53-44ea-b3ad-b5b810067274",
   "metadata": {},
   "outputs": [
    {
     "data": {
      "text/plain": [
       "str"
      ]
     },
     "execution_count": 113,
     "metadata": {},
     "output_type": "execute_result"
    }
   ],
   "source": [
    "type('python')"
   ]
  },
  {
   "cell_type": "code",
   "execution_count": 114,
   "id": "6b327c88-f75f-40c3-b271-878caeb0c5f0",
   "metadata": {},
   "outputs": [
    {
     "data": {
      "text/plain": [
       "int"
      ]
     },
     "execution_count": 114,
     "metadata": {},
     "output_type": "execute_result"
    }
   ],
   "source": [
    "x = 7\n",
    "type(x)"
   ]
  },
  {
   "cell_type": "code",
   "execution_count": 115,
   "id": "97b167a9-b770-4ed6-aeab-603c7d14b1f1",
   "metadata": {},
   "outputs": [
    {
     "data": {
      "text/plain": [
       "343"
      ]
     },
     "execution_count": 115,
     "metadata": {},
     "output_type": "execute_result"
    }
   ],
   "source": [
    "x ** 3"
   ]
  },
  {
   "cell_type": "code",
   "execution_count": 116,
   "id": "e9602518-eccd-4763-9fb2-8be5fe4b1c70",
   "metadata": {},
   "outputs": [
    {
     "data": {
      "text/plain": [
       "343"
      ]
     },
     "execution_count": 116,
     "metadata": {},
     "output_type": "execute_result"
    }
   ],
   "source": [
    "7 * 7 * 7"
   ]
  },
  {
   "cell_type": "code",
   "execution_count": 117,
   "id": "eed00fb3-db99-449c-bf7e-53ed563de872",
   "metadata": {},
   "outputs": [
    {
     "data": {
      "text/plain": [
       "str"
      ]
     },
     "execution_count": 117,
     "metadata": {},
     "output_type": "execute_result"
    }
   ],
   "source": [
    "type(\"python\")"
   ]
  },
  {
   "cell_type": "code",
   "execution_count": 118,
   "id": "967313f0-c4cd-48da-9a5e-0d10ab7e657a",
   "metadata": {},
   "outputs": [
    {
     "data": {
      "text/plain": [
       "str"
      ]
     },
     "execution_count": 118,
     "metadata": {},
     "output_type": "execute_result"
    }
   ],
   "source": [
    "type(\"\"\"python\"\"\")"
   ]
  },
  {
   "cell_type": "code",
   "execution_count": 119,
   "id": "b1873c90-643a-4e5d-9b70-3e022bf7e252",
   "metadata": {},
   "outputs": [
    {
     "data": {
      "text/plain": [
       "str"
      ]
     },
     "execution_count": 119,
     "metadata": {},
     "output_type": "execute_result"
    }
   ],
   "source": [
    "type('''python''')"
   ]
  },
  {
   "cell_type": "code",
   "execution_count": 120,
   "id": "490d5aff-1424-4ee9-9576-15abd3896177",
   "metadata": {},
   "outputs": [],
   "source": [
    "#Dynamic Typing"
   ]
  },
  {
   "cell_type": "code",
   "execution_count": 121,
   "id": "79bc6cde-4085-4541-9b5b-18cf3b1f583e",
   "metadata": {},
   "outputs": [
    {
     "data": {
      "text/plain": [
       "int"
      ]
     },
     "execution_count": 121,
     "metadata": {},
     "output_type": "execute_result"
    }
   ],
   "source": [
    "type(x)"
   ]
  },
  {
   "cell_type": "code",
   "execution_count": 122,
   "id": "c2fc2c1e-a0b7-4d28-a8c6-bac31f3b2027",
   "metadata": {},
   "outputs": [],
   "source": [
    "x = 4.1"
   ]
  },
  {
   "cell_type": "code",
   "execution_count": 123,
   "id": "10d73e13-2e75-4d7c-8b42-ebdab6ea5a84",
   "metadata": {},
   "outputs": [
    {
     "data": {
      "text/plain": [
       "float"
      ]
     },
     "execution_count": 123,
     "metadata": {},
     "output_type": "execute_result"
    }
   ],
   "source": [
    "type(x)"
   ]
  },
  {
   "cell_type": "code",
   "execution_count": 124,
   "id": "cd32b40d-dea1-40bc-8428-9f5539589c6c",
   "metadata": {},
   "outputs": [],
   "source": [
    "x = 'dog'"
   ]
  },
  {
   "cell_type": "code",
   "execution_count": 125,
   "id": "7e000b74-f028-4c11-a87d-2a145b78471f",
   "metadata": {},
   "outputs": [
    {
     "data": {
      "text/plain": [
       "str"
      ]
     },
     "execution_count": 125,
     "metadata": {},
     "output_type": "execute_result"
    }
   ],
   "source": [
    "type(x)"
   ]
  },
  {
   "cell_type": "code",
   "execution_count": 126,
   "id": "3c3162c4-e9ec-44d9-8331-5247b8e341ac",
   "metadata": {},
   "outputs": [],
   "source": [
    "x: int = 79"
   ]
  },
  {
   "cell_type": "code",
   "execution_count": 127,
   "id": "1860e8eb-faa7-442a-8720-4b5c6659b3dd",
   "metadata": {},
   "outputs": [
    {
     "data": {
      "text/plain": [
       "int"
      ]
     },
     "execution_count": 127,
     "metadata": {},
     "output_type": "execute_result"
    }
   ],
   "source": [
    "type(x)"
   ]
  },
  {
   "cell_type": "code",
   "execution_count": 128,
   "id": "e31e9f22-f90b-4f0a-bb8c-3720b44c0772",
   "metadata": {},
   "outputs": [],
   "source": [
    "x = 'a'"
   ]
  },
  {
   "cell_type": "code",
   "execution_count": 129,
   "id": "843f6f7f-7f52-449a-8aa2-10ac23456850",
   "metadata": {},
   "outputs": [
    {
     "data": {
      "text/plain": [
       "'String and Numbers as Objects'"
      ]
     },
     "execution_count": 129,
     "metadata": {},
     "output_type": "execute_result"
    }
   ],
   "source": [
    "'String and Numbers as Objects'"
   ]
  },
  {
   "cell_type": "code",
   "execution_count": 130,
   "id": "760e0c89-dd95-4597-963d-a138e0e97856",
   "metadata": {},
   "outputs": [
    {
     "data": {
      "text/plain": [
       "'Strings as objects'"
      ]
     },
     "execution_count": 130,
     "metadata": {},
     "output_type": "execute_result"
    }
   ],
   "source": [
    "'Strings as objects'"
   ]
  },
  {
   "cell_type": "code",
   "execution_count": 131,
   "id": "a8c1eb92-3cb6-4091-82b1-e613d295aa92",
   "metadata": {},
   "outputs": [
    {
     "name": "stdout",
     "output_type": "stream",
     "text": [
      "Ada Lovelace\n"
     ]
    }
   ],
   "source": [
    "name = \"ada lovelace\"\n",
    "print(name.title())"
   ]
  },
  {
   "cell_type": "code",
   "execution_count": 133,
   "id": "2976b682-1f87-4f00-8ce6-598298425773",
   "metadata": {},
   "outputs": [
    {
     "name": "stdout",
     "output_type": "stream",
     "text": [
      "Ahmed Abdel Moneim\n"
     ]
    }
   ],
   "source": [
    "name = \"ahmed abdel moneim\"\n",
    "print(name.title())"
   ]
  },
  {
   "cell_type": "code",
   "execution_count": 134,
   "id": "09d5e94d-4655-47ee-89dd-1d66d74e6324",
   "metadata": {},
   "outputs": [
    {
     "name": "stdout",
     "output_type": "stream",
     "text": [
      "AHMED ABDEL MONEIM\n",
      "ahmed abdel moneim\n"
     ]
    }
   ],
   "source": [
    "name = \"Ahmed Abdel Moneim\"\n",
    "print(name.upper())\n",
    "print(name.lower())"
   ]
  },
  {
   "cell_type": "code",
   "execution_count": 135,
   "id": "725636df-bfca-4618-9dbc-f1f998db358b",
   "metadata": {},
   "outputs": [
    {
     "name": "stdout",
     "output_type": "stream",
     "text": [
      "Hello, Ahmed Abdelmoneim!\n"
     ]
    }
   ],
   "source": [
    "first_name = \"ahmed\"\n",
    "last_name = \"abdelmoneim\"\n",
    "full_name = first_name+\" \"+last_name\n",
    "message = \"Hello, \" + full_name.title() + \"!\"\n",
    "print(message)"
   ]
  },
  {
   "cell_type": "code",
   "execution_count": 140,
   "id": "27a49865-edb7-4804-aef0-64ea8b12dc2a",
   "metadata": {},
   "outputs": [
    {
     "data": {
      "text/plain": [
       "'python   '"
      ]
     },
     "execution_count": 140,
     "metadata": {},
     "output_type": "execute_result"
    }
   ],
   "source": [
    "favorite_language = 'python   '\n",
    "favorite_language"
   ]
  },
  {
   "cell_type": "code",
   "execution_count": 141,
   "id": "4be90e20-6ff1-47a0-99c8-898602c54cfa",
   "metadata": {},
   "outputs": [
    {
     "data": {
      "text/plain": [
       "'python'"
      ]
     },
     "execution_count": 141,
     "metadata": {},
     "output_type": "execute_result"
    }
   ],
   "source": [
    "favorite_language.rstrip()"
   ]
  },
  {
   "cell_type": "code",
   "execution_count": 142,
   "id": "ef04c78b-1d89-445e-afee-c9b15396b385",
   "metadata": {},
   "outputs": [],
   "source": [
    "#Numbers as objects"
   ]
  },
  {
   "cell_type": "code",
   "execution_count": 143,
   "id": "07e4dfda-2f4e-4c8c-9110-a8ebb5956915",
   "metadata": {},
   "outputs": [],
   "source": [
    "x = 189"
   ]
  },
  {
   "cell_type": "code",
   "execution_count": 144,
   "id": "39335ba8-25ca-4c20-818a-f40e1b4690b3",
   "metadata": {},
   "outputs": [
    {
     "data": {
      "text/plain": [
       "8"
      ]
     },
     "execution_count": 144,
     "metadata": {},
     "output_type": "execute_result"
    }
   ],
   "source": [
    "x.bit_length()"
   ]
  },
  {
   "cell_type": "code",
   "execution_count": 145,
   "id": "f3f3e659-f2af-4eaa-90aa-8b56fa1b407e",
   "metadata": {},
   "outputs": [
    {
     "data": {
      "text/plain": [
       "(189, 1)"
      ]
     },
     "execution_count": 145,
     "metadata": {},
     "output_type": "execute_result"
    }
   ],
   "source": [
    "x.as_integer_ratio()"
   ]
  },
  {
   "cell_type": "code",
   "execution_count": 146,
   "id": "16b739bb-0ce4-4309-a978-593b981a5069",
   "metadata": {},
   "outputs": [],
   "source": [
    "y = 39.02"
   ]
  },
  {
   "cell_type": "code",
   "execution_count": 147,
   "id": "0e09b9d5-d3dc-4901-8786-59bbe5a09aab",
   "metadata": {},
   "outputs": [
    {
     "data": {
      "text/plain": [
       "(5491576795624899, 140737488355328)"
      ]
     },
     "execution_count": 147,
     "metadata": {},
     "output_type": "execute_result"
    }
   ],
   "source": [
    "y.as_integer_ratio()"
   ]
  },
  {
   "cell_type": "code",
   "execution_count": 148,
   "id": "6cb5b5e2-ac73-49b2-9af3-a4693287b39b",
   "metadata": {},
   "outputs": [
    {
     "data": {
      "text/plain": [
       "'0b10111101'"
      ]
     },
     "execution_count": 148,
     "metadata": {},
     "output_type": "execute_result"
    }
   ],
   "source": [
    "bin(x)"
   ]
  },
  {
   "cell_type": "code",
   "execution_count": 149,
   "id": "bbe9b387-0714-48c2-af84-dd5a89dbcb14",
   "metadata": {},
   "outputs": [
    {
     "ename": "TypeError",
     "evalue": "'float' object cannot be interpreted as an integer",
     "output_type": "error",
     "traceback": [
      "\u001b[1;31m---------------------------------------------------------------------------\u001b[0m",
      "\u001b[1;31mTypeError\u001b[0m                                 Traceback (most recent call last)",
      "Cell \u001b[1;32mIn[149], line 1\u001b[0m\n\u001b[1;32m----> 1\u001b[0m \u001b[38;5;28mbin\u001b[39m(y)\n",
      "\u001b[1;31mTypeError\u001b[0m: 'float' object cannot be interpreted as an integer"
     ]
    }
   ],
   "source": [
    "bin(y)"
   ]
  },
  {
   "cell_type": "code",
   "execution_count": 150,
   "id": "5afd6f01-90cb-4569-a60b-0e8d7f97c3ff",
   "metadata": {},
   "outputs": [
    {
     "data": {
      "text/plain": [
       "189.0"
      ]
     },
     "execution_count": 150,
     "metadata": {},
     "output_type": "execute_result"
    }
   ],
   "source": [
    "float(x)"
   ]
  },
  {
   "cell_type": "code",
   "execution_count": 151,
   "id": "8de2df70-8199-48f5-b042-7b8b0619bc06",
   "metadata": {},
   "outputs": [
    {
     "name": "stdout",
     "output_type": "stream",
     "text": [
      "1700.0\n"
     ]
    },
    {
     "data": {
      "text/plain": [
       "11"
      ]
     },
     "execution_count": 151,
     "metadata": {},
     "output_type": "execute_result"
    }
   ],
   "source": [
    "z = 1.7e3\n",
    "print(z)\n",
    "int(z).bit_length()"
   ]
  },
  {
   "cell_type": "code",
   "execution_count": 152,
   "id": "5cf936c5-ecfa-48c7-bb1c-a8deb770527c",
   "metadata": {},
   "outputs": [
    {
     "data": {
      "text/plain": [
       "'0b11010100100'"
      ]
     },
     "execution_count": 152,
     "metadata": {},
     "output_type": "execute_result"
    }
   ],
   "source": [
    "bin(int(z))"
   ]
  },
  {
   "cell_type": "code",
   "execution_count": 153,
   "id": "2e1ba936-0136-4652-b5aa-032ea1b43cb5",
   "metadata": {},
   "outputs": [
    {
     "data": {
      "text/plain": [
       "'0b11111111'"
      ]
     },
     "execution_count": 153,
     "metadata": {},
     "output_type": "execute_result"
    }
   ],
   "source": [
    "bin(255)"
   ]
  },
  {
   "cell_type": "code",
   "execution_count": 154,
   "id": "b59f7252-4dc5-42ad-bd85-b89fad3766c2",
   "metadata": {},
   "outputs": [
    {
     "data": {
      "text/plain": [
       "'bin() method converts a specified integer number to its binary representation'"
      ]
     },
     "execution_count": 154,
     "metadata": {},
     "output_type": "execute_result"
    }
   ],
   "source": [
    "\"bin() method converts a specified integer number to its binary representation\""
   ]
  },
  {
   "cell_type": "code",
   "execution_count": 155,
   "id": "c8e8004d-9c62-47b6-ba82-b50cafd7c00c",
   "metadata": {},
   "outputs": [
    {
     "data": {
      "text/plain": [
       "'Using dir() function to display possible Attributes'"
      ]
     },
     "execution_count": 155,
     "metadata": {},
     "output_type": "execute_result"
    }
   ],
   "source": [
    "'Using dir() function to display possible Attributes'"
   ]
  },
  {
   "cell_type": "code",
   "execution_count": 156,
   "id": "08878aa2-3d9c-49ee-a7c2-84e4dde2359e",
   "metadata": {},
   "outputs": [
    {
     "data": {
      "text/plain": [
       "['__add__',\n",
       " '__class__',\n",
       " '__contains__',\n",
       " '__delattr__',\n",
       " '__dir__',\n",
       " '__doc__',\n",
       " '__eq__',\n",
       " '__format__',\n",
       " '__ge__',\n",
       " '__getattribute__',\n",
       " '__getitem__',\n",
       " '__getnewargs__',\n",
       " '__getstate__',\n",
       " '__gt__',\n",
       " '__hash__',\n",
       " '__init__',\n",
       " '__init_subclass__',\n",
       " '__iter__',\n",
       " '__le__',\n",
       " '__len__',\n",
       " '__lt__',\n",
       " '__mod__',\n",
       " '__mul__',\n",
       " '__ne__',\n",
       " '__new__',\n",
       " '__reduce__',\n",
       " '__reduce_ex__',\n",
       " '__repr__',\n",
       " '__rmod__',\n",
       " '__rmul__',\n",
       " '__setattr__',\n",
       " '__sizeof__',\n",
       " '__str__',\n",
       " '__subclasshook__',\n",
       " 'capitalize',\n",
       " 'casefold',\n",
       " 'center',\n",
       " 'count',\n",
       " 'encode',\n",
       " 'endswith',\n",
       " 'expandtabs',\n",
       " 'find',\n",
       " 'format',\n",
       " 'format_map',\n",
       " 'index',\n",
       " 'isalnum',\n",
       " 'isalpha',\n",
       " 'isascii',\n",
       " 'isdecimal',\n",
       " 'isdigit',\n",
       " 'isidentifier',\n",
       " 'islower',\n",
       " 'isnumeric',\n",
       " 'isprintable',\n",
       " 'isspace',\n",
       " 'istitle',\n",
       " 'isupper',\n",
       " 'join',\n",
       " 'ljust',\n",
       " 'lower',\n",
       " 'lstrip',\n",
       " 'maketrans',\n",
       " 'partition',\n",
       " 'removeprefix',\n",
       " 'removesuffix',\n",
       " 'replace',\n",
       " 'rfind',\n",
       " 'rindex',\n",
       " 'rjust',\n",
       " 'rpartition',\n",
       " 'rsplit',\n",
       " 'rstrip',\n",
       " 'split',\n",
       " 'splitlines',\n",
       " 'startswith',\n",
       " 'strip',\n",
       " 'swapcase',\n",
       " 'title',\n",
       " 'translate',\n",
       " 'upper',\n",
       " 'zfill']"
      ]
     },
     "execution_count": 156,
     "metadata": {},
     "output_type": "execute_result"
    }
   ],
   "source": [
    "name = 'Michael'\n",
    "dir(name)"
   ]
  },
  {
   "cell_type": "code",
   "execution_count": 157,
   "id": "a2727f9d-85ea-4cfe-9207-9ecf99c0ec14",
   "metadata": {},
   "outputs": [
    {
     "data": {
      "text/plain": [
       "'6.6 Boolean'"
      ]
     },
     "execution_count": 157,
     "metadata": {},
     "output_type": "execute_result"
    }
   ],
   "source": [
    "\"6.6 Boolean\""
   ]
  },
  {
   "cell_type": "code",
   "execution_count": 158,
   "id": "8f756051-ac7a-43b4-b02a-ffcf5856c5bd",
   "metadata": {},
   "outputs": [
    {
     "data": {
      "text/plain": [
       "'True or False'"
      ]
     },
     "execution_count": 158,
     "metadata": {},
     "output_type": "execute_result"
    }
   ],
   "source": [
    "\"True or False\""
   ]
  },
  {
   "cell_type": "code",
   "execution_count": 159,
   "id": "e99e7ec8-df34-4046-9ff0-eef27e9a1278",
   "metadata": {},
   "outputs": [
    {
     "data": {
      "text/plain": [
       "bool"
      ]
     },
     "execution_count": 159,
     "metadata": {},
     "output_type": "execute_result"
    }
   ],
   "source": [
    "type(True)"
   ]
  },
  {
   "cell_type": "code",
   "execution_count": 160,
   "id": "24317e8f-f7e1-44f7-8849-d7352223d32b",
   "metadata": {},
   "outputs": [
    {
     "data": {
      "text/plain": [
       "bool"
      ]
     },
     "execution_count": 160,
     "metadata": {},
     "output_type": "execute_result"
    }
   ],
   "source": [
    "type(False)"
   ]
  },
  {
   "cell_type": "code",
   "execution_count": 161,
   "id": "372912f2-b4cc-43e7-9211-716061ea0c63",
   "metadata": {},
   "outputs": [
    {
     "data": {
      "text/plain": [
       "True"
      ]
     },
     "execution_count": 161,
     "metadata": {},
     "output_type": "execute_result"
    }
   ],
   "source": [
    "True"
   ]
  },
  {
   "cell_type": "code",
   "execution_count": 162,
   "id": "21f1b8c3-5a61-4da1-9f31-94b73650cb53",
   "metadata": {},
   "outputs": [
    {
     "data": {
      "text/plain": [
       "False"
      ]
     },
     "execution_count": 162,
     "metadata": {},
     "output_type": "execute_result"
    }
   ],
   "source": [
    "False"
   ]
  },
  {
   "cell_type": "code",
   "execution_count": 163,
   "id": "eb5fcd83-fe38-4b26-a003-1665b143bd6c",
   "metadata": {},
   "outputs": [
    {
     "data": {
      "text/plain": [
       "True"
      ]
     },
     "execution_count": 163,
     "metadata": {},
     "output_type": "execute_result"
    }
   ],
   "source": [
    "True and True"
   ]
  },
  {
   "cell_type": "code",
   "execution_count": 164,
   "id": "23252b80-2908-45aa-a77b-ced98c5d0dcc",
   "metadata": {},
   "outputs": [
    {
     "data": {
      "text/plain": [
       "True"
      ]
     },
     "execution_count": 164,
     "metadata": {},
     "output_type": "execute_result"
    }
   ],
   "source": [
    "True or True"
   ]
  },
  {
   "cell_type": "code",
   "execution_count": 1,
   "id": "2f3d764c-2b9b-4b17-9fe5-4bbcd23c04a3",
   "metadata": {},
   "outputs": [
    {
     "data": {
      "text/plain": [
       "False"
      ]
     },
     "execution_count": 1,
     "metadata": {},
     "output_type": "execute_result"
    }
   ],
   "source": [
    "True and False"
   ]
  },
  {
   "cell_type": "code",
   "execution_count": 2,
   "id": "e1b3b466-95a2-4ce2-a4d1-4c469bbe2f08",
   "metadata": {},
   "outputs": [
    {
     "data": {
      "text/plain": [
       "True"
      ]
     },
     "execution_count": 2,
     "metadata": {},
     "output_type": "execute_result"
    }
   ],
   "source": [
    "True or False"
   ]
  },
  {
   "cell_type": "code",
   "execution_count": 3,
   "id": "0b557b60-840e-4b22-bca0-2694361cb665",
   "metadata": {},
   "outputs": [
    {
     "data": {
      "text/plain": [
       "False"
      ]
     },
     "execution_count": 3,
     "metadata": {},
     "output_type": "execute_result"
    }
   ],
   "source": [
    "1 == 2"
   ]
  },
  {
   "cell_type": "code",
   "execution_count": 4,
   "id": "4731b608-9120-4b3c-aa10-b3e87c0dbe51",
   "metadata": {},
   "outputs": [
    {
     "data": {
      "text/plain": [
       "True"
      ]
     },
     "execution_count": 4,
     "metadata": {},
     "output_type": "execute_result"
    }
   ],
   "source": [
    "4 > 2"
   ]
  },
  {
   "cell_type": "code",
   "execution_count": 5,
   "id": "0719ce44-c454-490e-83a2-0844ddcd3091",
   "metadata": {},
   "outputs": [
    {
     "data": {
      "text/plain": [
       "True"
      ]
     },
     "execution_count": 5,
     "metadata": {},
     "output_type": "execute_result"
    }
   ],
   "source": [
    "not 1==2"
   ]
  },
  {
   "cell_type": "code",
   "execution_count": 6,
   "id": "e07d78d7-ae9c-4b5a-8d10-a32666550d28",
   "metadata": {},
   "outputs": [
    {
     "data": {
      "text/plain": [
       "True"
      ]
     },
     "execution_count": 6,
     "metadata": {},
     "output_type": "execute_result"
    }
   ],
   "source": [
    "12 != 18"
   ]
  },
  {
   "cell_type": "code",
   "execution_count": 7,
   "id": "97c8bab7-c4a2-4f49-90d1-fd26aeed0d97",
   "metadata": {},
   "outputs": [
    {
     "data": {
      "text/plain": [
       "bool"
      ]
     },
     "execution_count": 7,
     "metadata": {},
     "output_type": "execute_result"
    }
   ],
   "source": [
    "type(89 < 100)"
   ]
  },
  {
   "cell_type": "code",
   "execution_count": 8,
   "id": "ce80a94c-b1e3-4506-a515-d234edb32231",
   "metadata": {},
   "outputs": [],
   "source": [
    "x = 6"
   ]
  },
  {
   "cell_type": "code",
   "execution_count": 9,
   "id": "aecb2652-251a-4143-b8a9-82c8b2a49505",
   "metadata": {},
   "outputs": [
    {
     "data": {
      "text/plain": [
       "False"
      ]
     },
     "execution_count": 9,
     "metadata": {},
     "output_type": "execute_result"
    }
   ],
   "source": [
    "1 <= x <= 5"
   ]
  },
  {
   "cell_type": "code",
   "execution_count": 10,
   "id": "2de35e54-bfc4-4ddc-afc3-7de0ff94c44d",
   "metadata": {},
   "outputs": [
    {
     "data": {
      "text/plain": [
       "True"
      ]
     },
     "execution_count": 10,
     "metadata": {},
     "output_type": "execute_result"
    }
   ],
   "source": [
    "bool(9892.3)"
   ]
  },
  {
   "cell_type": "code",
   "execution_count": 11,
   "id": "28eda8be-7824-486d-8545-ee7e8f6ad981",
   "metadata": {},
   "outputs": [
    {
     "data": {
      "text/plain": [
       "True"
      ]
     },
     "execution_count": 11,
     "metadata": {},
     "output_type": "execute_result"
    }
   ],
   "source": [
    "bool(-209)"
   ]
  },
  {
   "cell_type": "code",
   "execution_count": 12,
   "id": "cbf5d4e8-08be-459a-a40a-9637432f95cd",
   "metadata": {},
   "outputs": [
    {
     "data": {
      "text/plain": [
       "False"
      ]
     },
     "execution_count": 12,
     "metadata": {},
     "output_type": "execute_result"
    }
   ],
   "source": [
    "bool(0)"
   ]
  },
  {
   "cell_type": "code",
   "execution_count": 13,
   "id": "21de0c32-a592-48cf-8f9f-a0bb85ed43b5",
   "metadata": {},
   "outputs": [
    {
     "data": {
      "text/plain": [
       "False"
      ]
     },
     "execution_count": 13,
     "metadata": {},
     "output_type": "execute_result"
    }
   ],
   "source": [
    "bool(\"\")"
   ]
  },
  {
   "cell_type": "code",
   "execution_count": 14,
   "id": "fe5b62a3-7f3f-480b-82ba-11c886a30c7f",
   "metadata": {},
   "outputs": [
    {
     "data": {
      "text/plain": [
       "True"
      ]
     },
     "execution_count": 14,
     "metadata": {},
     "output_type": "execute_result"
    }
   ],
   "source": [
    "bool(\" \")"
   ]
  },
  {
   "cell_type": "code",
   "execution_count": 15,
   "id": "17ef84fa-2e0e-46c3-8051-40f8dc42db65",
   "metadata": {},
   "outputs": [
    {
     "data": {
      "text/plain": [
       "'True'"
      ]
     },
     "execution_count": 15,
     "metadata": {},
     "output_type": "execute_result"
    }
   ],
   "source": [
    "str(True)"
   ]
  },
  {
   "cell_type": "code",
   "execution_count": 16,
   "id": "8e86f65f-3b46-47dd-8f30-9608c7ac54dc",
   "metadata": {},
   "outputs": [
    {
     "data": {
      "text/plain": [
       "'False'"
      ]
     },
     "execution_count": 16,
     "metadata": {},
     "output_type": "execute_result"
    }
   ],
   "source": [
    "str(False)"
   ]
  },
  {
   "cell_type": "code",
   "execution_count": 17,
   "id": "6f677d84-ff6d-4fd9-90eb-534dfc207662",
   "metadata": {},
   "outputs": [
    {
     "data": {
      "text/plain": [
       "1"
      ]
     },
     "execution_count": 17,
     "metadata": {},
     "output_type": "execute_result"
    }
   ],
   "source": [
    "int(True)"
   ]
  },
  {
   "cell_type": "code",
   "execution_count": 18,
   "id": "4e87a9e5-70a3-4e74-b6d7-469e7d25f59a",
   "metadata": {},
   "outputs": [
    {
     "data": {
      "text/plain": [
       "0"
      ]
     },
     "execution_count": 18,
     "metadata": {},
     "output_type": "execute_result"
    }
   ],
   "source": [
    "int(False)"
   ]
  },
  {
   "cell_type": "code",
   "execution_count": 19,
   "id": "7afa983e-bfb0-46a6-a508-8b0bbcb73d83",
   "metadata": {},
   "outputs": [
    {
     "data": {
      "text/plain": [
       "6"
      ]
     },
     "execution_count": 19,
     "metadata": {},
     "output_type": "execute_result"
    }
   ],
   "source": [
    "5 + True"
   ]
  },
  {
   "cell_type": "code",
   "execution_count": 20,
   "id": "ce382126-b6c1-4d72-85fb-228c1e8a459d",
   "metadata": {},
   "outputs": [
    {
     "data": {
      "text/plain": [
       "13"
      ]
     },
     "execution_count": 20,
     "metadata": {},
     "output_type": "execute_result"
    }
   ],
   "source": [
    "13 + False"
   ]
  },
  {
   "cell_type": "code",
   "execution_count": 21,
   "id": "0cb3eff8-01df-4526-bcd5-63b1b48a8c15",
   "metadata": {},
   "outputs": [
    {
     "ename": "TypeError",
     "evalue": "unsupported operand type(s) for ** or pow(): 'str' and 'int'",
     "output_type": "error",
     "traceback": [
      "\u001b[1;31m---------------------------------------------------------------------------\u001b[0m",
      "\u001b[1;31mTypeError\u001b[0m                                 Traceback (most recent call last)",
      "Cell \u001b[1;32mIn[21], line 1\u001b[0m\n\u001b[1;32m----> 1\u001b[0m \u001b[38;5;124m'\u001b[39m\u001b[38;5;124mPython\u001b[39m\u001b[38;5;124m'\u001b[39m \u001b[38;5;241m*\u001b[39m\u001b[38;5;241m*\u001b[39m \u001b[38;5;241m2\u001b[39m\n",
      "\u001b[1;31mTypeError\u001b[0m: unsupported operand type(s) for ** or pow(): 'str' and 'int'"
     ]
    }
   ],
   "source": [
    "'Python' ** 2"
   ]
  },
  {
   "cell_type": "code",
   "execution_count": 22,
   "id": "7df6c882-d57b-442e-a37e-5e419c7b008c",
   "metadata": {},
   "outputs": [
    {
     "data": {
      "text/plain": [
       "'PythonPython'"
      ]
     },
     "execution_count": 22,
     "metadata": {},
     "output_type": "execute_result"
    }
   ],
   "source": [
    "'Python' * 2"
   ]
  },
  {
   "cell_type": "code",
   "execution_count": 23,
   "id": "3ee03d66-7394-46b8-adf0-d37591f51e15",
   "metadata": {},
   "outputs": [],
   "source": [
    "boolean_true = 25 >= 25"
   ]
  },
  {
   "cell_type": "code",
   "execution_count": 24,
   "id": "3a24e253-8229-415e-8420-91ca1797b313",
   "metadata": {},
   "outputs": [
    {
     "name": "stdout",
     "output_type": "stream",
     "text": [
      "True\n"
     ]
    }
   ],
   "source": [
    "print(boolean_true)"
   ]
  },
  {
   "cell_type": "code",
   "execution_count": 25,
   "id": "ffa9083f-e5c8-4e29-b2ba-c5b791643047",
   "metadata": {},
   "outputs": [
    {
     "name": "stdout",
     "output_type": "stream",
     "text": [
      "False\n"
     ]
    }
   ],
   "source": [
    "print(not boolean_true)"
   ]
  },
  {
   "cell_type": "code",
   "execution_count": 27,
   "id": "e2e77ec1-ce20-46f0-9013-886fd14cf923",
   "metadata": {},
   "outputs": [
    {
     "name": "stdout",
     "output_type": "stream",
     "text": [
      "False\n"
     ]
    }
   ],
   "source": [
    "print(True and False)"
   ]
  },
  {
   "cell_type": "code",
   "execution_count": 28,
   "id": "b66894be-5821-42bf-a555-e4d35b9cb6e8",
   "metadata": {},
   "outputs": [
    {
     "name": "stdout",
     "output_type": "stream",
     "text": [
      "True\n"
     ]
    }
   ],
   "source": [
    "print(True or False)"
   ]
  },
  {
   "cell_type": "code",
   "execution_count": 29,
   "id": "108aeabc-39c1-4e7a-a190-b53982a7d7b8",
   "metadata": {},
   "outputs": [],
   "source": [
    "#is and in keywords"
   ]
  },
  {
   "cell_type": "code",
   "execution_count": 30,
   "id": "d5629ac6-e507-4f2d-a663-4d419e0c96d1",
   "metadata": {},
   "outputs": [
    {
     "data": {
      "text/plain": [
       "True"
      ]
     },
     "execution_count": 30,
     "metadata": {},
     "output_type": "execute_result"
    }
   ],
   "source": [
    "'e' in 'Hello'"
   ]
  },
  {
   "cell_type": "code",
   "execution_count": 31,
   "id": "683761c6-1dcc-4eaa-8fab-411909e953fe",
   "metadata": {},
   "outputs": [
    {
     "data": {
      "text/plain": [
       "False"
      ]
     },
     "execution_count": 31,
     "metadata": {},
     "output_type": "execute_result"
    }
   ],
   "source": [
    "'3' in [1,2,3]"
   ]
  },
  {
   "cell_type": "code",
   "execution_count": 32,
   "id": "b36ff754-8166-47b6-b441-c3c2bd537452",
   "metadata": {},
   "outputs": [
    {
     "data": {
      "text/plain": [
       "True"
      ]
     },
     "execution_count": 32,
     "metadata": {},
     "output_type": "execute_result"
    }
   ],
   "source": [
    "3 in [1,2,3]"
   ]
  },
  {
   "cell_type": "code",
   "execution_count": 33,
   "id": "ee406e0d-5073-4eb1-a6ae-e3a0a46e5122",
   "metadata": {},
   "outputs": [
    {
     "name": "stderr",
     "output_type": "stream",
     "text": [
      "<>:1: SyntaxWarning: \"is\" with a literal. Did you mean \"==\"?\n",
      "<>:1: SyntaxWarning: \"is\" with a literal. Did you mean \"==\"?\n",
      "C:\\Users\\ahmed\\AppData\\Local\\Temp\\ipykernel_14184\\1633268123.py:1: SyntaxWarning: \"is\" with a literal. Did you mean \"==\"?\n",
      "  'Hello' is 'Hello'\n"
     ]
    },
    {
     "data": {
      "text/plain": [
       "True"
      ]
     },
     "execution_count": 33,
     "metadata": {},
     "output_type": "execute_result"
    }
   ],
   "source": [
    "'Hello' is 'Hello'"
   ]
  },
  {
   "cell_type": "code",
   "execution_count": 34,
   "id": "a0c3b105-3bb2-41e0-9c7d-9614e68d4061",
   "metadata": {},
   "outputs": [
    {
     "name": "stderr",
     "output_type": "stream",
     "text": [
      "<>:1: SyntaxWarning: \"is\" with a literal. Did you mean \"==\"?\n",
      "<>:1: SyntaxWarning: \"is\" with a literal. Did you mean \"==\"?\n",
      "C:\\Users\\ahmed\\AppData\\Local\\Temp\\ipykernel_14184\\3938569512.py:1: SyntaxWarning: \"is\" with a literal. Did you mean \"==\"?\n",
      "  10 is 10\n"
     ]
    },
    {
     "data": {
      "text/plain": [
       "True"
      ]
     },
     "execution_count": 34,
     "metadata": {},
     "output_type": "execute_result"
    }
   ],
   "source": [
    "10 is 10"
   ]
  },
  {
   "cell_type": "code",
   "execution_count": 35,
   "id": "2be156a1-d8e6-415f-8249-9ad820cc5c84",
   "metadata": {},
   "outputs": [],
   "source": [
    "x = 16\n",
    "y = 16"
   ]
  },
  {
   "cell_type": "code",
   "execution_count": 36,
   "id": "40efa923-c49b-4f0b-bf71-f6fc4d885851",
   "metadata": {},
   "outputs": [
    {
     "data": {
      "text/plain": [
       "True"
      ]
     },
     "execution_count": 36,
     "metadata": {},
     "output_type": "execute_result"
    }
   ],
   "source": [
    "x is y"
   ]
  },
  {
   "cell_type": "code",
   "execution_count": 37,
   "id": "2f311ac9-ed3f-47c5-9819-52effcb8963a",
   "metadata": {},
   "outputs": [
    {
     "data": {
      "text/plain": [
       "True"
      ]
     },
     "execution_count": 37,
     "metadata": {},
     "output_type": "execute_result"
    }
   ],
   "source": [
    "x == y"
   ]
  },
  {
   "cell_type": "code",
   "execution_count": 38,
   "id": "e827d7c9-d499-4155-8a14-09ecdc28febd",
   "metadata": {},
   "outputs": [],
   "source": [
    "x = [1,2,3]\n",
    "y = [1,2,3]"
   ]
  },
  {
   "cell_type": "code",
   "execution_count": 39,
   "id": "3529f484-bcec-4733-8715-c605c950bf3e",
   "metadata": {},
   "outputs": [
    {
     "data": {
      "text/plain": [
       "True"
      ]
     },
     "execution_count": 39,
     "metadata": {},
     "output_type": "execute_result"
    }
   ],
   "source": [
    "x == y"
   ]
  },
  {
   "cell_type": "code",
   "execution_count": 40,
   "id": "696e642c-9f3f-4abc-9360-8efc5e2623d5",
   "metadata": {},
   "outputs": [
    {
     "data": {
      "text/plain": [
       "False"
      ]
     },
     "execution_count": 40,
     "metadata": {},
     "output_type": "execute_result"
    }
   ],
   "source": [
    "x is y"
   ]
  },
  {
   "cell_type": "code",
   "execution_count": 41,
   "id": "7ae531c4-31cb-4189-9db6-d54538494ca1",
   "metadata": {},
   "outputs": [
    {
     "name": "stdout",
     "output_type": "stream",
     "text": [
      "2940918166592\n",
      "2940931522240\n"
     ]
    }
   ],
   "source": [
    "print(id(x))\n",
    "print(id(y))"
   ]
  },
  {
   "cell_type": "code",
   "execution_count": 42,
   "id": "9526e965-ce54-4996-901c-6bfe1c782ecf",
   "metadata": {},
   "outputs": [
    {
     "data": {
      "text/plain": [
       "'0x2acbc61f440'"
      ]
     },
     "execution_count": 42,
     "metadata": {},
     "output_type": "execute_result"
    }
   ],
   "source": [
    "hex(id(x))"
   ]
  },
  {
   "cell_type": "code",
   "execution_count": 44,
   "id": "7496809b-5b92-4154-9614-31b8ae5a5cd4",
   "metadata": {},
   "outputs": [
    {
     "data": {
      "text/plain": [
       "140727919297320"
      ]
     },
     "execution_count": 44,
     "metadata": {},
     "output_type": "execute_result"
    }
   ],
   "source": [
    "id(y[0])"
   ]
  },
  {
   "cell_type": "code",
   "execution_count": 45,
   "id": "d72abaa5-b127-40c7-9c18-49bf57303313",
   "metadata": {},
   "outputs": [
    {
     "data": {
      "text/plain": [
       "140727919297320"
      ]
     },
     "execution_count": 45,
     "metadata": {},
     "output_type": "execute_result"
    }
   ],
   "source": [
    "id(x[0])"
   ]
  },
  {
   "cell_type": "code",
   "execution_count": 46,
   "id": "764f4236-92f7-490a-98f9-b87c99b3be2a",
   "metadata": {},
   "outputs": [],
   "source": [
    "# None in Python is similar to null in other Languages."
   ]
  },
  {
   "cell_type": "code",
   "execution_count": 47,
   "id": "ce5a9221-8422-472c-a006-374a61a7550a",
   "metadata": {},
   "outputs": [
    {
     "data": {
      "text/plain": [
       "NoneType"
      ]
     },
     "execution_count": 47,
     "metadata": {},
     "output_type": "execute_result"
    }
   ],
   "source": [
    "type(None)"
   ]
  },
  {
   "cell_type": "code",
   "execution_count": 48,
   "id": "dd463ff3-6959-4a7d-b8ec-c6b8040eefb6",
   "metadata": {},
   "outputs": [],
   "source": [
    "x = None"
   ]
  },
  {
   "cell_type": "code",
   "execution_count": 49,
   "id": "46001748-39de-4077-8955-e84f5842f2e0",
   "metadata": {},
   "outputs": [],
   "source": [
    "x"
   ]
  },
  {
   "cell_type": "code",
   "execution_count": 50,
   "id": "4d30054c-32c2-4858-8f84-2574fc55695b",
   "metadata": {},
   "outputs": [
    {
     "name": "stdout",
     "output_type": "stream",
     "text": [
      "None\n"
     ]
    }
   ],
   "source": [
    "print(x)"
   ]
  },
  {
   "cell_type": "code",
   "execution_count": 51,
   "id": "f62901d1-6453-4c66-807b-1c4d597dbc4b",
   "metadata": {},
   "outputs": [
    {
     "name": "stdout",
     "output_type": "stream",
     "text": [
      "True\n"
     ]
    }
   ],
   "source": [
    "print(None is None)"
   ]
  },
  {
   "cell_type": "code",
   "execution_count": 52,
   "id": "5d2c0eb7-7320-45ba-bc25-8f82082915e3",
   "metadata": {},
   "outputs": [
    {
     "name": "stdout",
     "output_type": "stream",
     "text": [
      "False\n"
     ]
    }
   ],
   "source": [
    "print(None == False)"
   ]
  },
  {
   "cell_type": "code",
   "execution_count": 53,
   "id": "6594aace-33d6-4bed-bfd9-7da75319dfbb",
   "metadata": {},
   "outputs": [
    {
     "data": {
      "text/plain": [
       "False"
      ]
     },
     "execution_count": 53,
     "metadata": {},
     "output_type": "execute_result"
    }
   ],
   "source": [
    "bool(None == bool(\"\"))"
   ]
  },
  {
   "cell_type": "code",
   "execution_count": 54,
   "id": "441cb2e6-874d-4ddb-8e62-95547dedfaa9",
   "metadata": {},
   "outputs": [
    {
     "data": {
      "text/plain": [
       "['__bool__',\n",
       " '__class__',\n",
       " '__delattr__',\n",
       " '__dir__',\n",
       " '__doc__',\n",
       " '__eq__',\n",
       " '__format__',\n",
       " '__ge__',\n",
       " '__getattribute__',\n",
       " '__getstate__',\n",
       " '__gt__',\n",
       " '__hash__',\n",
       " '__init__',\n",
       " '__init_subclass__',\n",
       " '__le__',\n",
       " '__lt__',\n",
       " '__ne__',\n",
       " '__new__',\n",
       " '__reduce__',\n",
       " '__reduce_ex__',\n",
       " '__repr__',\n",
       " '__setattr__',\n",
       " '__sizeof__',\n",
       " '__str__',\n",
       " '__subclasshook__']"
      ]
     },
     "execution_count": 54,
     "metadata": {},
     "output_type": "execute_result"
    }
   ],
   "source": [
    "dir(None)"
   ]
  },
  {
   "cell_type": "code",
   "execution_count": 55,
   "id": "44194e0a-bed4-4078-ae0d-194cdc5b7596",
   "metadata": {},
   "outputs": [
    {
     "data": {
      "text/plain": [
       "['__add__',\n",
       " '__class__',\n",
       " '__contains__',\n",
       " '__delattr__',\n",
       " '__dir__',\n",
       " '__doc__',\n",
       " '__eq__',\n",
       " '__format__',\n",
       " '__ge__',\n",
       " '__getattribute__',\n",
       " '__getitem__',\n",
       " '__getnewargs__',\n",
       " '__getstate__',\n",
       " '__gt__',\n",
       " '__hash__',\n",
       " '__init__',\n",
       " '__init_subclass__',\n",
       " '__iter__',\n",
       " '__le__',\n",
       " '__len__',\n",
       " '__lt__',\n",
       " '__mod__',\n",
       " '__mul__',\n",
       " '__ne__',\n",
       " '__new__',\n",
       " '__reduce__',\n",
       " '__reduce_ex__',\n",
       " '__repr__',\n",
       " '__rmod__',\n",
       " '__rmul__',\n",
       " '__setattr__',\n",
       " '__sizeof__',\n",
       " '__str__',\n",
       " '__subclasshook__',\n",
       " 'capitalize',\n",
       " 'casefold',\n",
       " 'center',\n",
       " 'count',\n",
       " 'encode',\n",
       " 'endswith',\n",
       " 'expandtabs',\n",
       " 'find',\n",
       " 'format',\n",
       " 'format_map',\n",
       " 'index',\n",
       " 'isalnum',\n",
       " 'isalpha',\n",
       " 'isascii',\n",
       " 'isdecimal',\n",
       " 'isdigit',\n",
       " 'isidentifier',\n",
       " 'islower',\n",
       " 'isnumeric',\n",
       " 'isprintable',\n",
       " 'isspace',\n",
       " 'istitle',\n",
       " 'isupper',\n",
       " 'join',\n",
       " 'ljust',\n",
       " 'lower',\n",
       " 'lstrip',\n",
       " 'maketrans',\n",
       " 'partition',\n",
       " 'removeprefix',\n",
       " 'removesuffix',\n",
       " 'replace',\n",
       " 'rfind',\n",
       " 'rindex',\n",
       " 'rjust',\n",
       " 'rpartition',\n",
       " 'rsplit',\n",
       " 'rstrip',\n",
       " 'split',\n",
       " 'splitlines',\n",
       " 'startswith',\n",
       " 'strip',\n",
       " 'swapcase',\n",
       " 'title',\n",
       " 'translate',\n",
       " 'upper',\n",
       " 'zfill']"
      ]
     },
     "execution_count": 55,
     "metadata": {},
     "output_type": "execute_result"
    }
   ],
   "source": [
    "dir('Ahmed')"
   ]
  },
  {
   "cell_type": "code",
   "execution_count": 56,
   "id": "17da5ece-5420-4c62-b619-314e3ab9e1d4",
   "metadata": {},
   "outputs": [
    {
     "name": "stdout",
     "output_type": "stream",
     "text": [
      "How Do You Write Comments?\n"
     ]
    }
   ],
   "source": [
    "print(\"How Do You Write Comments?\")"
   ]
  },
  {
   "cell_type": "code",
   "execution_count": 57,
   "id": "d5c5eb11-c71d-4f47-8202-fe8e29616da4",
   "metadata": {},
   "outputs": [
    {
     "name": "stdout",
     "output_type": "stream",
     "text": [
      "Hello Python people!\n"
     ]
    }
   ],
   "source": [
    "# Say hello to everyone.\n",
    "print(\"Hello Python people!\")"
   ]
  },
  {
   "cell_type": "code",
   "execution_count": 58,
   "id": "8f95bd45-1a39-4468-bfb2-bfd07e889a3a",
   "metadata": {},
   "outputs": [
    {
     "name": "stdout",
     "output_type": "stream",
     "text": [
      "The Zen of Python\n"
     ]
    }
   ],
   "source": [
    "print(\"The Zen of Python\")"
   ]
  },
  {
   "cell_type": "code",
   "execution_count": 59,
   "id": "95c45ee8-e449-4806-b780-15182109612f",
   "metadata": {},
   "outputs": [
    {
     "name": "stdout",
     "output_type": "stream",
     "text": [
      "The Zen of Python, by Tim Peters\n",
      "\n",
      "Beautiful is better than ugly.\n",
      "Explicit is better than implicit.\n",
      "Simple is better than complex.\n",
      "Complex is better than complicated.\n",
      "Flat is better than nested.\n",
      "Sparse is better than dense.\n",
      "Readability counts.\n",
      "Special cases aren't special enough to break the rules.\n",
      "Although practicality beats purity.\n",
      "Errors should never pass silently.\n",
      "Unless explicitly silenced.\n",
      "In the face of ambiguity, refuse the temptation to guess.\n",
      "There should be one-- and preferably only one --obvious way to do it.\n",
      "Although that way may not be obvious at first unless you're Dutch.\n",
      "Now is better than never.\n",
      "Although never is often better than *right* now.\n",
      "If the implementation is hard to explain, it's a bad idea.\n",
      "If the implementation is easy to explain, it may be a good idea.\n",
      "Namespaces are one honking great idea -- let's do more of those!\n"
     ]
    }
   ],
   "source": [
    "import this"
   ]
  },
  {
   "cell_type": "code",
   "execution_count": 60,
   "id": "25074e0c-0bd5-4507-aa80-dcecfe5f6f4e",
   "metadata": {},
   "outputs": [
    {
     "data": {
      "text/plain": [
       "\"Gur Mra bs Clguba, ol Gvz Crgref\\n\\nOrnhgvshy vf orggre guna htyl.\\nRkcyvpvg vf orggre guna vzcyvpvg.\\nFvzcyr vf orggre guna pbzcyrk.\\nPbzcyrk vf orggre guna pbzcyvpngrq.\\nSyng vf orggre guna arfgrq.\\nFcnefr vf orggre guna qrafr.\\nErnqnovyvgl pbhagf.\\nFcrpvny pnfrf nera'g fcrpvny rabhtu gb oernx gur ehyrf.\\nNygubhtu cenpgvpnyvgl orngf chevgl.\\nReebef fubhyq arire cnff fvyragyl.\\nHayrff rkcyvpvgyl fvyraprq.\\nVa gur snpr bs nzovthvgl, ershfr gur grzcgngvba gb thrff.\\nGurer fubhyq or bar-- naq cersrenoyl bayl bar --boivbhf jnl gb qb vg.\\nNygubhtu gung jnl znl abg or boivbhf ng svefg hayrff lbh'er Qhgpu.\\nAbj vf orggre guna arire.\\nNygubhtu arire vf bsgra orggre guna *evtug* abj.\\nVs gur vzcyrzragngvba vf uneq gb rkcynva, vg'f n onq vqrn.\\nVs gur vzcyrzragngvba vf rnfl gb rkcynva, vg znl or n tbbq vqrn.\\nAnzrfcnprf ner bar ubaxvat terng vqrn -- yrg'f qb zber bs gubfr!\""
      ]
     },
     "execution_count": 60,
     "metadata": {},
     "output_type": "execute_result"
    }
   ],
   "source": [
    "this.s"
   ]
  },
  {
   "cell_type": "code",
   "execution_count": 61,
   "id": "4b9db858-f000-4f51-ba39-554cbe391e10",
   "metadata": {},
   "outputs": [
    {
     "name": "stdout",
     "output_type": "stream",
     "text": [
      "Python Ordered Sequences\n"
     ]
    }
   ],
   "source": [
    "print(\"Python Ordered Sequences\")"
   ]
  },
  {
   "cell_type": "code",
   "execution_count": 62,
   "id": "1072fa10-2eda-43de-929b-8f0edd296b2a",
   "metadata": {},
   "outputs": [
    {
     "name": "stdout",
     "output_type": "stream",
     "text": [
      "\n",
      "Strings\n",
      "Lists\n",
      "Tuples\n",
      "range()\n",
      "Bytes Sequences\n",
      "Bytes Array.\n",
      "\n"
     ]
    }
   ],
   "source": [
    "print(\"\"\"\n",
    "Strings\n",
    "Lists\n",
    "Tuples\n",
    "range()\n",
    "Bytes Sequences\n",
    "Bytes Array.\n",
    "\"\"\")"
   ]
  },
  {
   "cell_type": "code",
   "execution_count": 63,
   "id": "35f99629-ea55-427a-829a-f3a4b8829127",
   "metadata": {},
   "outputs": [
    {
     "name": "stdout",
     "output_type": "stream",
     "text": [
      "Python unordered Sequences\n"
     ]
    }
   ],
   "source": [
    "print(\"Python unordered Sequences\")"
   ]
  },
  {
   "cell_type": "code",
   "execution_count": 64,
   "id": "81d13d65-d960-4493-8145-69ef99ebc558",
   "metadata": {},
   "outputs": [
    {
     "name": "stdout",
     "output_type": "stream",
     "text": [
      "\n",
      "Sets.\n",
      "Dicitionaries.\n",
      "\n"
     ]
    }
   ],
   "source": [
    "print(\"\"\"\n",
    "Sets.\n",
    "Dicitionaries.\n",
    "\"\"\")"
   ]
  },
  {
   "cell_type": "code",
   "execution_count": 65,
   "id": "a71d2278-33cb-4cab-b1c9-6c9b7d996fff",
   "metadata": {},
   "outputs": [
    {
     "name": "stdout",
     "output_type": "stream",
     "text": [
      "Python Sequences\n"
     ]
    }
   ],
   "source": [
    "print(\"Python Sequences\")"
   ]
  },
  {
   "cell_type": "code",
   "execution_count": 67,
   "id": "adf52d68-4c4c-4c32-927e-7c34669148ed",
   "metadata": {},
   "outputs": [
    {
     "name": "stdout",
     "output_type": "stream",
     "text": [
      "Ordered:-\n",
      "Mutable:-متغير\n",
      "Lists.\n",
      "bytesarray().\n",
      "Immutable:-غير قابل للتغيير\n",
      "Strings.\n",
      "range().\n",
      "bytes().\n",
      "Tuples.\n",
      "\n"
     ]
    }
   ],
   "source": [
    "print(\"\"\"Ordered:-\n",
    "Mutable:-متغير\n",
    "Lists.\n",
    "bytesarray().\n",
    "Immutable:-غير قابل للتغيير\n",
    "Strings.\n",
    "range().\n",
    "bytes().\n",
    "Tuples.\n",
    "\"\"\")"
   ]
  },
  {
   "cell_type": "code",
   "execution_count": 71,
   "id": "834e084a-bde3-4c51-abff-d02e20c69219",
   "metadata": {},
   "outputs": [
    {
     "name": "stdout",
     "output_type": "stream",
     "text": [
      "What Is a List?\n",
      "Equlvalent but not equal to arrays\n"
     ]
    }
   ],
   "source": [
    "print(\"What Is a List?\")\n",
    "print(\"Equlvalent but not equal to arrays\")"
   ]
  },
  {
   "cell_type": "code",
   "execution_count": 70,
   "id": "f94e0271-c599-4466-af5e-683edc9b218c",
   "metadata": {},
   "outputs": [
    {
     "data": {
      "text/plain": [
       "[54, -12, 0, 77, 1976]"
      ]
     },
     "execution_count": 70,
     "metadata": {},
     "output_type": "execute_result"
    }
   ],
   "source": [
    "numbers= [54,-12,0,77,1976]\n",
    "numbers"
   ]
  },
  {
   "cell_type": "code",
   "execution_count": 73,
   "id": "8c04c159-69a4-4e72-963a-34543e53a87d",
   "metadata": {},
   "outputs": [
    {
     "data": {
      "text/plain": [
       "[(1, 2), 'Ahmed', 47, [25, -9]]"
      ]
     },
     "execution_count": 73,
     "metadata": {},
     "output_type": "execute_result"
    }
   ],
   "source": [
    "misc = [(1,2),'Ahmed',47,[25,-9]]\n",
    "misc"
   ]
  },
  {
   "cell_type": "code",
   "execution_count": 74,
   "id": "7fae73e3-dab5-4929-8a06-1ae36c070152",
   "metadata": {},
   "outputs": [
    {
     "name": "stdout",
     "output_type": "stream",
     "text": [
      "['trek', 'cannondale', 'redline', 'specialized']\n"
     ]
    }
   ],
   "source": [
    "bicycles = ['trek','cannondale','redline','specialized']\n",
    "print(bicycles)"
   ]
  },
  {
   "cell_type": "code",
   "execution_count": 75,
   "id": "0edb2577-ee49-497a-bed3-24693d42f5d9",
   "metadata": {},
   "outputs": [
    {
     "name": "stdout",
     "output_type": "stream",
     "text": [
      "['trek', 'cannondale', 'redline', 'specialized']\n"
     ]
    }
   ],
   "source": [
    "bicycles = ['trek',\n",
    "            'cannondale',\n",
    "            'redline',\n",
    "            'specialized']\n",
    "print(bicycles)"
   ]
  },
  {
   "cell_type": "code",
   "execution_count": 76,
   "id": "accf8e7e-4301-40f1-85ec-94965109ac10",
   "metadata": {},
   "outputs": [
    {
     "name": "stdout",
     "output_type": "stream",
     "text": [
      "<class 'list'>\n"
     ]
    }
   ],
   "source": [
    "print(type(numbers))"
   ]
  },
  {
   "cell_type": "code",
   "execution_count": 77,
   "id": "305b762e-0e38-4f59-8d83-10c92f392d9b",
   "metadata": {},
   "outputs": [
    {
     "name": "stdout",
     "output_type": "stream",
     "text": [
      "[(1, 2), 'Ahmed', 47, [25, -9]]\n"
     ]
    }
   ],
   "source": [
    "print(misc)"
   ]
  },
  {
   "cell_type": "code",
   "execution_count": 78,
   "id": "2fbb97c2-e8bb-48f7-8c91-78c2d17f2a2a",
   "metadata": {},
   "outputs": [
    {
     "data": {
      "text/plain": [
       "['Toronto', 'New York', 'Houston', 'Austin']"
      ]
     },
     "execution_count": 78,
     "metadata": {},
     "output_type": "execute_result"
    }
   ],
   "source": [
    "MyCountries = [\"USA\",\"Canada\",\"Toronto\",\"New York\"]\n",
    "MyCities = [\"Toronto\",\"New York\",\"Houston\",\"Austin\"]\n",
    "MyCountries\n",
    "MyCities"
   ]
  },
  {
   "cell_type": "code",
   "execution_count": 79,
   "id": "245f4f77-9a24-4168-b382-2ab3aeb4074a",
   "metadata": {},
   "outputs": [
    {
     "name": "stdout",
     "output_type": "stream",
     "text": [
      "Canada\n"
     ]
    }
   ],
   "source": [
    "print(MyCountries[1])"
   ]
  },
  {
   "cell_type": "code",
   "execution_count": 81,
   "id": "b1f0419c-284d-4d88-a8d1-9b253bc57684",
   "metadata": {},
   "outputs": [
    {
     "name": "stdout",
     "output_type": "stream",
     "text": [
      "USA\n"
     ]
    }
   ],
   "source": [
    "print(MyCountries[0])"
   ]
  },
  {
   "cell_type": "code",
   "execution_count": 82,
   "id": "1c5873f9-1ea5-4a11-941d-9dc2dca9ceb2",
   "metadata": {},
   "outputs": [
    {
     "name": "stdout",
     "output_type": "stream",
     "text": [
      "['Houston', 'Austin']\n"
     ]
    }
   ],
   "source": [
    "print(MyCities[2:])"
   ]
  },
  {
   "cell_type": "code",
   "execution_count": 83,
   "id": "ae9ef247-d81b-4dd3-abc0-3509a8bc8e3f",
   "metadata": {},
   "outputs": [
    {
     "data": {
      "text/plain": [
       "'Austin'"
      ]
     },
     "execution_count": 83,
     "metadata": {},
     "output_type": "execute_result"
    }
   ],
   "source": [
    "MyCities[3].title()"
   ]
  },
  {
   "cell_type": "code",
   "execution_count": 84,
   "id": "9ebb2285-12e8-448a-87a9-a216403f5a5a",
   "metadata": {},
   "outputs": [
    {
     "data": {
      "text/plain": [
       "'AUSTIN'"
      ]
     },
     "execution_count": 84,
     "metadata": {},
     "output_type": "execute_result"
    }
   ],
   "source": [
    "MyCities[3].upper()"
   ]
  },
  {
   "cell_type": "code",
   "execution_count": 85,
   "id": "e3ca1c1a-61d9-497c-8d9c-9caf709811a9",
   "metadata": {},
   "outputs": [
    {
     "data": {
      "text/plain": [
       "'Austin'"
      ]
     },
     "execution_count": 85,
     "metadata": {},
     "output_type": "execute_result"
    }
   ],
   "source": [
    "MyCities[-1]"
   ]
  },
  {
   "cell_type": "code",
   "execution_count": 86,
   "id": "1dba202b-7799-4278-9263-9a3ca804823e",
   "metadata": {},
   "outputs": [
    {
     "data": {
      "text/plain": [
       "'Houston'"
      ]
     },
     "execution_count": 86,
     "metadata": {},
     "output_type": "execute_result"
    }
   ],
   "source": [
    "MyCities[-2]"
   ]
  },
  {
   "cell_type": "code",
   "execution_count": 88,
   "id": "66cee9ad-5048-4f9d-a70e-b9cee646df64",
   "metadata": {},
   "outputs": [
    {
     "name": "stdout",
     "output_type": "stream",
     "text": [
      "My first Country was a Usa.\n"
     ]
    }
   ],
   "source": [
    "message = \"My first Country was a \" + MyCountries[0].title() + \".\"\n",
    "print(message)"
   ]
  },
  {
   "cell_type": "code",
   "execution_count": 89,
   "id": "0de6cc9e-6800-4537-9bac-7433a7b7aa8c",
   "metadata": {},
   "outputs": [
    {
     "name": "stdout",
     "output_type": "stream",
     "text": [
      "Changing,Adding and Remving Elements\n"
     ]
    }
   ],
   "source": [
    "print(\"Changing,Adding and Remving Elements\")"
   ]
  },
  {
   "cell_type": "code",
   "execution_count": 90,
   "id": "84f4704f-0967-4b05-b965-f38e4a18af1e",
   "metadata": {},
   "outputs": [
    {
     "name": "stdout",
     "output_type": "stream",
     "text": [
      "Modifying Elements in a List\n"
     ]
    }
   ],
   "source": [
    "print(\"Modifying Elements in a List\")"
   ]
  },
  {
   "cell_type": "code",
   "execution_count": 91,
   "id": "a08cd13c-c56a-4cb7-9885-1270b5bc9cf9",
   "metadata": {},
   "outputs": [],
   "source": [
    "# This is what Mutable means."
   ]
  },
  {
   "cell_type": "code",
   "execution_count": 92,
   "id": "3b1d8b55-e4be-452a-9592-e646fe72b0f0",
   "metadata": {},
   "outputs": [
    {
     "name": "stdout",
     "output_type": "stream",
     "text": [
      "['USA', 'Canada', 'UK']\n",
      "['USA', 'Canada', 'Australia']\n"
     ]
    }
   ],
   "source": [
    "MyCountries = [\"USA\",\"Canada\",\"UK\"]\n",
    "print(MyCountries)\n",
    "MyCountries[2] = \"Australia\"\n",
    "print(MyCountries)"
   ]
  },
  {
   "cell_type": "code",
   "execution_count": 93,
   "id": "c9e58d09-4e3d-4354-84b9-3db8b7df6995",
   "metadata": {},
   "outputs": [],
   "source": [
    "MyCountries.append(\"New zealand\")"
   ]
  },
  {
   "cell_type": "code",
   "execution_count": 94,
   "id": "5ba8e2ab-1909-4a90-b663-f1fc4a6d515a",
   "metadata": {},
   "outputs": [
    {
     "data": {
      "text/plain": [
       "['USA', 'Canada', 'Australia', 'New zealand']"
      ]
     },
     "execution_count": 94,
     "metadata": {},
     "output_type": "execute_result"
    }
   ],
   "source": [
    "MyCountries"
   ]
  },
  {
   "cell_type": "code",
   "execution_count": 95,
   "id": "b6a66658-fad4-43af-9962-ed05da75442c",
   "metadata": {},
   "outputs": [],
   "source": [
    "MyCountries.append(\"Toronto\")\n",
    "MyCountries.append(\"New York\")\n",
    "MyCountries.append(\"Austin\")\n",
    "MyCountries.append(\"Houston\")"
   ]
  },
  {
   "cell_type": "code",
   "execution_count": 96,
   "id": "6107ca14-716a-48dc-9f5f-c71161997199",
   "metadata": {},
   "outputs": [
    {
     "data": {
      "text/plain": [
       "['USA',\n",
       " 'Canada',\n",
       " 'Australia',\n",
       " 'New zealand',\n",
       " 'Toronto',\n",
       " 'New York',\n",
       " 'Austin',\n",
       " 'Houston']"
      ]
     },
     "execution_count": 96,
     "metadata": {},
     "output_type": "execute_result"
    }
   ],
   "source": [
    "MyCountries"
   ]
  },
  {
   "cell_type": "code",
   "execution_count": 97,
   "id": "b1797820-676f-430f-9ec2-6ad5fc535653",
   "metadata": {},
   "outputs": [
    {
     "data": {
      "text/plain": [
       "[12, 423, 109, 99, -24]"
      ]
     },
     "execution_count": 97,
     "metadata": {},
     "output_type": "execute_result"
    }
   ],
   "source": [
    "# Concatinating Lists.\n",
    "num1 = [12,423,109]\n",
    "num2 = [99, -24]\n",
    "num = num1 + num2\n",
    "num"
   ]
  },
  {
   "cell_type": "code",
   "execution_count": 98,
   "id": "6b71103b-4714-4b23-bfac-f1eb317bb4a4",
   "metadata": {},
   "outputs": [
    {
     "data": {
      "text/plain": [
       "[2, 4, 7, 2, 4, 7]"
      ]
     },
     "execution_count": 98,
     "metadata": {},
     "output_type": "execute_result"
    }
   ],
   "source": [
    "num = [2,4,7]\n",
    "num * 2"
   ]
  },
  {
   "cell_type": "code",
   "execution_count": 99,
   "id": "eb1caf5f-71d4-447c-9ea4-2ad511a56408",
   "metadata": {},
   "outputs": [
    {
     "name": "stdout",
     "output_type": "stream",
     "text": [
      "['honda', 'BMW', 'suzuki']\n",
      "['honda', 'BMW', 'ducati', 'suzuki']\n"
     ]
    }
   ],
   "source": [
    "motorcycles = ['honda','BMW','suzuki']\n",
    "print(motorcycles)\n",
    "motorcycles.insert(2,'ducati')\n",
    "print(motorcycles)"
   ]
  },
  {
   "cell_type": "code",
   "execution_count": 102,
   "id": "e031ee3a-a554-4795-94d7-07415d0e7451",
   "metadata": {},
   "outputs": [
    {
     "name": "stdout",
     "output_type": "stream",
     "text": [
      "['honda', 'yamaha', 'suzuki']\n",
      "['honda', 'yamaha']\n",
      "suzuki\n"
     ]
    }
   ],
   "source": [
    "motorcycles = ['honda','yamaha','suzuki']\n",
    "print(motorcycles)\n",
    "popped_motorcycles = motorcycles.pop()#Delete\n",
    "print(motorcycles)\n",
    "print(popped_motorcycles)"
   ]
  },
  {
   "cell_type": "code",
   "execution_count": 103,
   "id": "cfa801f0-e862-474e-a4d5-703b848db328",
   "metadata": {},
   "outputs": [
    {
     "name": "stdout",
     "output_type": "stream",
     "text": [
      "Popping Items from any Position in a List.\n"
     ]
    }
   ],
   "source": [
    "print(\"Popping Items from any Position in a List.\")"
   ]
  },
  {
   "cell_type": "code",
   "execution_count": 105,
   "id": "931a80b3-0527-4fe1-8ebb-d8898a5a3094",
   "metadata": {},
   "outputs": [
    {
     "name": "stdout",
     "output_type": "stream",
     "text": [
      "The first motorcycle I owned was aHonda.\n"
     ]
    }
   ],
   "source": [
    "motorcycles = ['honda','yamaha','suzuki']\n",
    "first_owned = motorcycles.pop(0)\n",
    "print('The first motorcycle I owned was a'+first_owned.title()+'.')"
   ]
  },
  {
   "cell_type": "code",
   "execution_count": 107,
   "id": "334856a9-e120-4a4b-8e21-1adf0fc4803f",
   "metadata": {},
   "outputs": [
    {
     "name": "stdout",
     "output_type": "stream",
     "text": [
      "Removing an Item by Value\n"
     ]
    },
    {
     "data": {
      "text/plain": [
       "['USA', 'Canada', 'Australia']"
      ]
     },
     "execution_count": 107,
     "metadata": {},
     "output_type": "execute_result"
    }
   ],
   "source": [
    "print(\"Removing an Item by Value\")\n",
    "MyCountries = ['USA','Canada','UK','Australia']\n",
    "MyCountries\n",
    "MyCountries.remove('UK')\n",
    "MyCountries"
   ]
  },
  {
   "cell_type": "code",
   "execution_count": 108,
   "id": "579ddfa5-01c4-4cbe-b94c-98d14735f78b",
   "metadata": {},
   "outputs": [
    {
     "name": "stdout",
     "output_type": "stream",
     "text": [
      "Organizing a List\n"
     ]
    }
   ],
   "source": [
    "print(\"Organizing a List\")"
   ]
  },
  {
   "cell_type": "code",
   "execution_count": 109,
   "id": "47c18582-6b14-46fe-a738-1862451d78b8",
   "metadata": {},
   "outputs": [
    {
     "data": {
      "text/plain": [
       "'Sorting a List Permanently with the sort() Method'"
      ]
     },
     "execution_count": 109,
     "metadata": {},
     "output_type": "execute_result"
    }
   ],
   "source": [
    "\"Sorting a List Permanently with the sort() Method\""
   ]
  },
  {
   "cell_type": "code",
   "execution_count": 110,
   "id": "cb8b5c42-b787-4959-8c44-90de13913818",
   "metadata": {},
   "outputs": [
    {
     "name": "stdout",
     "output_type": "stream",
     "text": [
      "['Australia', 'Canada', 'UK', 'USA']\n"
     ]
    }
   ],
   "source": [
    "myCountries = ['USA','Canada','UK','Australia']\n",
    "myCountries.sort()\n",
    "print(myCountries)"
   ]
  },
  {
   "cell_type": "code",
   "execution_count": 111,
   "id": "3654dac1-bf06-4389-8853-f2de2fc6b184",
   "metadata": {},
   "outputs": [
    {
     "name": "stdout",
     "output_type": "stream",
     "text": [
      "['USA', 'UK', 'Canada', 'Australia']\n"
     ]
    }
   ],
   "source": [
    "myCountries.sort(reverse=True)\n",
    "print(myCountries)"
   ]
  },
  {
   "cell_type": "code",
   "execution_count": 112,
   "id": "ca77958f-d99c-41fd-a2ee-e402f2234a65",
   "metadata": {},
   "outputs": [
    {
     "data": {
      "text/plain": [
       "['Australia', 'Canada', 'UK', 'USA']"
      ]
     },
     "execution_count": 112,
     "metadata": {},
     "output_type": "execute_result"
    }
   ],
   "source": [
    "sorted(myCountries)"
   ]
  },
  {
   "cell_type": "code",
   "execution_count": 113,
   "id": "d491f45b-7528-41bc-b73e-60ff29639e78",
   "metadata": {},
   "outputs": [
    {
     "data": {
      "text/plain": [
       "'Printing a List in Reverse Order'"
      ]
     },
     "execution_count": 113,
     "metadata": {},
     "output_type": "execute_result"
    }
   ],
   "source": [
    "\"Printing a List in Reverse Order\""
   ]
  },
  {
   "cell_type": "code",
   "execution_count": 119,
   "id": "73118572-0e43-495b-98ad-d6c25e615250",
   "metadata": {},
   "outputs": [
    {
     "data": {
      "text/plain": [
       "['USA', 'UK', 'Canada', 'Australia']"
      ]
     },
     "execution_count": 119,
     "metadata": {},
     "output_type": "execute_result"
    }
   ],
   "source": [
    "myCountries = ['Australia', 'Canada', 'UK', 'USA']\n",
    "myCountries.reverse()\n",
    "myCountries"
   ]
  },
  {
   "cell_type": "code",
   "execution_count": 120,
   "id": "18d5cb3a-3092-4fb8-b66a-9e873716f905",
   "metadata": {},
   "outputs": [
    {
     "name": "stdout",
     "output_type": "stream",
     "text": [
      "Finding the Length of a List\n"
     ]
    }
   ],
   "source": [
    "print(\"Finding the Length of a List\")"
   ]
  },
  {
   "cell_type": "code",
   "execution_count": 121,
   "id": "3b19791a-f619-453d-8052-953d7f5c2c48",
   "metadata": {},
   "outputs": [
    {
     "data": {
      "text/plain": [
       "4"
      ]
     },
     "execution_count": 121,
     "metadata": {},
     "output_type": "execute_result"
    }
   ],
   "source": [
    "len(myCountries)"
   ]
  },
  {
   "cell_type": "code",
   "execution_count": 122,
   "id": "f2830a19-b9c5-4265-8c58-68d0e3842375",
   "metadata": {},
   "outputs": [
    {
     "data": {
      "text/plain": [
       "list"
      ]
     },
     "execution_count": 122,
     "metadata": {},
     "output_type": "execute_result"
    }
   ],
   "source": [
    "type(myCountries)"
   ]
  },
  {
   "cell_type": "code",
   "execution_count": 123,
   "id": "3ac43bdc-1de7-4d21-ba8d-92621c77d9f9",
   "metadata": {},
   "outputs": [
    {
     "data": {
      "text/plain": [
       "['P', 'y', 't', 'h', 'o', 'n']"
      ]
     },
     "execution_count": 123,
     "metadata": {},
     "output_type": "execute_result"
    }
   ],
   "source": [
    "list('Python')"
   ]
  },
  {
   "cell_type": "code",
   "execution_count": 124,
   "id": "8530aec8-a13c-463f-85c3-10e012fb7c9d",
   "metadata": {},
   "outputs": [
    {
     "name": "stdout",
     "output_type": "stream",
     "text": [
      "list() with enumerate()\n"
     ]
    }
   ],
   "source": [
    "print('list() with enumerate()')"
   ]
  },
  {
   "cell_type": "code",
   "execution_count": 125,
   "id": "a3c38682-93d5-4154-9ca1-6fe3f549ede1",
   "metadata": {},
   "outputs": [
    {
     "name": "stdout",
     "output_type": "stream",
     "text": [
      "0 first\n",
      "1 second\n",
      "2 third\n",
      "3 fourth\n"
     ]
    }
   ],
   "source": [
    "values = ['first','second','third','fourth']\n",
    "for index in range(len(values)):\n",
    "    value = values[index]\n",
    "    print(index,value)"
   ]
  },
  {
   "cell_type": "code",
   "execution_count": 126,
   "id": "ad0f3524-bfd4-4aa7-bc35-24c7b997de90",
   "metadata": {},
   "outputs": [
    {
     "data": {
      "text/plain": [
       "<enumerate at 0x2acbd316d90>"
      ]
     },
     "execution_count": 126,
     "metadata": {},
     "output_type": "execute_result"
    }
   ],
   "source": [
    "enumerate(values)"
   ]
  },
  {
   "cell_type": "code",
   "execution_count": 127,
   "id": "7f3d96ae-0ce4-45d5-9444-f4ef7f63f366",
   "metadata": {},
   "outputs": [
    {
     "name": "stdout",
     "output_type": "stream",
     "text": [
      "0 first\n",
      "1 second\n",
      "2 third\n",
      "3 fourth\n"
     ]
    }
   ],
   "source": [
    "values = ['first','second','third','fourth']\n",
    "for index, value in enumerate(values):\n",
    "    print(index,value)"
   ]
  },
  {
   "cell_type": "code",
   "execution_count": 128,
   "id": "9aab5236-4daf-473a-94d7-4c34a72dd688",
   "metadata": {},
   "outputs": [
    {
     "name": "stdout",
     "output_type": "stream",
     "text": [
      ">>Using The range() Function\n"
     ]
    }
   ],
   "source": [
    "print('>>Using The range() Function')"
   ]
  },
  {
   "cell_type": "code",
   "execution_count": 129,
   "id": "c0c8dc19-5db2-4961-8b42-b247a5d70cbe",
   "metadata": {},
   "outputs": [
    {
     "name": "stdout",
     "output_type": "stream",
     "text": [
      "1\n",
      "2\n",
      "3\n",
      "4\n"
     ]
    }
   ],
   "source": [
    "for value in range(1,5):\n",
    "    print(value)"
   ]
  },
  {
   "cell_type": "code",
   "execution_count": 130,
   "id": "e32ddb71-7393-4648-8cdd-1b4ddf0f7f7c",
   "metadata": {},
   "outputs": [
    {
     "name": "stdout",
     "output_type": "stream",
     "text": [
      "1\n",
      "2\n",
      "3\n",
      "4\n",
      "5\n"
     ]
    }
   ],
   "source": [
    "for value in range(1,6):\n",
    "    print(value)"
   ]
  },
  {
   "cell_type": "code",
   "execution_count": 131,
   "id": "e178d941-baf5-47d8-b64c-67540c868e9a",
   "metadata": {},
   "outputs": [
    {
     "name": "stdout",
     "output_type": "stream",
     "text": [
      "Using the range() Function\n"
     ]
    }
   ],
   "source": [
    "print(\"Using the range() Function\")"
   ]
  },
  {
   "cell_type": "code",
   "execution_count": 132,
   "id": "93a721cf-2732-4306-8d5a-08839c6d1d54",
   "metadata": {},
   "outputs": [
    {
     "data": {
      "text/plain": [
       "[0, 1, 2, 3, 4]"
      ]
     },
     "execution_count": 132,
     "metadata": {},
     "output_type": "execute_result"
    }
   ],
   "source": [
    "list(range(5))"
   ]
  },
  {
   "cell_type": "code",
   "execution_count": 133,
   "id": "77a7d54c-b352-4ed7-8cd9-4aded7d1f68b",
   "metadata": {},
   "outputs": [
    {
     "name": "stdout",
     "output_type": "stream",
     "text": [
      "<class 'range'>\n"
     ]
    }
   ],
   "source": [
    "print(type(range(5)))"
   ]
  },
  {
   "cell_type": "code",
   "execution_count": 134,
   "id": "e879626b-cda5-4f59-8118-509d175ed0b2",
   "metadata": {},
   "outputs": [
    {
     "name": "stdout",
     "output_type": "stream",
     "text": [
      "1\n",
      "2\n",
      "3\n",
      "4\n"
     ]
    }
   ],
   "source": [
    "for value in range(1,5):\n",
    "    print(value)"
   ]
  },
  {
   "cell_type": "code",
   "execution_count": 135,
   "id": "7f5bc031-7dbc-4387-b773-f5a899c3c1c7",
   "metadata": {},
   "outputs": [
    {
     "data": {
      "text/plain": [
       "[0, 1, 2, 3, 4, 5, 6, 7, 8, 9]"
      ]
     },
     "execution_count": 135,
     "metadata": {},
     "output_type": "execute_result"
    }
   ],
   "source": [
    "list(range(10))"
   ]
  },
  {
   "cell_type": "code",
   "execution_count": 137,
   "id": "ab78406e-de54-4fcd-8b68-99b5eb047185",
   "metadata": {},
   "outputs": [
    {
     "data": {
      "text/plain": [
       "[2, 4, 6, 8, 10, 12, 14, 16, 18]"
      ]
     },
     "execution_count": 137,
     "metadata": {},
     "output_type": "execute_result"
    }
   ],
   "source": [
    "#>>>>>>>>(start,stop,step)\n",
    "list(range(2,20,2))"
   ]
  },
  {
   "cell_type": "code",
   "execution_count": 138,
   "id": "17034484-284b-4eda-a121-b4122dd01da4",
   "metadata": {},
   "outputs": [
    {
     "name": "stdout",
     "output_type": "stream",
     "text": [
      "[2, 4, 6, 8, 10]\n"
     ]
    }
   ],
   "source": [
    "even_numbers = list(range(2,11,2))\n",
    "print(even_numbers)"
   ]
  },
  {
   "cell_type": "code",
   "execution_count": 139,
   "id": "25b45d16-5033-4330-8c74-7c73e7ab160c",
   "metadata": {},
   "outputs": [
    {
     "name": "stdout",
     "output_type": "stream",
     "text": [
      "[1, 4, 9, 16, 25, 36, 49, 64, 81, 100]\n"
     ]
    }
   ],
   "source": [
    "# Squares\n",
    "squares = []\n",
    "for value in range(1,11):\n",
    "    square= value ** 2\n",
    "    squares.append(square)\n",
    "print(squares)"
   ]
  },
  {
   "cell_type": "code",
   "execution_count": 140,
   "id": "fd238073-6a44-41dd-b003-3a2d245718ce",
   "metadata": {},
   "outputs": [
    {
     "name": "stdout",
     "output_type": "stream",
     "text": [
      "1\n",
      "100\n",
      "385\n"
     ]
    }
   ],
   "source": [
    "print(min(squares))\n",
    "print(max(squares))\n",
    "print(sum(squares))"
   ]
  },
  {
   "cell_type": "code",
   "execution_count": 142,
   "id": "03450681-0807-4c2b-8b56-dc72fa858383",
   "metadata": {},
   "outputs": [
    {
     "name": "stdout",
     "output_type": "stream",
     "text": [
      "List Comprehensions\n",
      "[1, 4, 9, 16, 25, 36, 49, 64, 81, 100]\n"
     ]
    }
   ],
   "source": [
    "print(\"List Comprehensions\")\n",
    "squares = [value**2 for value in range(1,11)]\n",
    "print(squares)"
   ]
  },
  {
   "cell_type": "code",
   "execution_count": 143,
   "id": "c0edead3-0590-4bef-b01b-20f3f3892c84",
   "metadata": {},
   "outputs": [
    {
     "name": "stdout",
     "output_type": "stream",
     "text": [
      "Slicing a List\n"
     ]
    }
   ],
   "source": [
    "print(\"Slicing a List\")"
   ]
  },
  {
   "cell_type": "code",
   "execution_count": 144,
   "id": "f56d621b-c898-40e3-9651-e59b6ede340c",
   "metadata": {},
   "outputs": [
    {
     "name": "stdout",
     "output_type": "stream",
     "text": [
      "['CANADA', 'UK', 'Austrlia']\n"
     ]
    }
   ],
   "source": [
    "myCities = ['USA','CANADA','UK','Austrlia']\n",
    "print(myCities[1:4])"
   ]
  },
  {
   "cell_type": "code",
   "execution_count": 145,
   "id": "3fd91dc5-bad1-440e-9d0d-76e9589ef0a2",
   "metadata": {},
   "outputs": [
    {
     "name": "stdout",
     "output_type": "stream",
     "text": [
      "['USA', 'CANADA', 'UK']\n"
     ]
    }
   ],
   "source": [
    "print(myCities[:3])"
   ]
  },
  {
   "cell_type": "code",
   "execution_count": 146,
   "id": "bf2e8d8e-70a2-4d24-847f-5afdce1d8162",
   "metadata": {},
   "outputs": [
    {
     "name": "stdout",
     "output_type": "stream",
     "text": [
      "['USA', 'CANADA', 'UK', 'Austrlia']\n"
     ]
    }
   ],
   "source": [
    "print(myCities[:4])"
   ]
  },
  {
   "cell_type": "code",
   "execution_count": 147,
   "id": "0f2fc057-79ca-475c-a24f-c8e124256c90",
   "metadata": {},
   "outputs": [
    {
     "name": "stdout",
     "output_type": "stream",
     "text": [
      "[]\n"
     ]
    }
   ],
   "source": [
    "print(myCities[2:1])"
   ]
  },
  {
   "cell_type": "code",
   "execution_count": 148,
   "id": "a4323dce-6200-4cb8-8917-48f9884fd169",
   "metadata": {},
   "outputs": [
    {
     "name": "stdout",
     "output_type": "stream",
     "text": [
      "['UK', 'Austrlia']\n"
     ]
    }
   ],
   "source": [
    "print(myCities[2:])"
   ]
  },
  {
   "cell_type": "code",
   "execution_count": 149,
   "id": "cdba30d7-6a7d-4172-8985-86a850532841",
   "metadata": {},
   "outputs": [
    {
     "name": "stdout",
     "output_type": "stream",
     "text": [
      "Looping Through a Slice\n",
      "Data Science\n",
      "Bigdata\n",
      "Powerbi\n"
     ]
    }
   ],
   "source": [
    "print(\"Looping Through a Slice\")\n",
    "myLove=[\"Data Science\",\"BigData\",\"PowerBi\",\"DataWarehouse\"]\n",
    "for love in myLove[:3]:\n",
    "    print(love.title())"
   ]
  },
  {
   "cell_type": "code",
   "execution_count": 1,
   "id": "63931f5f-5d6c-4cc2-a544-28fe8b9365b8",
   "metadata": {},
   "outputs": [
    {
     "name": "stdout",
     "output_type": "stream",
     "text": [
      "['pizza', 'cake']\n",
      "['pizza', 'cake']\n"
     ]
    }
   ],
   "source": [
    "my_foods = ['pizza','cake']\n",
    "friend_foods = my_foods[:]\n",
    "print(friend_foods)\n",
    "print(my_foods)"
   ]
  },
  {
   "cell_type": "code",
   "execution_count": 2,
   "id": "407c1fc2-0b35-4e5d-b49d-12034eec3d41",
   "metadata": {},
   "outputs": [],
   "source": [
    "friend_foods.append(\"ice cream\")"
   ]
  },
  {
   "cell_type": "code",
   "execution_count": 3,
   "id": "95ea6d97-e8e8-407e-8923-9031d5c27cfc",
   "metadata": {},
   "outputs": [
    {
     "data": {
      "text/plain": [
       "['pizza', 'cake', 'ice cream']"
      ]
     },
     "execution_count": 3,
     "metadata": {},
     "output_type": "execute_result"
    }
   ],
   "source": [
    "friend_foods"
   ]
  },
  {
   "cell_type": "code",
   "execution_count": 5,
   "id": "5dd26365-5171-44ae-ba65-b0dce88ce05b",
   "metadata": {},
   "outputs": [],
   "source": [
    "Mycountries=[\"USA\",\"Canada\",\"Australia\"]\n",
    "Mycountries.append(\"UK\")\n",
    "AhmedCountries = Mycountries.copy()"
   ]
  },
  {
   "cell_type": "code",
   "execution_count": 6,
   "id": "6deb04f8-9532-4481-97da-708999fa317c",
   "metadata": {},
   "outputs": [
    {
     "data": {
      "text/plain": [
       "['USA', 'Canada', 'Australia', 'UK']"
      ]
     },
     "execution_count": 6,
     "metadata": {},
     "output_type": "execute_result"
    }
   ],
   "source": [
    "Mycountries"
   ]
  },
  {
   "cell_type": "code",
   "execution_count": 7,
   "id": "27a8c14d-b051-4331-868d-301014ad7a07",
   "metadata": {},
   "outputs": [
    {
     "data": {
      "text/plain": [
       "['USA', 'Canada', 'Australia', 'UK']"
      ]
     },
     "execution_count": 7,
     "metadata": {},
     "output_type": "execute_result"
    }
   ],
   "source": [
    "AhmedCountries"
   ]
  },
  {
   "cell_type": "code",
   "execution_count": 8,
   "id": "04d864e6-5d7c-4c85-a278-13cf3f2f457b",
   "metadata": {},
   "outputs": [
    {
     "name": "stdout",
     "output_type": "stream",
     "text": [
      "Tuples\n"
     ]
    }
   ],
   "source": [
    "print(\"Tuples\")"
   ]
  },
  {
   "cell_type": "code",
   "execution_count": 9,
   "id": "9ded5855-6bf1-4ff2-958f-3096b30e55f7",
   "metadata": {},
   "outputs": [
    {
     "name": "stdout",
     "output_type": "stream",
     "text": [
      "Defining a Tuple\n"
     ]
    }
   ],
   "source": [
    "print(\"Defining a Tuple\")"
   ]
  },
  {
   "cell_type": "code",
   "execution_count": 10,
   "id": "512c64ce-a6b8-42a5-9b9b-3684ab86d26d",
   "metadata": {},
   "outputs": [
    {
     "name": "stdout",
     "output_type": "stream",
     "text": [
      "200\n",
      "50\n",
      "100\n"
     ]
    }
   ],
   "source": [
    "# Immutable List.\n",
    "dimensions = (200,50,100)\n",
    "print(dimensions[0])\n",
    "print(dimensions[1])\n",
    "print(dimensions[2])"
   ]
  },
  {
   "cell_type": "code",
   "execution_count": 11,
   "id": "4db02ed6-e20f-49df-af01-8f92b2475b79",
   "metadata": {},
   "outputs": [
    {
     "ename": "TypeError",
     "evalue": "'tuple' object does not support item assignment",
     "output_type": "error",
     "traceback": [
      "\u001b[1;31m---------------------------------------------------------------------------\u001b[0m",
      "\u001b[1;31mTypeError\u001b[0m                                 Traceback (most recent call last)",
      "Cell \u001b[1;32mIn[11], line 3\u001b[0m\n\u001b[0;32m      1\u001b[0m \u001b[38;5;66;03m# Error.\u001b[39;00m\n\u001b[0;32m      2\u001b[0m dimensions \u001b[38;5;241m=\u001b[39m (\u001b[38;5;241m200\u001b[39m,\u001b[38;5;241m50\u001b[39m)\n\u001b[1;32m----> 3\u001b[0m dimensions[\u001b[38;5;241m0\u001b[39m] \u001b[38;5;241m=\u001b[39m \u001b[38;5;241m250\u001b[39m\n",
      "\u001b[1;31mTypeError\u001b[0m: 'tuple' object does not support item assignment"
     ]
    }
   ],
   "source": [
    "# Error.\n",
    "dimensions = (200,50)\n",
    "dimensions[0] = 250"
   ]
  },
  {
   "cell_type": "code",
   "execution_count": 12,
   "id": "6c3ff1a6-faf0-44ad-836d-5ef1240d1015",
   "metadata": {},
   "outputs": [
    {
     "data": {
      "text/plain": [
       "((0, 19), (23, -4), (91, 54, 2))"
      ]
     },
     "execution_count": 12,
     "metadata": {},
     "output_type": "execute_result"
    }
   ],
   "source": [
    "two_d = ((0,19),(23,-4),(91,54,2))\n",
    "two_d"
   ]
  },
  {
   "cell_type": "code",
   "execution_count": 13,
   "id": "bf3db66d-1f47-4bd7-801e-415f1dc827d6",
   "metadata": {},
   "outputs": [
    {
     "data": {
      "text/plain": [
       "(15, 'abc', (9, 1), [1, 2, 3], {'def': 15})"
      ]
     },
     "execution_count": 13,
     "metadata": {},
     "output_type": "execute_result"
    }
   ],
   "source": [
    "misc_d = (15,'abc',(9,1),[1,2,3],{'def':15})\n",
    "misc_d"
   ]
  },
  {
   "cell_type": "code",
   "execution_count": 14,
   "id": "37a3d923-3729-42a0-b935-2fe38ef515d4",
   "metadata": {},
   "outputs": [
    {
     "name": "stdout",
     "output_type": "stream",
     "text": [
      "<class 'int'>\n",
      "<class 'str'>\n",
      "<class 'tuple'>\n",
      "<class 'list'>\n",
      "<class 'dict'>\n"
     ]
    }
   ],
   "source": [
    "print(type(misc_d[0]))\n",
    "print(type(misc_d[1]))\n",
    "print(type(misc_d[2]))\n",
    "print(type(misc_d[3]))\n",
    "print(type(misc_d[4]))"
   ]
  },
  {
   "cell_type": "code",
   "execution_count": 15,
   "id": "c97732ce-d5bb-4800-8f9d-f95f1dd27765",
   "metadata": {},
   "outputs": [
    {
     "name": "stdout",
     "output_type": "stream",
     "text": [
      "Looping Through All Values in A Tuple\n"
     ]
    }
   ],
   "source": [
    "print(\"Looping Through All Values in A Tuple\")"
   ]
  },
  {
   "cell_type": "code",
   "execution_count": 16,
   "id": "5672c798-c2dd-49d9-ac14-66714cd6405f",
   "metadata": {},
   "outputs": [
    {
     "name": "stdout",
     "output_type": "stream",
     "text": [
      "200\n",
      "50\n",
      "92\n"
     ]
    }
   ],
   "source": [
    "dimensions = (200,50,92)\n",
    "for dimension in dimensions:\n",
    "    print(dimension)"
   ]
  },
  {
   "cell_type": "code",
   "execution_count": 17,
   "id": "9509b756-1282-486e-a36e-b2b87e2d8d12",
   "metadata": {},
   "outputs": [
    {
     "data": {
      "text/plain": [
       "1"
      ]
     },
     "execution_count": 17,
     "metadata": {},
     "output_type": "execute_result"
    }
   ],
   "source": [
    "dimensions.count(200)"
   ]
  },
  {
   "cell_type": "code",
   "execution_count": 18,
   "id": "70e0a3e0-03df-418c-9ea9-26de5d413ec1",
   "metadata": {},
   "outputs": [
    {
     "data": {
      "text/plain": [
       "2"
      ]
     },
     "execution_count": 18,
     "metadata": {},
     "output_type": "execute_result"
    }
   ],
   "source": [
    "dimensions.index(92)"
   ]
  },
  {
   "cell_type": "code",
   "execution_count": 19,
   "id": "220cf4bc-7ad8-4ab9-8bb5-f2ef06d880be",
   "metadata": {},
   "outputs": [
    {
     "name": "stdout",
     "output_type": "stream",
     "text": [
      "list() with enumerate()\n"
     ]
    }
   ],
   "source": [
    "print(\"list() with enumerate()\")"
   ]
  },
  {
   "cell_type": "code",
   "execution_count": 21,
   "id": "100bbb1d-b85c-4b10-8f18-2a1100a36aeb",
   "metadata": {},
   "outputs": [
    {
     "name": "stdout",
     "output_type": "stream",
     "text": [
      "0 first\n",
      "1 second\n",
      "2 third\n",
      "3 fourth\n"
     ]
    }
   ],
   "source": [
    "value = ('first','second','third','fourth')\n",
    "for index, value in enumerate(value):\n",
    "    print(index,value)"
   ]
  },
  {
   "cell_type": "code",
   "execution_count": 23,
   "id": "337bd335-3cfa-428c-adc3-ca312179a264",
   "metadata": {},
   "outputs": [
    {
     "name": "stdout",
     "output_type": "stream",
     "text": [
      "Writing over a Tuple\n"
     ]
    }
   ],
   "source": [
    "print(\"Writing over a Tuple\")"
   ]
  },
  {
   "cell_type": "code",
   "execution_count": 24,
   "id": "75ca2f77-d334-4332-bf6f-3cc9bdb920d4",
   "metadata": {},
   "outputs": [
    {
     "name": "stdout",
     "output_type": "stream",
     "text": [
      "200\n",
      "50\n",
      "88\n"
     ]
    }
   ],
   "source": [
    "dimensions = (200,50,88)\n",
    "for dimension in dimensions:\n",
    "    print(dimension)"
   ]
  },
  {
   "cell_type": "code",
   "execution_count": 25,
   "id": "9f6842a1-55dd-4e85-9e8b-69b36da2e04d",
   "metadata": {},
   "outputs": [
    {
     "name": "stdout",
     "output_type": "stream",
     "text": [
      "Strings\n"
     ]
    }
   ],
   "source": [
    "print(\"Strings\")"
   ]
  },
  {
   "cell_type": "code",
   "execution_count": 26,
   "id": "63fca2ec-686e-4b28-b962-da731bb49119",
   "metadata": {},
   "outputs": [
    {
     "data": {
      "text/plain": [
       "'H'"
      ]
     },
     "execution_count": 26,
     "metadata": {},
     "output_type": "execute_result"
    }
   ],
   "source": [
    "string = 'Hello Everyone'\n",
    "string[0]"
   ]
  },
  {
   "cell_type": "code",
   "execution_count": 28,
   "id": "a0fd19af-4291-4310-8c40-37cd1e545dda",
   "metadata": {},
   "outputs": [
    {
     "data": {
      "text/plain": [
       "'E'"
      ]
     },
     "execution_count": 28,
     "metadata": {},
     "output_type": "execute_result"
    }
   ],
   "source": [
    "string[6]"
   ]
  },
  {
   "cell_type": "code",
   "execution_count": 29,
   "id": "e2407e48-e586-468d-8c65-f2ff715149ab",
   "metadata": {},
   "outputs": [
    {
     "data": {
      "text/plain": [
       "3"
      ]
     },
     "execution_count": 29,
     "metadata": {},
     "output_type": "execute_result"
    }
   ],
   "source": [
    "string.count('e')"
   ]
  },
  {
   "cell_type": "code",
   "execution_count": 30,
   "id": "d6732569-d417-4dbc-a8e0-b3b856de7a1b",
   "metadata": {},
   "outputs": [
    {
     "data": {
      "text/plain": [
       "10"
      ]
     },
     "execution_count": 30,
     "metadata": {},
     "output_type": "execute_result"
    }
   ],
   "source": [
    "string.index('y')"
   ]
  },
  {
   "cell_type": "code",
   "execution_count": 31,
   "id": "05ccd471-e5d0-43e9-b99e-b281da42a05a",
   "metadata": {},
   "outputs": [
    {
     "data": {
      "text/plain": [
       "['H', 'e', 'l', 'l', 'o', ' ', 'E', 'v', 'e', 'r', 'y', 'o', 'n', 'e']"
      ]
     },
     "execution_count": 31,
     "metadata": {},
     "output_type": "execute_result"
    }
   ],
   "source": [
    "list(string)"
   ]
  },
  {
   "cell_type": "code",
   "execution_count": 32,
   "id": "70745c18-a22a-4934-a32d-ba0f15902d4f",
   "metadata": {},
   "outputs": [
    {
     "data": {
      "text/plain": [
       "['__add__',\n",
       " '__class__',\n",
       " '__contains__',\n",
       " '__delattr__',\n",
       " '__dir__',\n",
       " '__doc__',\n",
       " '__eq__',\n",
       " '__format__',\n",
       " '__ge__',\n",
       " '__getattribute__',\n",
       " '__getitem__',\n",
       " '__getnewargs__',\n",
       " '__getstate__',\n",
       " '__gt__',\n",
       " '__hash__',\n",
       " '__init__',\n",
       " '__init_subclass__',\n",
       " '__iter__',\n",
       " '__le__',\n",
       " '__len__',\n",
       " '__lt__',\n",
       " '__mod__',\n",
       " '__mul__',\n",
       " '__ne__',\n",
       " '__new__',\n",
       " '__reduce__',\n",
       " '__reduce_ex__',\n",
       " '__repr__',\n",
       " '__rmod__',\n",
       " '__rmul__',\n",
       " '__setattr__',\n",
       " '__sizeof__',\n",
       " '__str__',\n",
       " '__subclasshook__',\n",
       " 'capitalize',\n",
       " 'casefold',\n",
       " 'center',\n",
       " 'count',\n",
       " 'encode',\n",
       " 'endswith',\n",
       " 'expandtabs',\n",
       " 'find',\n",
       " 'format',\n",
       " 'format_map',\n",
       " 'index',\n",
       " 'isalnum',\n",
       " 'isalpha',\n",
       " 'isascii',\n",
       " 'isdecimal',\n",
       " 'isdigit',\n",
       " 'isidentifier',\n",
       " 'islower',\n",
       " 'isnumeric',\n",
       " 'isprintable',\n",
       " 'isspace',\n",
       " 'istitle',\n",
       " 'isupper',\n",
       " 'join',\n",
       " 'ljust',\n",
       " 'lower',\n",
       " 'lstrip',\n",
       " 'maketrans',\n",
       " 'partition',\n",
       " 'removeprefix',\n",
       " 'removesuffix',\n",
       " 'replace',\n",
       " 'rfind',\n",
       " 'rindex',\n",
       " 'rjust',\n",
       " 'rpartition',\n",
       " 'rsplit',\n",
       " 'rstrip',\n",
       " 'split',\n",
       " 'splitlines',\n",
       " 'startswith',\n",
       " 'strip',\n",
       " 'swapcase',\n",
       " 'title',\n",
       " 'translate',\n",
       " 'upper',\n",
       " 'zfill']"
      ]
     },
     "execution_count": 32,
     "metadata": {},
     "output_type": "execute_result"
    }
   ],
   "source": [
    "dir(string)"
   ]
  },
  {
   "cell_type": "code",
   "execution_count": 33,
   "id": "a8ccd6da-2446-45d2-a7a3-66c0ad3d27eb",
   "metadata": {},
   "outputs": [
    {
     "name": "stdout",
     "output_type": "stream",
     "text": [
      "Sets\n"
     ]
    }
   ],
   "source": [
    "print(\"Sets\")"
   ]
  },
  {
   "cell_type": "code",
   "execution_count": 36,
   "id": "fbccc009-259f-428a-acb5-3bbc45434f84",
   "metadata": {},
   "outputs": [
    {
     "data": {
      "text/plain": [
       "{1, 2, 3, 4, 5, 6, 7, 8, 9}"
      ]
     },
     "execution_count": 36,
     "metadata": {},
     "output_type": "execute_result"
    }
   ],
   "source": [
    "set1 = {1,2,3,4,5,6,7,8,9}\n",
    "set1"
   ]
  },
  {
   "cell_type": "code",
   "execution_count": 37,
   "id": "65040ff6-f19d-4c19-b85a-4d9cf762a2ac",
   "metadata": {},
   "outputs": [
    {
     "data": {
      "text/plain": [
       "set"
      ]
     },
     "execution_count": 37,
     "metadata": {},
     "output_type": "execute_result"
    }
   ],
   "source": [
    "type(set1)"
   ]
  },
  {
   "cell_type": "code",
   "execution_count": 38,
   "id": "02f331ce-0f70-45e9-adfb-bec89e4c5353",
   "metadata": {},
   "outputs": [
    {
     "data": {
      "text/plain": [
       "{1, 2, 3, 4, 5, 6, 7, 8, 9}"
      ]
     },
     "execution_count": 38,
     "metadata": {},
     "output_type": "execute_result"
    }
   ],
   "source": [
    "# Using the set() function.\n",
    "my_List = ['One','One','two','three','three','four']\n",
    "my_set = set(set1)\n",
    "my_set"
   ]
  },
  {
   "cell_type": "code",
   "execution_count": 41,
   "id": "c9d2db12-7da7-4c17-ad2b-3712c7d141d3",
   "metadata": {},
   "outputs": [
    {
     "data": {
      "text/plain": [
       "['three', 'four', 'two', 'One']"
      ]
     },
     "execution_count": 41,
     "metadata": {},
     "output_type": "execute_result"
    }
   ],
   "source": [
    "list_again = list(set(my_List))\n",
    "list_again"
   ]
  },
  {
   "cell_type": "code",
   "execution_count": 42,
   "id": "a892e747-c4e3-4080-b5c8-a3fb33f5a709",
   "metadata": {},
   "outputs": [
    {
     "data": {
      "text/plain": [
       "['__and__',\n",
       " '__class__',\n",
       " '__class_getitem__',\n",
       " '__contains__',\n",
       " '__delattr__',\n",
       " '__dir__',\n",
       " '__doc__',\n",
       " '__eq__',\n",
       " '__format__',\n",
       " '__ge__',\n",
       " '__getattribute__',\n",
       " '__getstate__',\n",
       " '__gt__',\n",
       " '__hash__',\n",
       " '__iand__',\n",
       " '__init__',\n",
       " '__init_subclass__',\n",
       " '__ior__',\n",
       " '__isub__',\n",
       " '__iter__',\n",
       " '__ixor__',\n",
       " '__le__',\n",
       " '__len__',\n",
       " '__lt__',\n",
       " '__ne__',\n",
       " '__new__',\n",
       " '__or__',\n",
       " '__rand__',\n",
       " '__reduce__',\n",
       " '__reduce_ex__',\n",
       " '__repr__',\n",
       " '__ror__',\n",
       " '__rsub__',\n",
       " '__rxor__',\n",
       " '__setattr__',\n",
       " '__sizeof__',\n",
       " '__str__',\n",
       " '__sub__',\n",
       " '__subclasshook__',\n",
       " '__xor__',\n",
       " 'add',\n",
       " 'clear',\n",
       " 'copy',\n",
       " 'difference',\n",
       " 'difference_update',\n",
       " 'discard',\n",
       " 'intersection',\n",
       " 'intersection_update',\n",
       " 'isdisjoint',\n",
       " 'issubset',\n",
       " 'issuperset',\n",
       " 'pop',\n",
       " 'remove',\n",
       " 'symmetric_difference',\n",
       " 'symmetric_difference_update',\n",
       " 'union',\n",
       " 'update']"
      ]
     },
     "execution_count": 42,
     "metadata": {},
     "output_type": "execute_result"
    }
   ],
   "source": [
    "dir(my_set)"
   ]
  },
  {
   "cell_type": "code",
   "execution_count": 43,
   "id": "d3f014e5-dfd7-4a5e-b489-346912abbb63",
   "metadata": {},
   "outputs": [
    {
     "data": {
      "text/plain": [
       "{10, 20, 30}"
      ]
     },
     "execution_count": 43,
     "metadata": {},
     "output_type": "execute_result"
    }
   ],
   "source": [
    "set12 = {10,20,30}\n",
    "set12"
   ]
  },
  {
   "cell_type": "code",
   "execution_count": 44,
   "id": "95fbf070-1fbf-4a4a-9b38-e50010c1c350",
   "metadata": {},
   "outputs": [],
   "source": [
    "set12.add(15)\n",
    "set12.add(100)\n",
    "set12.add(100)\n",
    "set12.add(100)"
   ]
  },
  {
   "cell_type": "code",
   "execution_count": 45,
   "id": "4064de06-cc34-4e30-a0b8-e4300a3d7b5c",
   "metadata": {},
   "outputs": [
    {
     "data": {
      "text/plain": [
       "{10, 15, 20, 30, 100}"
      ]
     },
     "execution_count": 45,
     "metadata": {},
     "output_type": "execute_result"
    }
   ],
   "source": [
    "set12"
   ]
  },
  {
   "cell_type": "code",
   "execution_count": 46,
   "id": "e6bc56a9-5372-42f3-b22f-fead339b0308",
   "metadata": {},
   "outputs": [
    {
     "name": "stdout",
     "output_type": "stream",
     "text": [
      "{1, 3}\n"
     ]
    }
   ],
   "source": [
    "# initialize my_set\n",
    "my_set = {1, 3}\n",
    "print(my_set)"
   ]
  },
  {
   "cell_type": "code",
   "execution_count": 47,
   "id": "e8fc5fbd-fb94-4cb2-939d-85257a2a54b3",
   "metadata": {},
   "outputs": [
    {
     "name": "stdout",
     "output_type": "stream",
     "text": [
      "{1, 3, 4, 5, 6, 8}\n"
     ]
    }
   ],
   "source": [
    "my_set.update([4,5],{1,6,8})\n",
    "print(my_set)"
   ]
  },
  {
   "cell_type": "code",
   "execution_count": 50,
   "id": "b6010c17-5454-4530-bd71-54f27105ca01",
   "metadata": {},
   "outputs": [],
   "source": [
    "my_set.discard(4)#delete 4"
   ]
  },
  {
   "cell_type": "code",
   "execution_count": 51,
   "id": "577b775e-c97d-45da-888c-a992a3c3bf36",
   "metadata": {},
   "outputs": [
    {
     "name": "stdout",
     "output_type": "stream",
     "text": [
      "{1, 3, 5, 6, 8}\n"
     ]
    }
   ],
   "source": [
    "print(my_set)"
   ]
  },
  {
   "cell_type": "code",
   "execution_count": 54,
   "id": "34be58f2-7751-4b97-8318-910fd0602829",
   "metadata": {},
   "outputs": [
    {
     "name": "stdout",
     "output_type": "stream",
     "text": [
      "{1, 2, 3, 4, 5, 6, 7, 8}\n"
     ]
    }
   ],
   "source": [
    "\"\"\"\n",
    ">>Set union method.\n",
    ">>initialize A and B.\n",
    "\"\"\"\n",
    "A = {1,2,3,4,5}\n",
    "B = {4,5,6,7,8}\n",
    "#Use | operator UNION.\n",
    "print(A | B)"
   ]
  },
  {
   "cell_type": "code",
   "execution_count": 55,
   "id": "b9c77642-3484-45cb-9c21-75197da7472d",
   "metadata": {},
   "outputs": [
    {
     "name": "stdout",
     "output_type": "stream",
     "text": [
      "{1, 2, 3, 4, 5, 6, 7, 8}\n",
      "{1, 2, 3, 4, 5, 6, 7, 8}\n"
     ]
    }
   ],
   "source": [
    "print(A.union(B))\n",
    "print(B.union(A))"
   ]
  },
  {
   "cell_type": "code",
   "execution_count": 57,
   "id": "3c51e05e-edac-4747-bc0f-2b700a9957f7",
   "metadata": {},
   "outputs": [
    {
     "name": "stdout",
     "output_type": "stream",
     "text": [
      "{4, 5}\n",
      "{4, 5}\n",
      "{4, 5}\n"
     ]
    }
   ],
   "source": [
    "#Intersection.\n",
    "print(A & B)\n",
    "print(A.intersection(B))\n",
    "print(B.intersection(A))"
   ]
  },
  {
   "cell_type": "code",
   "execution_count": 60,
   "id": "8107df53-0be3-481a-a4f4-c064f1466cde",
   "metadata": {},
   "outputs": [
    {
     "name": "stdout",
     "output_type": "stream",
     "text": [
      "{1, 2, 3}\n",
      "{8, 6, 7}\n",
      "{1, 2, 3}\n",
      "{8, 6, 7}\n"
     ]
    }
   ],
   "source": [
    "#Difference of two sets.\n",
    "#Initialize A and B.\n",
    "print(A-B)\n",
    "print(B-A)\n",
    "print(A.difference(B))\n",
    "print(B.difference(A))"
   ]
  },
  {
   "cell_type": "code",
   "execution_count": 61,
   "id": "ab0326c6-a315-43bb-b398-3d08bbf3d195",
   "metadata": {},
   "outputs": [
    {
     "name": "stdout",
     "output_type": "stream",
     "text": [
      "{1, 2, 3, 6, 7, 8}\n",
      "{1, 2, 3, 6, 7, 8}\n"
     ]
    }
   ],
   "source": [
    "print(A^B)\n",
    "print(A.symmetric_difference(B))"
   ]
  },
  {
   "cell_type": "code",
   "execution_count": 63,
   "id": "61553551-58c4-4cfe-b88a-cf0ec4ea1e83",
   "metadata": {},
   "outputs": [
    {
     "name": "stdout",
     "output_type": "stream",
     "text": [
      "1\n",
      "2\n",
      "3\n",
      "4\n",
      "5\n"
     ]
    }
   ],
   "source": [
    "# Set No Index but you can loop and test.\n",
    "for num in A:\n",
    "    print(num)"
   ]
  },
  {
   "cell_type": "code",
   "execution_count": 64,
   "id": "74247c7a-055d-4cc4-bd73-06cdb14457a3",
   "metadata": {},
   "outputs": [
    {
     "name": "stdout",
     "output_type": "stream",
     "text": [
      "True\n",
      "False\n"
     ]
    }
   ],
   "source": [
    "print(2 in A)\n",
    "print(2 in B)"
   ]
  },
  {
   "cell_type": "code",
   "execution_count": 65,
   "id": "884b4320-7d4e-4a98-9320-ae82633af233",
   "metadata": {},
   "outputs": [
    {
     "name": "stdout",
     "output_type": "stream",
     "text": [
      "You can also use the following methods with sets\n"
     ]
    }
   ],
   "source": [
    "print(\"You can also use the following methods with sets\")"
   ]
  },
  {
   "cell_type": "code",
   "execution_count": 66,
   "id": "b968b969-b5de-48d0-9aee-5a544ce5dc0e",
   "metadata": {},
   "outputs": [
    {
     "name": "stdout",
     "output_type": "stream",
     "text": [
      "\n",
      "enumerate().\n",
      "max().\n",
      "min().\n",
      "len().\n",
      "sum().\n",
      "sorted().\n",
      "\n"
     ]
    }
   ],
   "source": [
    "print(\"\"\"\n",
    "enumerate().\n",
    "max().\n",
    "min().\n",
    "len().\n",
    "sum().\n",
    "sorted().\n",
    "\"\"\")"
   ]
  },
  {
   "cell_type": "code",
   "execution_count": 67,
   "id": "48cafe30-a5f7-4af5-9e0d-209aac97415c",
   "metadata": {},
   "outputs": [
    {
     "name": "stdout",
     "output_type": "stream",
     "text": [
      "Dictionaries\n"
     ]
    }
   ],
   "source": [
    "print(\"Dictionaries\")"
   ]
  },
  {
   "cell_type": "code",
   "execution_count": 68,
   "id": "0d4c6d03-dbea-4216-a57c-ce38318ddaa0",
   "metadata": {},
   "outputs": [
    {
     "data": {
      "text/plain": [
       "'A Dictionary is a collection of a key-value pairs.'"
      ]
     },
     "execution_count": 68,
     "metadata": {},
     "output_type": "execute_result"
    }
   ],
   "source": [
    "\"\"\"A Dictionary is a collection of a key-value pairs.\"\"\""
   ]
  },
  {
   "cell_type": "code",
   "execution_count": 70,
   "id": "8d1cd4ae-087d-4030-9145-a2ed6d2ecacc",
   "metadata": {},
   "outputs": [],
   "source": [
    "human1 = {\n",
    "    'height':100,\n",
    "    'weight':80,\n",
    "    'eye-color':'green',\n",
    "    'language':'mongolian'\n",
    "}"
   ]
  },
  {
   "cell_type": "code",
   "execution_count": 71,
   "id": "4f3c909d-a25f-4bd3-aa89-fda2a92ddccb",
   "metadata": {},
   "outputs": [
    {
     "data": {
      "text/plain": [
       "{'height': 100, 'weight': 80, 'eye-color': 'green', 'language': 'mongolian'}"
      ]
     },
     "execution_count": 71,
     "metadata": {},
     "output_type": "execute_result"
    }
   ],
   "source": [
    "human1"
   ]
  },
  {
   "cell_type": "code",
   "execution_count": 73,
   "id": "680c4ab2-7b15-4473-b0ad-23b330d55d3a",
   "metadata": {},
   "outputs": [
    {
     "data": {
      "text/plain": [
       "['__class__',\n",
       " '__class_getitem__',\n",
       " '__contains__',\n",
       " '__delattr__',\n",
       " '__delitem__',\n",
       " '__dir__',\n",
       " '__doc__',\n",
       " '__eq__',\n",
       " '__format__',\n",
       " '__ge__',\n",
       " '__getattribute__',\n",
       " '__getitem__',\n",
       " '__getstate__',\n",
       " '__gt__',\n",
       " '__hash__',\n",
       " '__init__',\n",
       " '__init_subclass__',\n",
       " '__ior__',\n",
       " '__iter__',\n",
       " '__le__',\n",
       " '__len__',\n",
       " '__lt__',\n",
       " '__ne__',\n",
       " '__new__',\n",
       " '__or__',\n",
       " '__reduce__',\n",
       " '__reduce_ex__',\n",
       " '__repr__',\n",
       " '__reversed__',\n",
       " '__ror__',\n",
       " '__setattr__',\n",
       " '__setitem__',\n",
       " '__sizeof__',\n",
       " '__str__',\n",
       " '__subclasshook__',\n",
       " 'clear',\n",
       " 'copy',\n",
       " 'fromkeys',\n",
       " 'get',\n",
       " 'items',\n",
       " 'keys',\n",
       " 'pop',\n",
       " 'popitem',\n",
       " 'setdefault',\n",
       " 'update',\n",
       " 'values']"
      ]
     },
     "execution_count": 73,
     "metadata": {},
     "output_type": "execute_result"
    }
   ],
   "source": [
    "dir(human1)"
   ]
  },
  {
   "cell_type": "code",
   "execution_count": 74,
   "id": "71952b4f-310c-428f-9543-f8844dc910b1",
   "metadata": {},
   "outputs": [
    {
     "data": {
      "text/plain": [
       "{'height': 100, 'weight': 80, 'eye-color': 'green', 'language': 'mongolian'}"
      ]
     },
     "execution_count": 74,
     "metadata": {},
     "output_type": "execute_result"
    }
   ],
   "source": [
    "human1"
   ]
  },
  {
   "cell_type": "code",
   "execution_count": 75,
   "id": "81802870-233b-4fa3-ba05-2785870a8ce5",
   "metadata": {},
   "outputs": [
    {
     "data": {
      "text/plain": [
       "dict_items([('height', 100), ('weight', 80), ('eye-color', 'green'), ('language', 'mongolian')])"
      ]
     },
     "execution_count": 75,
     "metadata": {},
     "output_type": "execute_result"
    }
   ],
   "source": [
    "human1.items()"
   ]
  },
  {
   "cell_type": "code",
   "execution_count": 76,
   "id": "4a1b5b7e-a557-4c4e-a9f8-0762cb274fae",
   "metadata": {},
   "outputs": [
    {
     "name": "stdout",
     "output_type": "stream",
     "text": [
      "dict_keys(['height', 'weight', 'eye-color', 'language'])\n",
      "dict_values([100, 80, 'green', 'mongolian'])\n"
     ]
    }
   ],
   "source": [
    "print(human1.keys())\n",
    "print(human1.values())"
   ]
  },
  {
   "cell_type": "code",
   "execution_count": 77,
   "id": "5b4f0214-d22d-4e1d-831b-98dd171f2a83",
   "metadata": {},
   "outputs": [
    {
     "data": {
      "text/plain": [
       "4"
      ]
     },
     "execution_count": 77,
     "metadata": {},
     "output_type": "execute_result"
    }
   ],
   "source": [
    "len(human1)"
   ]
  },
  {
   "cell_type": "code",
   "execution_count": 78,
   "id": "fee0ef17-1393-4452-ba07-5644d0489e63",
   "metadata": {},
   "outputs": [
    {
     "name": "stdout",
     "output_type": "stream",
     "text": [
      "{'height': 100, 'weight': 80, 'eye-color': 'green', 'language': 'mongolian'}\n",
      "<class 'dict'>\n"
     ]
    }
   ],
   "source": [
    "print(human1)\n",
    "print(type(human1))"
   ]
  },
  {
   "cell_type": "code",
   "execution_count": 79,
   "id": "308154cf-5b39-48e3-aa95-8475f383aab3",
   "metadata": {},
   "outputs": [
    {
     "data": {
      "text/plain": [
       "['__class__',\n",
       " '__class_getitem__',\n",
       " '__contains__',\n",
       " '__delattr__',\n",
       " '__delitem__',\n",
       " '__dir__',\n",
       " '__doc__',\n",
       " '__eq__',\n",
       " '__format__',\n",
       " '__ge__',\n",
       " '__getattribute__',\n",
       " '__getitem__',\n",
       " '__getstate__',\n",
       " '__gt__',\n",
       " '__hash__',\n",
       " '__init__',\n",
       " '__init_subclass__',\n",
       " '__ior__',\n",
       " '__iter__',\n",
       " '__le__',\n",
       " '__len__',\n",
       " '__lt__',\n",
       " '__ne__',\n",
       " '__new__',\n",
       " '__or__',\n",
       " '__reduce__',\n",
       " '__reduce_ex__',\n",
       " '__repr__',\n",
       " '__reversed__',\n",
       " '__ror__',\n",
       " '__setattr__',\n",
       " '__setitem__',\n",
       " '__sizeof__',\n",
       " '__str__',\n",
       " '__subclasshook__',\n",
       " 'clear',\n",
       " 'copy',\n",
       " 'fromkeys',\n",
       " 'get',\n",
       " 'items',\n",
       " 'keys',\n",
       " 'pop',\n",
       " 'popitem',\n",
       " 'setdefault',\n",
       " 'update',\n",
       " 'values']"
      ]
     },
     "execution_count": 79,
     "metadata": {},
     "output_type": "execute_result"
    }
   ],
   "source": [
    "dir(human1)"
   ]
  },
  {
   "cell_type": "code",
   "execution_count": 80,
   "id": "24a3b1c3-29bf-46d4-9ef3-d0908a90963d",
   "metadata": {},
   "outputs": [
    {
     "data": {
      "text/plain": [
       "4"
      ]
     },
     "execution_count": 80,
     "metadata": {},
     "output_type": "execute_result"
    }
   ],
   "source": [
    "len(human1)"
   ]
  },
  {
   "cell_type": "code",
   "execution_count": 82,
   "id": "d1ee8e32-ce30-4fd4-bc2a-47495dae80f4",
   "metadata": {},
   "outputs": [
    {
     "data": {
      "text/plain": [
       "{'height': 100,\n",
       " 'weight': 80,\n",
       " 'eye-color': 'green',\n",
       " 'language': 'mongolian',\n",
       " 'sex': 'male'}"
      ]
     },
     "execution_count": 82,
     "metadata": {},
     "output_type": "execute_result"
    }
   ],
   "source": [
    "human1['sex']='male'#Add key&Value\n",
    "human1"
   ]
  },
  {
   "cell_type": "code",
   "execution_count": 84,
   "id": "af037d5c-fc2f-400b-be22-025ff3b0402c",
   "metadata": {},
   "outputs": [
    {
     "data": {
      "text/plain": [
       "{'height': 100,\n",
       " 'weight': 82,\n",
       " 'eye-color': 'green',\n",
       " 'language': 'mongolian',\n",
       " 'sex': 'male'}"
      ]
     },
     "execution_count": 84,
     "metadata": {},
     "output_type": "execute_result"
    }
   ],
   "source": [
    "human1['weight'] = 82#Update\n",
    "human1"
   ]
  },
  {
   "cell_type": "code",
   "execution_count": 85,
   "id": "b2b5dc15-875f-49b0-a6f1-25ae5f9166d7",
   "metadata": {},
   "outputs": [
    {
     "data": {
      "text/plain": [
       "{'eye-color', 'height', 'language', 'sex', 'weight'}"
      ]
     },
     "execution_count": 85,
     "metadata": {},
     "output_type": "execute_result"
    }
   ],
   "source": [
    "my_set = set(human1)\n",
    "my_set"
   ]
  },
  {
   "cell_type": "code",
   "execution_count": 86,
   "id": "8f9dbe57-5e45-4212-be27-fbe1393b5e00",
   "metadata": {},
   "outputs": [
    {
     "data": {
      "text/plain": [
       "{'name': 'ahmed', 'age': 45, 'language': ['arabic', 'english']}"
      ]
     },
     "execution_count": 86,
     "metadata": {},
     "output_type": "execute_result"
    }
   ],
   "source": [
    "# list Values.\n",
    "human3 = {'name':'ahmed',\n",
    "          'age':45,\n",
    "          'language':['arabic','english']}\n",
    "human3"
   ]
  },
  {
   "cell_type": "code",
   "execution_count": 87,
   "id": "cd642863-9e72-4123-acd4-d9e6a5408fa9",
   "metadata": {},
   "outputs": [
    {
     "data": {
      "text/plain": [
       "'arabic'"
      ]
     },
     "execution_count": 87,
     "metadata": {},
     "output_type": "execute_result"
    }
   ],
   "source": [
    "human3['language'][0]"
   ]
  },
  {
   "cell_type": "code",
   "execution_count": 88,
   "id": "ef31140c-096a-4e6e-822c-d02697c0b02e",
   "metadata": {},
   "outputs": [
    {
     "data": {
      "text/plain": [
       "'english'"
      ]
     },
     "execution_count": 88,
     "metadata": {},
     "output_type": "execute_result"
    }
   ],
   "source": [
    "human3['language'][1]"
   ]
  },
  {
   "cell_type": "code",
   "execution_count": 89,
   "id": "a8a78d09-8448-4bc7-ae04-53568f365eb4",
   "metadata": {},
   "outputs": [
    {
     "data": {
      "text/plain": [
       "{1: {'name': 'John', 'age': '27', 'sex': 'Male'},\n",
       " 2: {'name': 'Marie', 'age': '22', 'sex': 'Female'},\n",
       " 3: {'name': 'shawkat', 'age': '52', 'sex': 'Male'}}"
      ]
     },
     "execution_count": 89,
     "metadata": {},
     "output_type": "execute_result"
    }
   ],
   "source": [
    "humans = {\n",
    "    1:{'name':'John','age':'27','sex':'Male'},\n",
    "    2:{'name':'Marie','age':'22','sex':'Female'},\n",
    "    3:{'name':'shawkat','age':'52','sex':'Male'}\n",
    "}\n",
    "humans"
   ]
  },
  {
   "cell_type": "code",
   "execution_count": 90,
   "id": "a0548feb-78d5-462d-9ffc-47f3a175ddcb",
   "metadata": {},
   "outputs": [
    {
     "data": {
      "text/plain": [
       "'27'"
      ]
     },
     "execution_count": 90,
     "metadata": {},
     "output_type": "execute_result"
    }
   ],
   "source": [
    "humans[1]['age']"
   ]
  },
  {
   "cell_type": "code",
   "execution_count": 91,
   "id": "ded418d2-e84b-41c0-986d-8d7315c6d3ca",
   "metadata": {},
   "outputs": [
    {
     "data": {
      "text/plain": [
       "{1: {'name': 'John', 'age': '27', 'sex': 'Male'},\n",
       " 2: {'name': 'Marie', 'age': '22', 'sex': 'Female'},\n",
       " 3: {'name': 'rabso', 'age': '100', 'sex': 'powder'}}"
      ]
     },
     "execution_count": 91,
     "metadata": {},
     "output_type": "execute_result"
    }
   ],
   "source": [
    "humans[3]['name'] = 'rabso'\n",
    "humans[3]['age'] = '100'\n",
    "humans[3]['sex'] = 'powder'\n",
    "humans"
   ]
  },
  {
   "cell_type": "code",
   "execution_count": 92,
   "id": "19f4223d-d641-41ba-a5b1-0870436fcb69",
   "metadata": {},
   "outputs": [
    {
     "data": {
      "text/plain": [
       "{1: {'name': 'John', 'age': '27', 'sex': 'Male'},\n",
       " 2: {'name': 'Marie', 'age': '22', 'sex': 'Female'},\n",
       " 3: {'name': 'rabso', 'age': '100', 'sex': 'powder'},\n",
       " 4: {'name': 'Gamal', 'age': '47', 'married': 'No'}}"
      ]
     },
     "execution_count": 92,
     "metadata": {},
     "output_type": "execute_result"
    }
   ],
   "source": [
    "humans[4] = {'name':'Gamal','age':'47','married':'No'}\n",
    "humans"
   ]
  },
  {
   "cell_type": "code",
   "execution_count": 94,
   "id": "0a91dd40-4bee-4a69-8a10-0e4b09adec56",
   "metadata": {},
   "outputs": [
    {
     "ename": "KeyError",
     "evalue": "'married'",
     "output_type": "error",
     "traceback": [
      "\u001b[1;31m---------------------------------------------------------------------------\u001b[0m",
      "\u001b[1;31mKeyError\u001b[0m                                  Traceback (most recent call last)",
      "Cell \u001b[1;32mIn[94], line 1\u001b[0m\n\u001b[1;32m----> 1\u001b[0m \u001b[38;5;28;01mdel\u001b[39;00m humans[\u001b[38;5;241m4\u001b[39m][\u001b[38;5;124m'\u001b[39m\u001b[38;5;124mmarried\u001b[39m\u001b[38;5;124m'\u001b[39m]\n\u001b[0;32m      2\u001b[0m humans\n",
      "\u001b[1;31mKeyError\u001b[0m: 'married'"
     ]
    }
   ],
   "source": [
    "del humans[4]['married']\n",
    "humans"
   ]
  },
  {
   "cell_type": "code",
   "execution_count": 95,
   "id": "0f58c22c-3275-46f0-be8b-1a43244d67a3",
   "metadata": {},
   "outputs": [
    {
     "name": "stdout",
     "output_type": "stream",
     "text": [
      "collections--Container datatypes\n"
     ]
    }
   ],
   "source": [
    "print(\"collections--Container datatypes\")"
   ]
  },
  {
   "cell_type": "code",
   "execution_count": 97,
   "id": "6413de20-d470-44c4-9edc-10129705f30e",
   "metadata": {},
   "outputs": [
    {
     "name": "stdout",
     "output_type": "stream",
     "text": [
      "I am Ahmed and I am 54\n"
     ]
    }
   ],
   "source": [
    "name = 'Ahmed'\n",
    "age = 54\n",
    "print('I am',name,'and I am',age)"
   ]
  },
  {
   "cell_type": "code",
   "execution_count": 98,
   "id": "52794d5e-7b7b-4fb8-8936-1d5d477f3c1f",
   "metadata": {},
   "outputs": [
    {
     "data": {
      "text/plain": [
       "'abc is c1 def is 165 hij (9, 2)'"
      ]
     },
     "execution_count": 98,
     "metadata": {},
     "output_type": "execute_result"
    }
   ],
   "source": [
    "# {} as 'replacement fields'.\n",
    "'abc is {} def is {} hij {}'.format('c1',165,(9,2))"
   ]
  },
  {
   "cell_type": "code",
   "execution_count": 99,
   "id": "d8cdd5f9-acad-40f1-b4e0-d1e201d51e5a",
   "metadata": {},
   "outputs": [],
   "source": [
    "# positional arguments"
   ]
  },
  {
   "cell_type": "code",
   "execution_count": 100,
   "id": "8224c764-481a-421f-a08d-0eee32581719",
   "metadata": {},
   "outputs": [
    {
     "data": {
      "text/plain": [
       "'abc is c1 def is 165 hij (9, 2)'"
      ]
     },
     "execution_count": 100,
     "metadata": {},
     "output_type": "execute_result"
    }
   ],
   "source": [
    "'abc is {} def is {} hij {}'.format('c1',165,(9,2))"
   ]
  },
  {
   "cell_type": "code",
   "execution_count": 101,
   "id": "366e7068-1288-411a-8cb2-b643c5b66c05",
   "metadata": {},
   "outputs": [
    {
     "data": {
      "text/plain": [
       "\"abc is 'Python'\""
      ]
     },
     "execution_count": 101,
     "metadata": {},
     "output_type": "execute_result"
    }
   ],
   "source": [
    "'abc is {a!a}'.format(a=\"Python\")"
   ]
  },
  {
   "cell_type": "code",
   "execution_count": 102,
   "id": "3968eabc-a408-463f-b9c9-fb9ecc8a0c58",
   "metadata": {},
   "outputs": [
    {
     "data": {
      "text/plain": [
       "'The value of pi is: 3.141593'"
      ]
     },
     "execution_count": 102,
     "metadata": {},
     "output_type": "execute_result"
    }
   ],
   "source": [
    "'The value of pi is: {0:4f}'.format(3.14159265)"
   ]
  },
  {
   "cell_type": "code",
   "execution_count": 103,
   "id": "6deefcae-6348-4de2-ac6f-9139378007b1",
   "metadata": {},
   "outputs": [
    {
     "name": "stdout",
     "output_type": "stream",
     "text": [
      "Formatting f-strings\n"
     ]
    }
   ],
   "source": [
    "print(\"Formatting f-strings\")"
   ]
  },
  {
   "cell_type": "code",
   "execution_count": 104,
   "id": "9ab837f5-67dd-4c51-bdfb-b65cdfc9fe39",
   "metadata": {},
   "outputs": [],
   "source": [
    "txt1 = \"My name is {1}, I'm {0}\".format(\"John\",36) "
   ]
  },
  {
   "cell_type": "code",
   "execution_count": 105,
   "id": "10d9786b-a673-42c0-9dc2-afa6b47ac4de",
   "metadata": {},
   "outputs": [
    {
     "data": {
      "text/plain": [
       "\"My name is 36, I'm John\""
      ]
     },
     "execution_count": 105,
     "metadata": {},
     "output_type": "execute_result"
    }
   ],
   "source": [
    "txt1"
   ]
  },
  {
   "cell_type": "code",
   "execution_count": 106,
   "id": "50cc2952-f426-415d-adb0-9828972e1434",
   "metadata": {},
   "outputs": [
    {
     "data": {
      "text/plain": [
       "'My name is Ahmed, I am 45'"
      ]
     },
     "execution_count": 106,
     "metadata": {},
     "output_type": "execute_result"
    }
   ],
   "source": [
    "name = 'Ahmed'\n",
    "age = 45\n",
    "txt1 = f\"My name is {name}, I am {age}\"\n",
    "txt1"
   ]
  },
  {
   "cell_type": "code",
   "execution_count": 115,
   "id": "44138e14-6893-491e-8a74-9357df072521",
   "metadata": {},
   "outputs": [
    {
     "data": {
      "text/plain": [
       "\"abc is AHMED def is [' ', 'A', 'M', 'b', 'd', 'e', 'e', 'i', 'l', 'm', 'n', 'o'] and also try AHMED\""
      ]
     },
     "execution_count": 115,
     "metadata": {},
     "output_type": "execute_result"
    }
   ],
   "source": [
    "a = 'Ahmed'\n",
    "b = 'Abdel Moneim'\n",
    "f\"abc is {a.upper()} def is {sorted(b)} and also try {a.replace('E','A').upper()}\""
   ]
  },
  {
   "cell_type": "code",
   "execution_count": 117,
   "id": "06de5a66-b232-4e96-9c72-516c1cbd10b7",
   "metadata": {},
   "outputs": [
    {
     "name": "stdout",
     "output_type": "stream",
     "text": [
      "Splitting And Joining-String\n"
     ]
    }
   ],
   "source": [
    "print(\"Splitting And Joining-String\")"
   ]
  },
  {
   "cell_type": "code",
   "execution_count": 119,
   "id": "a143a5e2-aa2e-4b6d-abb2-80003d390328",
   "metadata": {},
   "outputs": [
    {
     "data": {
      "text/plain": [
       "['Ahmed', 'Abdel', 'Moneim', 'Abdel', 'Halim', 'Hassan', 'AlSaidi']"
      ]
     },
     "execution_count": 119,
     "metadata": {},
     "output_type": "execute_result"
    }
   ],
   "source": [
    "MyName = \"Ahmed Abdel Moneim Abdel Halim Hassan AlSaidi\"\n",
    "myName = MyName.split(' ')\n",
    "myName\n",
    "MyName = \"Ahmed,Abdel,Moneim,Abdel,Halim,Hassan,AlSaidi\"\n",
    "myName = MyName.split(',')\n",
    "myName"
   ]
  },
  {
   "cell_type": "code",
   "execution_count": 125,
   "id": "dfc6ac48-f7ef-4afd-b897-5087f095d0e5",
   "metadata": {},
   "outputs": [
    {
     "data": {
      "text/plain": [
       "'This is line1\\nThis is line2\\nThis is line3\\n'"
      ]
     },
     "execution_count": 125,
     "metadata": {},
     "output_type": "execute_result"
    }
   ],
   "source": [
    "lines = \"\"\"This is line1\n",
    "This is line2\n",
    "This is line3\n",
    "\"\"\"\n",
    "lines"
   ]
  },
  {
   "cell_type": "code",
   "execution_count": 126,
   "id": "7ed8a4bf-4ae3-496c-8c62-95b863973426",
   "metadata": {},
   "outputs": [
    {
     "data": {
      "text/plain": [
       "['This is line1\\n', 'This is line2\\n', 'This is line3\\n']"
      ]
     },
     "execution_count": 126,
     "metadata": {},
     "output_type": "execute_result"
    }
   ],
   "source": [
    "lines.splitlines(True)"
   ]
  },
  {
   "cell_type": "code",
   "execution_count": 127,
   "id": "2dee7a5c-486a-45f0-86a3-9e768d495c93",
   "metadata": {},
   "outputs": [],
   "source": [
    "text_Name = ['Ahmed','Abdel','Moneim','Abdel','Halim','Hassan','AlSaidi']"
   ]
  },
  {
   "cell_type": "code",
   "execution_count": 129,
   "id": "7320a8c9-09ac-41f2-8303-8246e9597f12",
   "metadata": {},
   "outputs": [
    {
     "data": {
      "text/plain": [
       "'Ahmed,Abdel,Moneim,Abdel,Halim,Hassan,AlSaidi'"
      ]
     },
     "execution_count": 129,
     "metadata": {},
     "output_type": "execute_result"
    }
   ],
   "source": [
    "','.join(text_Name)"
   ]
  },
  {
   "cell_type": "code",
   "execution_count": 130,
   "id": "1eb71348-b2b8-46a6-9029-280e03e75194",
   "metadata": {},
   "outputs": [
    {
     "data": {
      "text/plain": [
       "'Ahmed Abdel Moneim Abdel Halim Hassan AlSaidi'"
      ]
     },
     "execution_count": 130,
     "metadata": {},
     "output_type": "execute_result"
    }
   ],
   "source": [
    "' '.join(text_Name) "
   ]
  },
  {
   "cell_type": "code",
   "execution_count": 131,
   "id": "70dcc3a5-cbbb-4e39-83ca-d328349502e3",
   "metadata": {},
   "outputs": [
    {
     "name": "stdout",
     "output_type": "stream",
     "text": [
      "('Ahmed Abdel Moneim', ',', 'AlSaidi')\n"
     ]
    }
   ],
   "source": [
    "print('Ahmed Abdel Moneim,AlSaidi'.partition(','))"
   ]
  },
  {
   "cell_type": "code",
   "execution_count": 132,
   "id": "c7028937-c8cd-4ada-8e3c-41ce69b8b460",
   "metadata": {},
   "outputs": [
    {
     "name": "stdout",
     "output_type": "stream",
     "text": [
      "Character Checks\n"
     ]
    }
   ],
   "source": [
    "print('Character Checks')"
   ]
  },
  {
   "cell_type": "code",
   "execution_count": 133,
   "id": "3f5ae43e-4681-4063-9cec-eb96192582ae",
   "metadata": {},
   "outputs": [
    {
     "data": {
      "text/plain": [
       "False"
      ]
     },
     "execution_count": 133,
     "metadata": {},
     "output_type": "execute_result"
    }
   ],
   "source": [
    "'-27'.isdigit()"
   ]
  },
  {
   "cell_type": "code",
   "execution_count": 134,
   "id": "39050da6-7ac5-4164-afcf-f543250ce481",
   "metadata": {},
   "outputs": [
    {
     "data": {
      "text/plain": [
       "True"
      ]
     },
     "execution_count": 134,
     "metadata": {},
     "output_type": "execute_result"
    }
   ],
   "source": [
    "'27'.isdigit()"
   ]
  },
  {
   "cell_type": "code",
   "execution_count": 135,
   "id": "f1d24093-28e8-46d6-81b6-a5f6d416f0f3",
   "metadata": {},
   "outputs": [
    {
     "data": {
      "text/plain": [
       "True"
      ]
     },
     "execution_count": 135,
     "metadata": {},
     "output_type": "execute_result"
    }
   ],
   "source": [
    "'A9876'.isalnum()"
   ]
  },
  {
   "cell_type": "code",
   "execution_count": 136,
   "id": "8dc14c22-ff00-42b4-9baa-70cb32e199ba",
   "metadata": {},
   "outputs": [
    {
     "data": {
      "text/plain": [
       "False"
      ]
     },
     "execution_count": 136,
     "metadata": {},
     "output_type": "execute_result"
    }
   ],
   "source": [
    "'123 Main Street'.isalnum()"
   ]
  },
  {
   "cell_type": "code",
   "execution_count": 137,
   "id": "0a93ba7b-f4e7-43a1-a430-4141e8d3f8da",
   "metadata": {},
   "outputs": [
    {
     "data": {
      "text/plain": [
       "True"
      ]
     },
     "execution_count": 137,
     "metadata": {},
     "output_type": "execute_result"
    }
   ],
   "source": [
    "'123MainStreet'.isalnum()"
   ]
  },
  {
   "cell_type": "code",
   "execution_count": 138,
   "id": "9c09a024-cb7d-43d3-8faa-348d486d337e",
   "metadata": {},
   "outputs": [
    {
     "name": "stdout",
     "output_type": "stream",
     "text": [
      "Raw-String\n"
     ]
    }
   ],
   "source": [
    "print(\"Raw-String\")"
   ]
  },
  {
   "cell_type": "code",
   "execution_count": 139,
   "id": "e2cca975-9e41-43ce-8715-a8557225e9ba",
   "metadata": {},
   "outputs": [],
   "source": [
    "file_path = 'C:\\\\MyFolder\\\\MySubFolder\\\\MyFile.txt'"
   ]
  },
  {
   "cell_type": "code",
   "execution_count": 140,
   "id": "f631d34d-868b-4c5f-9e85-d7e775ac0dcd",
   "metadata": {},
   "outputs": [
    {
     "data": {
      "text/plain": [
       "'C:\\\\MyFolder\\\\MySubFolder\\\\MyFile.txt'"
      ]
     },
     "execution_count": 140,
     "metadata": {},
     "output_type": "execute_result"
    }
   ],
   "source": [
    "file_path"
   ]
  },
  {
   "cell_type": "code",
   "execution_count": 141,
   "id": "36bd219c-46b6-4cf8-9cf6-3f5338a74910",
   "metadata": {},
   "outputs": [
    {
     "name": "stdout",
     "output_type": "stream",
     "text": [
      "C:\\MyFolder\\MySubFolder\\MyFile.txt\n"
     ]
    }
   ],
   "source": [
    "print(file_path)"
   ]
  },
  {
   "cell_type": "code",
   "execution_count": 142,
   "id": "26841f3c-cea8-42eb-ac0a-a5bedfadc138",
   "metadata": {},
   "outputs": [
    {
     "name": "stdout",
     "output_type": "stream",
     "text": [
      "if...else and if...elif...else Statements\n"
     ]
    }
   ],
   "source": [
    "print('if...else and if...elif...else Statements')"
   ]
  },
  {
   "cell_type": "code",
   "execution_count": 143,
   "id": "70b21f16-9d09-48bb-b60d-7deb28a17647",
   "metadata": {},
   "outputs": [
    {
     "name": "stdout",
     "output_type": "stream",
     "text": [
      "Yes it is\n"
     ]
    }
   ],
   "source": [
    "car = 'bmw'\n",
    "if car=='bmw':\n",
    "    print('Yes it is')"
   ]
  },
  {
   "cell_type": "code",
   "execution_count": 144,
   "id": "0e55c763-57fb-4ea9-ba33-d81a08773592",
   "metadata": {},
   "outputs": [
    {
     "name": "stdout",
     "output_type": "stream",
     "text": [
      "Ahmed Abdel Moneim AlSaidi\n"
     ]
    }
   ],
   "source": [
    "if 1:\n",
    "    print(\"Ahmed Abdel Moneim AlSaidi\")"
   ]
  },
  {
   "cell_type": "code",
   "execution_count": 145,
   "id": "51f38194-d655-4e3d-9113-ca51f8507405",
   "metadata": {},
   "outputs": [],
   "source": [
    "if 0:\n",
    "    print(\"Egypt\")"
   ]
  },
  {
   "cell_type": "code",
   "execution_count": 148,
   "id": "db802b2c-bae5-4aad-a148-bfd2580dc453",
   "metadata": {},
   "outputs": [
    {
     "name": "stdin",
     "output_type": "stream",
     "text": [
      "How old are you? 45\n"
     ]
    },
    {
     "name": "stdout",
     "output_type": "stream",
     "text": [
      "You are still young!\n"
     ]
    }
   ],
   "source": [
    "age = int(input('How old are you?'))\n",
    "if 60 >= age >=45:\n",
    "    print('You are still young!')"
   ]
  },
  {
   "cell_type": "code",
   "execution_count": 149,
   "id": "a2ec76f1-660c-40a8-930f-59111338b8da",
   "metadata": {},
   "outputs": [
    {
     "name": "stdin",
     "output_type": "stream",
     "text": [
      "How old are you? 15\n"
     ]
    },
    {
     "name": "stdout",
     "output_type": "stream",
     "text": [
      "Sorry!\n"
     ]
    }
   ],
   "source": [
    "age = int(input('How old are you?'))\n",
    "if 60 >= age >= 45:\n",
    "    print(\"You are still young!\")\n",
    "else:\n",
    "    print(\"Sorry!\")"
   ]
  },
  {
   "cell_type": "code",
   "execution_count": 150,
   "id": "8340803e-1b66-4b77-ad2d-3bf4751ff572",
   "metadata": {},
   "outputs": [
    {
     "name": "stdout",
     "output_type": "stream",
     "text": [
      "B\n"
     ]
    }
   ],
   "source": [
    "grade = 80\n",
    "if grade >= 90:\n",
    "    print('A')\n",
    "elif grade >= 80:\n",
    "    print('B')\n",
    "elif grade >= 70:\n",
    "    print('C')\n",
    "elif grade >= 60:\n",
    "    print('D')\n",
    "else:\n",
    "    print('F')"
   ]
  },
  {
   "cell_type": "code",
   "execution_count": 151,
   "id": "4004c74f-de8f-4e44-95df-affe08c10110",
   "metadata": {},
   "outputs": [
    {
     "name": "stdin",
     "output_type": "stream",
     "text": [
      "How old are you? 25\n",
      "Enta mneen yaad? medo\n"
     ]
    },
    {
     "name": "stdout",
     "output_type": "stream",
     "text": [
      "ahlan\n"
     ]
    }
   ],
   "source": [
    "age = int(input('How old are you?'))\n",
    "country = input('Enta mneen yaad?')\n",
    "if 60 >= float(age) >= 45 and country.lower() == 'egypt':\n",
    "    print('kafa2a')\n",
    "else:\n",
    "    print(\"ahlan\")"
   ]
  },
  {
   "cell_type": "code",
   "execution_count": 152,
   "id": "27f29e0d-5042-4020-b3e1-12a34591b9ee",
   "metadata": {},
   "outputs": [
    {
     "data": {
      "text/plain": [
       "'Passed'"
      ]
     },
     "execution_count": 152,
     "metadata": {},
     "output_type": "execute_result"
    }
   ],
   "source": [
    "grade = 87\n",
    "if grade >= 60:\n",
    "    result = 'Passed'\n",
    "else:\n",
    "    result = 'Failed'\n",
    "result"
   ]
  },
  {
   "cell_type": "code",
   "execution_count": 153,
   "id": "2bb1418b-0001-433f-aa77-257e6c82ebc6",
   "metadata": {},
   "outputs": [
    {
     "data": {
      "text/plain": [
       "'Passed'"
      ]
     },
     "execution_count": 153,
     "metadata": {},
     "output_type": "execute_result"
    }
   ],
   "source": [
    "'Passed' if grade >= 60 else 'Failed'"
   ]
  },
  {
   "cell_type": "code",
   "execution_count": 154,
   "id": "1c87e719-c5ec-4b16-b316-e22638a917b1",
   "metadata": {},
   "outputs": [
    {
     "name": "stdin",
     "output_type": "stream",
     "text": [
      "Enter an integer: 15\n"
     ]
    },
    {
     "data": {
      "text/plain": [
       "[1, 3, 5]"
      ]
     },
     "execution_count": 154,
     "metadata": {},
     "output_type": "execute_result"
    }
   ],
   "source": [
    "[2,4,6] if int(input('Enter an integer:')) % 2 == 0 else [1,3,5]"
   ]
  },
  {
   "cell_type": "code",
   "execution_count": 155,
   "id": "6340fcc4-206b-4d98-b22d-e7e165887a40",
   "metadata": {},
   "outputs": [
    {
     "name": "stdin",
     "output_type": "stream",
     "text": [
      "Enter an integer: 2\n"
     ]
    },
    {
     "data": {
      "text/plain": [
       "'even'"
      ]
     },
     "execution_count": 155,
     "metadata": {},
     "output_type": "execute_result"
    }
   ],
   "source": [
    "'even' if int(input('Enter an integer:')) % 2 == 0 else 'odd'"
   ]
  },
  {
   "cell_type": "code",
   "execution_count": 156,
   "id": "49fbed4b-a3e7-41e4-ba59-57fd59e58c82",
   "metadata": {},
   "outputs": [],
   "source": [
    "if True:\n",
    "    pass"
   ]
  },
  {
   "cell_type": "code",
   "execution_count": 157,
   "id": "2f224c3b-287b-4ed1-ad41-a00f3e5f838c",
   "metadata": {},
   "outputs": [
    {
     "name": "stdout",
     "output_type": "stream",
     "text": [
      "While statement\n"
     ]
    }
   ],
   "source": [
    "print(\"While statement\")"
   ]
  },
  {
   "cell_type": "code",
   "execution_count": 158,
   "id": "9e9e4ae0-9c14-4b98-875e-9e8372124286",
   "metadata": {},
   "outputs": [
    {
     "data": {
      "text/plain": [
       "91"
      ]
     },
     "execution_count": 158,
     "metadata": {},
     "output_type": "execute_result"
    }
   ],
   "source": [
    "counter = 1\n",
    "while counter < 90:\n",
    "    counter += 3\n",
    "counter"
   ]
  },
  {
   "cell_type": "code",
   "execution_count": 2,
   "id": "d2a6cc99-4400-4371-89c9-44c704fcea94",
   "metadata": {},
   "outputs": [
    {
     "name": "stdout",
     "output_type": "stream",
     "text": [
      "['Ahmed', 'Abdel', 'Moneim', 'Abdel', 'Halim', 'Hassan', 'Alsaidi']\n",
      "['Ahmed', 'Abdel', 'Moneim', 'Abdel', 'Halim', 'Hassan']\n",
      "['Ahmed', 'Abdel', 'Moneim', 'Abdel', 'Halim']\n",
      "['Ahmed', 'Abdel', 'Moneim', 'Abdel']\n",
      "['Ahmed', 'Abdel', 'Moneim']\n",
      "['Ahmed', 'Abdel']\n",
      "['Ahmed']\n"
     ]
    },
    {
     "data": {
      "text/plain": [
       "[]"
      ]
     },
     "execution_count": 2,
     "metadata": {},
     "output_type": "execute_result"
    }
   ],
   "source": [
    "myName = ['Ahmed','Abdel','Moneim','Abdel','Halim','Hassan','Alsaidi']\n",
    "while len(myName) > 0:\n",
    "    print(myName)\n",
    "    myName.pop()\n",
    "myName"
   ]
  },
  {
   "cell_type": "code",
   "execution_count": 7,
   "id": "7d53ece0-d3bb-4a46-b4e9-f3cc852e1d5c",
   "metadata": {},
   "outputs": [
    {
     "name": "stdout",
     "output_type": "stream",
     "text": [
      "True 0\n",
      "True 1\n",
      "True 2\n",
      "True 3\n",
      "True 4\n",
      "False\n"
     ]
    }
   ],
   "source": [
    "i=0\n",
    "while i<5:\n",
    "    print(i<5,i)\n",
    "    i=i+1\n",
    "print(i<5)"
   ]
  },
  {
   "cell_type": "code",
   "execution_count": 8,
   "id": "24761a34-5120-4d95-b806-74f66911bb1c",
   "metadata": {},
   "outputs": [
    {
     "name": "stdout",
     "output_type": "stream",
     "text": [
      "For Loop\n"
     ]
    }
   ],
   "source": [
    "print(\"For Loop\")"
   ]
  },
  {
   "cell_type": "code",
   "execution_count": 1,
   "id": "f5785c95-a336-4fed-8c96-ff0e463c2f5d",
   "metadata": {},
   "outputs": [
    {
     "name": "stdout",
     "output_type": "stream",
     "text": [
      "iterate through iterable\n"
     ]
    }
   ],
   "source": [
    "print(\"iterate through iterable\")"
   ]
  },
  {
   "cell_type": "code",
   "execution_count": 2,
   "id": "d4134524-3ba7-469d-bf62-f1a7dc74ba88",
   "metadata": {},
   "outputs": [],
   "source": [
    "myCountries = ['USA','Canada','Australia','UK','Egypt']"
   ]
  },
  {
   "cell_type": "code",
   "execution_count": 3,
   "id": "b9a48763-0d7e-4b2d-a988-1e6dc35bb090",
   "metadata": {},
   "outputs": [
    {
     "name": "stdout",
     "output_type": "stream",
     "text": [
      "USA\n",
      "Canada\n",
      "Australia\n",
      "UK\n",
      "Egypt\n"
     ]
    }
   ],
   "source": [
    "for country in myCountries:\n",
    "    print(country)"
   ]
  },
  {
   "cell_type": "code",
   "execution_count": 4,
   "id": "f5db6c80-eee5-4e92-93be-ad43f594cf50",
   "metadata": {},
   "outputs": [
    {
     "name": "stdout",
     "output_type": "stream",
     "text": [
      "{'T'}\n",
      "{'h'}\n",
      "{'i'}\n",
      "{'s'}\n",
      "{' '}\n",
      "{'i'}\n",
      "{'s'}\n",
      "{' '}\n",
      "{'a'}\n",
      "{' '}\n",
      "{'s'}\n",
      "{'t'}\n",
      "{'r'}\n",
      "{'i'}\n",
      "{'n'}\n",
      "{'g'}\n"
     ]
    }
   ],
   "source": [
    "some_text = \"This is a string\"\n",
    "for letter in some_text:\n",
    "    print({letter})"
   ]
  },
  {
   "cell_type": "code",
   "execution_count": 5,
   "id": "83569655-c53b-44bf-9472-a6efb02a7956",
   "metadata": {},
   "outputs": [
    {
     "name": "stdout",
     "output_type": "stream",
     "text": [
      "Ahmed\n",
      "Abdel\n",
      "Moneim\n",
      "Abdel\n",
      "Halim\n",
      "Hassan\n",
      "AlSaidi\n"
     ]
    }
   ],
   "source": [
    "myName = ['Ahmed','Abdel','Moneim','Abdel','Halim','Hassan','AlSaidi']\n",
    "for name in myName:\n",
    "    print(name)"
   ]
  },
  {
   "cell_type": "code",
   "execution_count": 7,
   "id": "7929a7ff-c91c-40bd-8d76-fd62e760c80e",
   "metadata": {},
   "outputs": [
    {
     "name": "stdout",
     "output_type": "stream",
     "text": [
      "0 Ahmed\n",
      "1 Abdel\n",
      "2 Moneim\n",
      "3 Abdel\n",
      "4 Halim\n",
      "5 Hassan\n",
      "6 AlSaidi\n"
     ]
    }
   ],
   "source": [
    "for index,name in enumerate(myName):\n",
    "    print(index,name)"
   ]
  },
  {
   "cell_type": "code",
   "execution_count": 9,
   "id": "bb14d7f0-ca43-41d6-a8d1-7f4b70c6db18",
   "metadata": {},
   "outputs": [
    {
     "data": {
      "text/plain": [
       "{'Ahmed': 'USA',\n",
       " 'Abdel': 'UK',\n",
       " 'Moneim': 'Australia',\n",
       " 'Halim': 'Houston',\n",
       " 'Hassan': 'Austin',\n",
       " 'AlSaidi': 'Dallas'}"
      ]
     },
     "execution_count": 9,
     "metadata": {},
     "output_type": "execute_result"
    }
   ],
   "source": [
    "myNameDict = {\n",
    "    'Ahmed':'USA',\n",
    "    'Abdel':'Canada',\n",
    "    'Moneim':'Australia',\n",
    "    'Abdel':'UK',\n",
    "    'Halim':'Houston',\n",
    "    'Hassan':'Austin',\n",
    "    'AlSaidi':'Dallas'\n",
    "}\n",
    "myNameDict"
   ]
  },
  {
   "cell_type": "code",
   "execution_count": 10,
   "id": "bf9ef90a-b772-48fd-9500-5365bb50972c",
   "metadata": {},
   "outputs": [
    {
     "name": "stdout",
     "output_type": "stream",
     "text": [
      "USA\n",
      "UK\n",
      "Australia\n",
      "Houston\n",
      "Austin\n",
      "Dallas\n"
     ]
    }
   ],
   "source": [
    "for name in myNameDict.values():\n",
    "    print(name)"
   ]
  },
  {
   "cell_type": "code",
   "execution_count": 11,
   "id": "58781c2e-8514-44ce-a3ee-170b21a4a13f",
   "metadata": {},
   "outputs": [
    {
     "name": "stdout",
     "output_type": "stream",
     "text": [
      "Ahmed\n",
      "Abdel\n",
      "Moneim\n",
      "Halim\n",
      "Hassan\n",
      "AlSaidi\n"
     ]
    }
   ],
   "source": [
    "for name in myNameDict.keys():\n",
    "    print(name)"
   ]
  },
  {
   "cell_type": "code",
   "execution_count": 12,
   "id": "b29d68ac-807f-47d5-baa6-69a802d5ce65",
   "metadata": {},
   "outputs": [],
   "source": [
    "#enumerate():-the number of iterations (loops) in a loop."
   ]
  },
  {
   "cell_type": "code",
   "execution_count": 13,
   "id": "ce6eb864-7ed6-4280-ab75-3cb5a9c33811",
   "metadata": {},
   "outputs": [
    {
     "name": "stdout",
     "output_type": "stream",
     "text": [
      "Ahmed USA\n",
      "Abdel UK\n",
      "Moneim Australia\n",
      "Halim Houston\n",
      "Hassan Austin\n",
      "AlSaidi Dallas\n"
     ]
    }
   ],
   "source": [
    "for counter,(index,name) in enumerate(myNameDict.items()):\n",
    "    print(index,name)\n",
    "    "
   ]
  },
  {
   "cell_type": "code",
   "execution_count": 15,
   "id": "7678e6c3-a26a-4afc-81e1-e65ba50fdee8",
   "metadata": {},
   "outputs": [
    {
     "name": "stdout",
     "output_type": "stream",
     "text": [
      "1 is old\n",
      "2 is even\n",
      "3 is old\n",
      "4 is even\n",
      "5 is old\n",
      "6 is even\n",
      "7 is old\n",
      "8 is even\n",
      "9 is old\n",
      "10 is even\n",
      "11 is old\n",
      "12 is even\n",
      "13 is old\n",
      "14 is even\n",
      "15 is old\n",
      "16 is even\n",
      "17 is old\n",
      "18 is even\n",
      "19 is old\n",
      "20 is even\n",
      "21 is old\n"
     ]
    }
   ],
   "source": [
    "for counter in range(1,22):\n",
    "    if counter % 2 ==0:\n",
    "        print(f'{counter} is even')\n",
    "    else:\n",
    "        print(f'{counter} is old')"
   ]
  },
  {
   "cell_type": "code",
   "execution_count": 16,
   "id": "c9cd422b-9eda-4432-8467-a225deebcf49",
   "metadata": {},
   "outputs": [
    {
     "name": "stdout",
     "output_type": "stream",
     "text": [
      "T\n",
      "h\n",
      "i\n",
      "s\n",
      " \n",
      "i\n",
      "s\n",
      " \n",
      "a\n",
      " \n",
      "s\n",
      "i\n",
      "m\n",
      "p\n",
      "l\n",
      "e\n",
      " \n",
      "s\n",
      "t\n",
      "r\n",
      "i\n",
      "n\n",
      "g\n"
     ]
    }
   ],
   "source": [
    "for letter in \"This is a simple string\":\n",
    "    if letter == 'i':\n",
    "#        continue\n",
    "        pass\n",
    "    print(letter)"
   ]
  },
  {
   "cell_type": "code",
   "execution_count": 17,
   "id": "dcf65122-4183-42a9-998a-43cba7edca8d",
   "metadata": {},
   "outputs": [
    {
     "name": "stdout",
     "output_type": "stream",
     "text": [
      "0 is dividable by 3\n",
      "3 is dividable by 3\n",
      "6 is dividable by 3\n",
      "9 is dividable by 3\n",
      "12 is dividable by 3\n",
      "15 is dividable by 3\n",
      "18 is dividable by 3\n",
      "19\n"
     ]
    }
   ],
   "source": [
    "for num in range(20):\n",
    "    if num % 3 == 0:\n",
    "        print(f'{num} is dividable by 3')\n",
    "else:\n",
    "    print(num)"
   ]
  },
  {
   "cell_type": "code",
   "execution_count": 18,
   "id": "db994114-3e8f-4d40-a04c-9942b71cca98",
   "metadata": {},
   "outputs": [
    {
     "name": "stdout",
     "output_type": "stream",
     "text": [
      "Example:Word Count\n"
     ]
    }
   ],
   "source": [
    "print(\"Example:Word Count\")"
   ]
  },
  {
   "cell_type": "code",
   "execution_count": 2,
   "id": "c1738d14-0dbc-4b96-9ea3-a6d44902c92e",
   "metadata": {},
   "outputs": [],
   "source": [
    "text = ('this is sample text with several words'\n",
    "        ' this is more sample text with some different words'\n",
    "        ' that is also another text with other different words'\n",
    ")"
   ]
  },
  {
   "cell_type": "code",
   "execution_count": 3,
   "id": "288cbeca-41e3-4245-974a-3931b4d6b059",
   "metadata": {},
   "outputs": [
    {
     "data": {
      "text/plain": [
       "'this is sample text with several words this is more sample text with some different words that is also another text with other different words'"
      ]
     },
     "execution_count": 3,
     "metadata": {},
     "output_type": "execute_result"
    }
   ],
   "source": [
    "text"
   ]
  },
  {
   "cell_type": "code",
   "execution_count": 4,
   "id": "2624be1e-5569-44de-bfdd-8846e0030eb2",
   "metadata": {},
   "outputs": [
    {
     "data": {
      "text/plain": [
       "['this',\n",
       " 'is',\n",
       " 'sample',\n",
       " 'text',\n",
       " 'with',\n",
       " 'several',\n",
       " 'words',\n",
       " 'this',\n",
       " 'is',\n",
       " 'more',\n",
       " 'sample',\n",
       " 'text',\n",
       " 'with',\n",
       " 'some',\n",
       " 'different',\n",
       " 'words',\n",
       " 'that',\n",
       " 'is',\n",
       " 'also',\n",
       " 'another',\n",
       " 'text',\n",
       " 'with',\n",
       " 'other',\n",
       " 'different',\n",
       " 'words']"
      ]
     },
     "execution_count": 4,
     "metadata": {},
     "output_type": "execute_result"
    }
   ],
   "source": [
    "text.split()"
   ]
  },
  {
   "cell_type": "code",
   "execution_count": 5,
   "id": "65d57ec9-edb3-4af5-b0cf-a93d8acbf6d4",
   "metadata": {},
   "outputs": [
    {
     "data": {
      "text/plain": [
       "25"
      ]
     },
     "execution_count": 5,
     "metadata": {},
     "output_type": "execute_result"
    }
   ],
   "source": [
    "len(text.split())"
   ]
  },
  {
   "cell_type": "code",
   "execution_count": 6,
   "id": "49c0d78b-0439-4f8c-a505-c9bd3e8ddf50",
   "metadata": {},
   "outputs": [
    {
     "name": "stdout",
     "output_type": "stream",
     "text": [
      "25\n"
     ]
    }
   ],
   "source": [
    "#The Word Count.\n",
    "i = 0\n",
    "for t in text.split():\n",
    "    i+=1\n",
    "print(i)"
   ]
  },
  {
   "cell_type": "code",
   "execution_count": 7,
   "id": "7ddedcb5-cd6d-4f9e-abdb-bb65b2bee5cc",
   "metadata": {},
   "outputs": [],
   "source": [
    "word_count = {}\n",
    "for word in text.split():\n",
    "    if word in word_count:\n",
    "        word_count[word]+=1\n",
    "    else:\n",
    "        word_count[word] = 1"
   ]
  },
  {
   "cell_type": "code",
   "execution_count": 10,
   "id": "6d68e6f5-cf17-4d79-a49e-599c2137fd13",
   "metadata": {},
   "outputs": [
    {
     "data": {
      "text/plain": [
       "[('also', 1),\n",
       " ('another', 1),\n",
       " ('different', 2),\n",
       " ('is', 3),\n",
       " ('more', 1),\n",
       " ('other', 1),\n",
       " ('sample', 2),\n",
       " ('several', 1),\n",
       " ('some', 1),\n",
       " ('text', 3),\n",
       " ('that', 1),\n",
       " ('this', 2),\n",
       " ('with', 3),\n",
       " ('words', 3)]"
      ]
     },
     "execution_count": 10,
     "metadata": {},
     "output_type": "execute_result"
    }
   ],
   "source": [
    "sorted(word_count.items())"
   ]
  },
  {
   "cell_type": "code",
   "execution_count": 12,
   "id": "c16e1b33-3d8c-405c-b0bd-8f63f4526e71",
   "metadata": {},
   "outputs": [
    {
     "name": "stdout",
     "output_type": "stream",
     "text": [
      "Python Standard Library Module collections\n"
     ]
    }
   ],
   "source": [
    "print(\"Python Standard Library Module collections\")"
   ]
  },
  {
   "cell_type": "code",
   "execution_count": 13,
   "id": "0b897bdc-27eb-4c13-8cac-8ed3c9ebbcab",
   "metadata": {},
   "outputs": [],
   "source": [
    "from collections import Counter"
   ]
  },
  {
   "cell_type": "code",
   "execution_count": 23,
   "id": "2786e115-ef85-48b6-84ac-e1b4ac211f59",
   "metadata": {},
   "outputs": [],
   "source": [
    "text = (\n",
    "    'this is sample text with several words'\n",
    "    ' this is more sample text with some different words'\n",
    ")"
   ]
  },
  {
   "cell_type": "code",
   "execution_count": 24,
   "id": "df163f51-22a5-4902-8d86-c4fff9996a68",
   "metadata": {},
   "outputs": [
    {
     "name": "stdout",
     "output_type": "stream",
     "text": [
      "['this', 'is', 'sample', 'text', 'with', 'several', 'words', 'this', 'is', 'more', 'sample', 'text', 'with', 'some', 'different', 'words']\n",
      "<class 'list'>\n"
     ]
    }
   ],
   "source": [
    "print(text.split())\n",
    "print(type(text.split()))"
   ]
  },
  {
   "cell_type": "code",
   "execution_count": 46,
   "id": "20df0bfb-08ab-4554-bf58-a652bab2d0bf",
   "metadata": {},
   "outputs": [
    {
     "data": {
      "text/plain": [
       "Counter({'this': 2,\n",
       "         'is': 2,\n",
       "         'sample': 2,\n",
       "         'text': 2,\n",
       "         'with': 2,\n",
       "         'words': 2,\n",
       "         'several': 1,\n",
       "         'more': 1,\n",
       "         'some': 1,\n",
       "         'different': 1})"
      ]
     },
     "execution_count": 46,
     "metadata": {},
     "output_type": "execute_result"
    }
   ],
   "source": [
    "counter = Counter(text.split())\n",
    "counter"
   ]
  },
  {
   "cell_type": "code",
   "execution_count": 51,
   "id": "ddb17977-d5b6-469d-911b-e86b5f4bf0b2",
   "metadata": {},
   "outputs": [
    {
     "data": {
      "text/plain": [
       "Counter({'this': 2,\n",
       "         'is': 2,\n",
       "         'sample': 2,\n",
       "         'text': 2,\n",
       "         'with': 2,\n",
       "         'words': 2,\n",
       "         'several': 1,\n",
       "         'more': 1,\n",
       "         'some': 1,\n",
       "         'different': 1})"
      ]
     },
     "execution_count": 51,
     "metadata": {},
     "output_type": "execute_result"
    }
   ],
   "source": [
    "counter"
   ]
  },
  {
   "cell_type": "code",
   "execution_count": 27,
   "id": "a2694e8a-6a93-4313-97fe-52ffdfcca026",
   "metadata": {},
   "outputs": [],
   "source": [
    "myCountries = ('USA','USA','Canada','New York','New York','Texas','Texas','Austin','Houston')"
   ]
  },
  {
   "cell_type": "code",
   "execution_count": 38,
   "id": "692e70d9-6981-46dd-8b99-6954252e1455",
   "metadata": {},
   "outputs": [
    {
     "name": "stdout",
     "output_type": "stream",
     "text": [
      "Austin 1\n",
      "Canada 1\n",
      "Houston 1\n",
      "New York 2\n",
      "Texas 2\n",
      "USA 2\n",
      "Austin1\n",
      "Canada1\n",
      "Houston1\n",
      "New York2\n",
      "Texas2\n",
      "USA2\n"
     ]
    }
   ],
   "source": [
    "for country in sorted(Counter(myCountries).items()):\n",
    "    print(f\"{country[0]} {country[1]}\")\n",
    "for country,counter in sorted(Counter(myCountries).items()):\n",
    "    print(f\"{country}{counter}\")"
   ]
  },
  {
   "cell_type": "code",
   "execution_count": 53,
   "id": "b4852446-684b-4d26-8d15-2280a9587dfa",
   "metadata": {},
   "outputs": [
    {
     "data": {
      "text/plain": [
       "dict_keys(['this', 'is', 'sample', 'text', 'with', 'several', 'words', 'more', 'some', 'different'])"
      ]
     },
     "execution_count": 53,
     "metadata": {},
     "output_type": "execute_result"
    }
   ],
   "source": [
    "counter.keys()"
   ]
  },
  {
   "cell_type": "code",
   "execution_count": 54,
   "id": "22acb161-0738-41ef-b555-9f87875d2153",
   "metadata": {},
   "outputs": [
    {
     "name": "stdout",
     "output_type": "stream",
     "text": [
      "Number of Unique keys: 10\n"
     ]
    }
   ],
   "source": [
    "print(\"Number of Unique keys:\",len(counter.keys()))"
   ]
  },
  {
   "cell_type": "code",
   "execution_count": 55,
   "id": "b094be8c-88e0-47a5-8162-ebaf6fe1d401",
   "metadata": {},
   "outputs": [
    {
     "name": "stdout",
     "output_type": "stream",
     "text": [
      "20 Functions\n"
     ]
    }
   ],
   "source": [
    "print(\"20 Functions\")"
   ]
  },
  {
   "cell_type": "code",
   "execution_count": 1,
   "id": "80773a1e-ce4f-44d7-b919-2007aedde84c",
   "metadata": {},
   "outputs": [
    {
     "name": "stdout",
     "output_type": "stream",
     "text": [
      "block of code to perform a task\n"
     ]
    }
   ],
   "source": [
    "print(\"block of code to perform a task\")"
   ]
  },
  {
   "cell_type": "code",
   "execution_count": 2,
   "id": "9c127986-d958-468e-838b-d7bc388dd15f",
   "metadata": {},
   "outputs": [
    {
     "name": "stdin",
     "output_type": "stream",
     "text": [
      "What's Your Name? Ahmed Alsaidi\n"
     ]
    },
    {
     "name": "stdout",
     "output_type": "stream",
     "text": [
      "الرجلAhmed Alsaidi\n"
     ]
    }
   ],
   "source": [
    "name = input(\"What's Your Name?\")\n",
    "print(f\"الرجل{name}\")"
   ]
  },
  {
   "cell_type": "code",
   "execution_count": 3,
   "id": "4416251b-a96e-4ede-847b-007d93e2cf72",
   "metadata": {},
   "outputs": [
    {
     "name": "stdout",
     "output_type": "stream",
     "text": [
      "Function Definition\n"
     ]
    }
   ],
   "source": [
    "print(\"Function Definition\")\n",
    "def Input_Name():\n",
    "    name = input('What is your name?')\n",
    "    print(f'Welcome to python {name}')"
   ]
  },
  {
   "cell_type": "code",
   "execution_count": 4,
   "id": "b45053c3-aaaf-49b8-97eb-54c5f967a2ae",
   "metadata": {},
   "outputs": [
    {
     "name": "stdin",
     "output_type": "stream",
     "text": [
      "What is your name? Ahmed AlSaidi\n"
     ]
    },
    {
     "name": "stdout",
     "output_type": "stream",
     "text": [
      "Welcome to python Ahmed AlSaidi\n"
     ]
    }
   ],
   "source": [
    "Input_Name()"
   ]
  },
  {
   "cell_type": "code",
   "execution_count": 5,
   "id": "8e950791-5366-4950-af41-3d71aaf9a64c",
   "metadata": {},
   "outputs": [],
   "source": [
    "def Welcome(username):\n",
    "    print(f'Welcome to Python Mr. {username.title()}!')"
   ]
  },
  {
   "cell_type": "code",
   "execution_count": 6,
   "id": "214415f0-cc94-43f0-9301-8778bf9af95a",
   "metadata": {},
   "outputs": [
    {
     "name": "stdout",
     "output_type": "stream",
     "text": [
      "Welcome to Python Mr. Ahmedalsaidi!\n"
     ]
    }
   ],
   "source": [
    "Welcome(\"AhmedAlSaidi\")"
   ]
  },
  {
   "cell_type": "code",
   "execution_count": 7,
   "id": "4db45e2a-fb83-4f46-ae09-23d2a1ccb37f",
   "metadata": {},
   "outputs": [
    {
     "name": "stdout",
     "output_type": "stream",
     "text": [
      "passing multiple Arguments\n"
     ]
    }
   ],
   "source": [
    "print(\"passing multiple Arguments\")"
   ]
  },
  {
   "cell_type": "code",
   "execution_count": 8,
   "id": "df118302-d55f-422d-96de-47c9acdc32cc",
   "metadata": {},
   "outputs": [],
   "source": [
    "def pets(owner_name,pet_name):\n",
    "    print(f\"Hi {owner_name.title()} Please take care of {pet_name.title()}!\")"
   ]
  },
  {
   "cell_type": "code",
   "execution_count": 9,
   "id": "cf36a53b-0b33-4e4a-b0af-b7684b2d17be",
   "metadata": {},
   "outputs": [
    {
     "name": "stdout",
     "output_type": "stream",
     "text": [
      "Hi Ahmedalsaidi Please take care of Pitbull!\n",
      "Hi Ahmedalsaidi Please take care of Lion!\n"
     ]
    }
   ],
   "source": [
    "pets(\"Ahmedalsaidi\",\"pitbull\")\n",
    "pets(\"Ahmedalsaidi\",\"Lion\")"
   ]
  },
  {
   "cell_type": "code",
   "execution_count": 13,
   "id": "2ac24bfa-4372-4bc4-ba21-b048608365f9",
   "metadata": {},
   "outputs": [
    {
     "name": "stdout",
     "output_type": "stream",
     "text": [
      "Hi Ahmedalsaidi Please take care of Tiger!\n"
     ]
    }
   ],
   "source": [
    "pets(owner_name=\"Ahmedalsaidi\",pet_name=\"Tiger\")"
   ]
  },
  {
   "cell_type": "code",
   "execution_count": 14,
   "id": "28a33727-db0c-478c-9fb2-7993ac8987e5",
   "metadata": {},
   "outputs": [
    {
     "name": "stdout",
     "output_type": "stream",
     "text": [
      "Hi Ahmedalsaidi Please take care of Tiger!\n"
     ]
    },
    {
     "data": {
      "text/plain": [
       "NoneType"
      ]
     },
     "execution_count": 14,
     "metadata": {},
     "output_type": "execute_result"
    }
   ],
   "source": [
    "type(pets(owner_name=\"Ahmedalsaidi\",pet_name=\"Tiger\"))"
   ]
  },
  {
   "cell_type": "code",
   "execution_count": 15,
   "id": "81faf66f-6da6-4b74-a620-28d7f7f9f0fa",
   "metadata": {},
   "outputs": [
    {
     "name": "stdout",
     "output_type": "stream",
     "text": [
      "30\n"
     ]
    }
   ],
   "source": [
    "def add_two_Numbers(num1,num2):\n",
    "    return num1 + num2\n",
    "print(add_two_Numbers(10,20))"
   ]
  },
  {
   "cell_type": "code",
   "execution_count": 17,
   "id": "8607db7c-6cb6-46c8-bad3-b264a265fcf5",
   "metadata": {},
   "outputs": [
    {
     "data": {
      "text/plain": [
       "'Your full name is: Ahmed Abdelmoneim Alsaidi.'"
      ]
     },
     "execution_count": 17,
     "metadata": {},
     "output_type": "execute_result"
    }
   ],
   "source": [
    "def fullname(fname,lname,mname=''):\n",
    "    if mname:\n",
    "        fname = f'Your full name is: {fname.title()} {mname.title()} {lname.title()}.'\n",
    "    else:\n",
    "        fname = f'Your full name is: {fname.title()} {lname.title()}.'\n",
    "    return fname\n",
    "fullname('Ahmed','Alsaidi','AbdelMoneim')"
   ]
  },
  {
   "cell_type": "code",
   "execution_count": 18,
   "id": "98d01cad-b3e6-4d81-a2e8-3fb22ecaa9bb",
   "metadata": {},
   "outputs": [
    {
     "data": {
      "text/plain": [
       "3.0"
      ]
     },
     "execution_count": 18,
     "metadata": {},
     "output_type": "execute_result"
    }
   ],
   "source": [
    "def average(*args):\n",
    "    return sum(args) / len(args)\n",
    "average(1,2,3,4,5)"
   ]
  },
  {
   "cell_type": "code",
   "execution_count": 19,
   "id": "d99dc9a6-54a6-4440-9efb-c5729b020687",
   "metadata": {},
   "outputs": [
    {
     "name": "stdout",
     "output_type": "stream",
     "text": [
      "Local scope and Global scope\n"
     ]
    }
   ],
   "source": [
    "print(\"Local scope and Global scope\")"
   ]
  },
  {
   "cell_type": "code",
   "execution_count": 20,
   "id": "1e620970-c1eb-4826-871c-3162fe8d130f",
   "metadata": {},
   "outputs": [],
   "source": [
    "x = 10\n",
    "def access_global():\n",
    "    print(\"x printed from access_global:\",x)"
   ]
  },
  {
   "cell_type": "code",
   "execution_count": 21,
   "id": "64886376-5d20-4c64-a745-d10dba9ce7e4",
   "metadata": {},
   "outputs": [
    {
     "name": "stdout",
     "output_type": "stream",
     "text": [
      "x printed from access_global: 10\n"
     ]
    }
   ],
   "source": [
    "access_global()"
   ]
  },
  {
   "cell_type": "code",
   "execution_count": 22,
   "id": "9cb61d89-364f-4f4d-9f5b-ef0bbd5d44dc",
   "metadata": {},
   "outputs": [
    {
     "data": {
      "text/plain": [
       "builtin_function_or_method"
      ]
     },
     "execution_count": 22,
     "metadata": {},
     "output_type": "execute_result"
    }
   ],
   "source": [
    "type(sum)"
   ]
  },
  {
   "cell_type": "code",
   "execution_count": 23,
   "id": "e72e26e4-25f5-4d84-ba67-26c8818c942f",
   "metadata": {},
   "outputs": [],
   "source": [
    "sum = 10 + 5"
   ]
  },
  {
   "cell_type": "code",
   "execution_count": 24,
   "id": "e23057f7-48bc-497d-a4cd-f1b8bf176af7",
   "metadata": {},
   "outputs": [
    {
     "data": {
      "text/plain": [
       "15"
      ]
     },
     "execution_count": 24,
     "metadata": {},
     "output_type": "execute_result"
    }
   ],
   "source": [
    "sum"
   ]
  },
  {
   "cell_type": "code",
   "execution_count": 1,
   "id": "6dc7e266-463d-4155-ae9a-c49b54fb1986",
   "metadata": {},
   "outputs": [
    {
     "data": {
      "text/plain": [
       "15"
      ]
     },
     "execution_count": 1,
     "metadata": {},
     "output_type": "execute_result"
    }
   ],
   "source": [
    "x=sum([10,5])\n",
    "x"
   ]
  },
  {
   "cell_type": "code",
   "execution_count": 2,
   "id": "6f4c771a-0ab7-48c2-b08a-756a1b7894f3",
   "metadata": {},
   "outputs": [
    {
     "data": {
      "text/plain": [
       "15"
      ]
     },
     "execution_count": 2,
     "metadata": {},
     "output_type": "execute_result"
    }
   ],
   "source": [
    "sum((10,5))"
   ]
  },
  {
   "cell_type": "code",
   "execution_count": 3,
   "id": "3b62f849-0224-4f85-9691-0537c775c6e5",
   "metadata": {},
   "outputs": [
    {
     "name": "stdout",
     "output_type": "stream",
     "text": [
      "15\n"
     ]
    }
   ],
   "source": [
    "a = (1, 2, 3, 4, 5)\n",
    "x = sum(a)\n",
    "print(x)"
   ]
  },
  {
   "cell_type": "code",
   "execution_count": 4,
   "id": "afa2f1f4-95aa-44bc-8c4b-020ffe4f5fe8",
   "metadata": {},
   "outputs": [
    {
     "data": {
      "text/plain": [
       "builtin_function_or_method"
      ]
     },
     "execution_count": 4,
     "metadata": {},
     "output_type": "execute_result"
    }
   ],
   "source": [
    "type(sum)"
   ]
  },
  {
   "cell_type": "code",
   "execution_count": 5,
   "id": "eab3ebf8-4108-43d8-a059-1fd1ca73072d",
   "metadata": {},
   "outputs": [],
   "source": [
    "x = 13"
   ]
  },
  {
   "cell_type": "code",
   "execution_count": 6,
   "id": "a113747b-1c67-4ec0-a3c9-e1bb54361166",
   "metadata": {},
   "outputs": [
    {
     "data": {
      "text/plain": [
       "13"
      ]
     },
     "execution_count": 6,
     "metadata": {},
     "output_type": "execute_result"
    }
   ],
   "source": [
    "x"
   ]
  },
  {
   "cell_type": "code",
   "execution_count": 7,
   "id": "62bfb04e-6878-4e92-8283-476504e2bd61",
   "metadata": {},
   "outputs": [
    {
     "data": {
      "text/plain": [
       "140727949247656"
      ]
     },
     "execution_count": 7,
     "metadata": {},
     "output_type": "execute_result"
    }
   ],
   "source": [
    "id(x)"
   ]
  },
  {
   "cell_type": "code",
   "execution_count": 8,
   "id": "189c1971-a0f9-4def-ac90-bf06d990bdf0",
   "metadata": {},
   "outputs": [],
   "source": [
    "def cube(number):\n",
    "    print('id(number):', id(number))\n",
    "    return number ** 3"
   ]
  },
  {
   "cell_type": "code",
   "execution_count": 9,
   "id": "4364a139-d679-4102-a9f6-0e806f8a4288",
   "metadata": {},
   "outputs": [
    {
     "name": "stdout",
     "output_type": "stream",
     "text": [
      "id(number): 140727949247336\n"
     ]
    },
    {
     "data": {
      "text/plain": [
       "27"
      ]
     },
     "execution_count": 9,
     "metadata": {},
     "output_type": "execute_result"
    }
   ],
   "source": [
    "cube(3)"
   ]
  },
  {
   "cell_type": "code",
   "execution_count": 10,
   "id": "ce844a43-4919-4261-a9c5-d61c0fb69f7b",
   "metadata": {},
   "outputs": [
    {
     "name": "stdout",
     "output_type": "stream",
     "text": [
      "id(number): 140727949247656\n"
     ]
    },
    {
     "data": {
      "text/plain": [
       "2197"
      ]
     },
     "execution_count": 10,
     "metadata": {},
     "output_type": "execute_result"
    }
   ],
   "source": [
    "cube(x)"
   ]
  },
  {
   "cell_type": "code",
   "execution_count": 11,
   "id": "1df02dcc-b348-4c79-8dfe-3f460947e4aa",
   "metadata": {},
   "outputs": [
    {
     "name": "stdout",
     "output_type": "stream",
     "text": [
      "Welcome to the Big Data\n",
      "id(number): 140727949247400\n"
     ]
    },
    {
     "data": {
      "text/plain": [
       "125"
      ]
     },
     "execution_count": 11,
     "metadata": {},
     "output_type": "execute_result"
    }
   ],
   "source": [
    "print(\"Welcome to the Big Data\")\n",
    "cube(5)"
   ]
  },
  {
   "cell_type": "code",
   "execution_count": 16,
   "id": "afdc398f-244e-4469-81d8-08213d27564b",
   "metadata": {},
   "outputs": [
    {
     "name": "stdout",
     "output_type": "stream",
     "text": [
      "[1, 8, 27, 64]\n"
     ]
    }
   ],
   "source": [
    "my_list = [1,2,3,4]\n",
    "newresult = []\n",
    "for item in my_list:\n",
    "    newresult.append(item**3)\n",
    "print(newresult)"
   ]
  },
  {
   "cell_type": "code",
   "execution_count": 17,
   "id": "7f416f21-9df9-443b-8bc4-b7ccf8cf9dee",
   "metadata": {},
   "outputs": [
    {
     "data": {
      "text/plain": [
       "<map at 0x1eb2e58baf0>"
      ]
     },
     "execution_count": 17,
     "metadata": {},
     "output_type": "execute_result"
    }
   ],
   "source": [
    "def cube(x):\n",
    "    return x ** 3\n",
    "map(cube,my_list)"
   ]
  },
  {
   "cell_type": "code",
   "execution_count": 18,
   "id": "0e26d929-a319-4e87-af5a-12e16b06905d",
   "metadata": {},
   "outputs": [
    {
     "data": {
      "text/plain": [
       "<function __main__.<lambda>(a, b, c)>"
      ]
     },
     "execution_count": 18,
     "metadata": {},
     "output_type": "execute_result"
    }
   ],
   "source": [
    "lambda a,b,c:a+b+c +10"
   ]
  },
  {
   "cell_type": "code",
   "execution_count": 19,
   "id": "f210a936-0a99-4ac9-af20-9316069a803f",
   "metadata": {},
   "outputs": [
    {
     "data": {
      "text/plain": [
       "['Texas', 'Canada', 'America', 'New York']"
      ]
     },
     "execution_count": 19,
     "metadata": {},
     "output_type": "execute_result"
    }
   ],
   "source": [
    "the_greats = [\"America\",\"Texas\",\"Canada\",\"New York\"]\n",
    "the_greats.sort(key=len)\n",
    "the_greats"
   ]
  },
  {
   "cell_type": "code",
   "execution_count": 20,
   "id": "88efa373-b5f1-4646-bd86-2d5d89e63a8d",
   "metadata": {},
   "outputs": [
    {
     "data": {
      "text/plain": [
       "9"
      ]
     },
     "execution_count": 20,
     "metadata": {},
     "output_type": "execute_result"
    }
   ],
   "source": [
    "def quadratic(a,b,c):\n",
    "    return lambda x: a * (x ** 2) + b * x - c\n",
    "quadratic(2,3,5)(2)"
   ]
  },
  {
   "cell_type": "code",
   "execution_count": 21,
   "id": "04ff9322-614e-4767-9374-295bbdc0f487",
   "metadata": {},
   "outputs": [
    {
     "name": "stdout",
     "output_type": "stream",
     "text": [
      "Intro to Object-Oriented Programming OOP\n"
     ]
    }
   ],
   "source": [
    "print(\"Intro to Object-Oriented Programming OOP\")"
   ]
  },
  {
   "cell_type": "code",
   "execution_count": 23,
   "id": "f5d019c2-2830-4432-803f-ade903522bdc",
   "metadata": {},
   "outputs": [],
   "source": [
    "class ClassName:\n",
    "    pass\n",
    "#    <statement-1>\n",
    "#    .\n",
    "#    .\n",
    "#    .\n",
    "#    <statement-N>"
   ]
  },
  {
   "cell_type": "code",
   "execution_count": 25,
   "id": "71729d85-fb8c-4bc6-8eef-ade035371765",
   "metadata": {},
   "outputs": [],
   "source": [
    "class Trivial:\n",
    "    pass"
   ]
  },
  {
   "cell_type": "code",
   "execution_count": 26,
   "id": "96c08ed7-e9c7-4be7-8ce8-b55bd4802cd0",
   "metadata": {},
   "outputs": [],
   "source": [
    "t1 = Trivial()"
   ]
  },
  {
   "cell_type": "code",
   "execution_count": 28,
   "id": "3250bdc5-b07e-45e1-8b2a-be5e824059fc",
   "metadata": {},
   "outputs": [
    {
     "name": "stdout",
     "output_type": "stream",
     "text": [
      "<class '__main__.Trivial'>\n"
     ]
    }
   ],
   "source": [
    "print(type(t1))"
   ]
  },
  {
   "cell_type": "code",
   "execution_count": 29,
   "id": "f4fd6cde-8140-4052-b800-e06d30567f6c",
   "metadata": {},
   "outputs": [
    {
     "data": {
      "text/plain": [
       "['__class__',\n",
       " '__delattr__',\n",
       " '__dict__',\n",
       " '__dir__',\n",
       " '__doc__',\n",
       " '__eq__',\n",
       " '__format__',\n",
       " '__ge__',\n",
       " '__getattribute__',\n",
       " '__getstate__',\n",
       " '__gt__',\n",
       " '__hash__',\n",
       " '__init__',\n",
       " '__init_subclass__',\n",
       " '__le__',\n",
       " '__lt__',\n",
       " '__module__',\n",
       " '__ne__',\n",
       " '__new__',\n",
       " '__reduce__',\n",
       " '__reduce_ex__',\n",
       " '__repr__',\n",
       " '__setattr__',\n",
       " '__sizeof__',\n",
       " '__str__',\n",
       " '__subclasshook__',\n",
       " '__weakref__']"
      ]
     },
     "execution_count": 29,
     "metadata": {},
     "output_type": "execute_result"
    }
   ],
   "source": [
    "dir(t1)"
   ]
  },
  {
   "cell_type": "code",
   "execution_count": 30,
   "id": "1aa6a3d9-52ec-4d19-a3da-e7efa664a890",
   "metadata": {},
   "outputs": [],
   "source": [
    "t1.name = 'AhmedAlsaidi'"
   ]
  },
  {
   "cell_type": "code",
   "execution_count": 31,
   "id": "4c6d42e9-f7c3-47b1-a2ba-66c0c640670c",
   "metadata": {},
   "outputs": [
    {
     "data": {
      "text/plain": [
       "['__class__',\n",
       " '__delattr__',\n",
       " '__dict__',\n",
       " '__dir__',\n",
       " '__doc__',\n",
       " '__eq__',\n",
       " '__format__',\n",
       " '__ge__',\n",
       " '__getattribute__',\n",
       " '__getstate__',\n",
       " '__gt__',\n",
       " '__hash__',\n",
       " '__init__',\n",
       " '__init_subclass__',\n",
       " '__le__',\n",
       " '__lt__',\n",
       " '__module__',\n",
       " '__ne__',\n",
       " '__new__',\n",
       " '__reduce__',\n",
       " '__reduce_ex__',\n",
       " '__repr__',\n",
       " '__setattr__',\n",
       " '__sizeof__',\n",
       " '__str__',\n",
       " '__subclasshook__',\n",
       " '__weakref__',\n",
       " 'name']"
      ]
     },
     "execution_count": 31,
     "metadata": {},
     "output_type": "execute_result"
    }
   ],
   "source": [
    "dir(t1)"
   ]
  },
  {
   "cell_type": "code",
   "execution_count": 32,
   "id": "92426530-6df3-4098-ae53-163b6100f0df",
   "metadata": {},
   "outputs": [],
   "source": [
    "t2 = Trivial()"
   ]
  },
  {
   "cell_type": "code",
   "execution_count": 33,
   "id": "1c6d483e-b6b9-4b52-bda0-9d076f46ff9d",
   "metadata": {},
   "outputs": [
    {
     "ename": "AttributeError",
     "evalue": "'Trivial' object has no attribute 'name'",
     "output_type": "error",
     "traceback": [
      "\u001b[1;31m---------------------------------------------------------------------------\u001b[0m",
      "\u001b[1;31mAttributeError\u001b[0m                            Traceback (most recent call last)",
      "Cell \u001b[1;32mIn[33], line 1\u001b[0m\n\u001b[1;32m----> 1\u001b[0m t2\u001b[38;5;241m.\u001b[39mname\n",
      "\u001b[1;31mAttributeError\u001b[0m: 'Trivial' object has no attribute 'name'"
     ]
    }
   ],
   "source": [
    "t2.name"
   ]
  },
  {
   "cell_type": "code",
   "execution_count": 34,
   "id": "1f1b3be0-d109-43f9-8b67-00c6de5aa00f",
   "metadata": {},
   "outputs": [],
   "source": [
    "t2.name = 'AhmedAlAmerican'"
   ]
  },
  {
   "cell_type": "code",
   "execution_count": 35,
   "id": "6b5c7677-cb04-4003-b894-23f1df78670f",
   "metadata": {},
   "outputs": [
    {
     "name": "stdout",
     "output_type": "stream",
     "text": [
      "AhmedAlsaidi AhmedAlAmerican\n"
     ]
    }
   ],
   "source": [
    "print(t1.name,t2.name)"
   ]
  },
  {
   "cell_type": "code",
   "execution_count": 36,
   "id": "5592cc7e-6c55-4250-8db8-1502994255f0",
   "metadata": {},
   "outputs": [],
   "source": [
    "name= 'Ahmed Almahallah'"
   ]
  },
  {
   "cell_type": "code",
   "execution_count": 37,
   "id": "f5f327f4-9c9b-4318-a306-73fe7e44a325",
   "metadata": {},
   "outputs": [
    {
     "name": "stdout",
     "output_type": "stream",
     "text": [
      "AhmedAlsaidi AhmedAlAmerican Ahmed Almahallah\n"
     ]
    }
   ],
   "source": [
    "print(t1.name,t2.name,name)"
   ]
  },
  {
   "cell_type": "code",
   "execution_count": 38,
   "id": "5f3485bf-f1d5-4cd9-bc64-284d7ce6cafb",
   "metadata": {},
   "outputs": [],
   "source": [
    "class Dog:\n",
    "    def bark():\n",
    "        print(\"How How How\")"
   ]
  },
  {
   "cell_type": "code",
   "execution_count": 39,
   "id": "4a204ee4-cb69-4621-8a1b-89185f4cc521",
   "metadata": {},
   "outputs": [
    {
     "name": "stdout",
     "output_type": "stream",
     "text": [
      "How How How\n"
     ]
    }
   ],
   "source": [
    "Dog.bark()"
   ]
  },
  {
   "cell_type": "code",
   "execution_count": 40,
   "id": "aadd6195-96df-440b-9ce4-4cfd1800abc6",
   "metadata": {},
   "outputs": [],
   "source": [
    "dog1 = Dog()"
   ]
  },
  {
   "cell_type": "code",
   "execution_count": 41,
   "id": "3a141da0-c24e-4154-a482-622a57e7f3d7",
   "metadata": {},
   "outputs": [
    {
     "data": {
      "text/plain": [
       "['__class__',\n",
       " '__delattr__',\n",
       " '__dict__',\n",
       " '__dir__',\n",
       " '__doc__',\n",
       " '__eq__',\n",
       " '__format__',\n",
       " '__ge__',\n",
       " '__getattribute__',\n",
       " '__getstate__',\n",
       " '__gt__',\n",
       " '__hash__',\n",
       " '__init__',\n",
       " '__init_subclass__',\n",
       " '__le__',\n",
       " '__lt__',\n",
       " '__module__',\n",
       " '__ne__',\n",
       " '__new__',\n",
       " '__reduce__',\n",
       " '__reduce_ex__',\n",
       " '__repr__',\n",
       " '__setattr__',\n",
       " '__sizeof__',\n",
       " '__str__',\n",
       " '__subclasshook__',\n",
       " '__weakref__',\n",
       " 'bark']"
      ]
     },
     "execution_count": 41,
     "metadata": {},
     "output_type": "execute_result"
    }
   ],
   "source": [
    "dir(dog1)"
   ]
  },
  {
   "cell_type": "code",
   "execution_count": 42,
   "id": "787e1a09-8ca9-4ae6-8f8d-b5b785aada61",
   "metadata": {},
   "outputs": [
    {
     "data": {
      "text/plain": [
       "__main__.Dog"
      ]
     },
     "execution_count": 42,
     "metadata": {},
     "output_type": "execute_result"
    }
   ],
   "source": [
    "type(dog1)"
   ]
  },
  {
   "cell_type": "code",
   "execution_count": 43,
   "id": "71b59146-cc82-47d8-b06c-23e63e46eb8a",
   "metadata": {},
   "outputs": [
    {
     "ename": "TypeError",
     "evalue": "Dog.bark() takes 0 positional arguments but 1 was given",
     "output_type": "error",
     "traceback": [
      "\u001b[1;31m---------------------------------------------------------------------------\u001b[0m",
      "\u001b[1;31mTypeError\u001b[0m                                 Traceback (most recent call last)",
      "Cell \u001b[1;32mIn[43], line 1\u001b[0m\n\u001b[1;32m----> 1\u001b[0m dog1\u001b[38;5;241m.\u001b[39mbark()\n",
      "\u001b[1;31mTypeError\u001b[0m: Dog.bark() takes 0 positional arguments but 1 was given"
     ]
    }
   ],
   "source": [
    "dog1.bark()"
   ]
  },
  {
   "cell_type": "code",
   "execution_count": 44,
   "id": "86cfe057-13c3-4a40-90dc-8da0cfdf96bb",
   "metadata": {},
   "outputs": [],
   "source": [
    "class Dog:\n",
    "    def __init__(slef):\n",
    "        slef.name = 'rex'\n",
    "    def bark(self):#method.\n",
    "        print('haw haw haw')"
   ]
  },
  {
   "cell_type": "code",
   "execution_count": 45,
   "id": "e132891c-17b2-4953-9e8a-90fe6e8743d4",
   "metadata": {},
   "outputs": [],
   "source": [
    "dog1 = Dog()"
   ]
  },
  {
   "cell_type": "code",
   "execution_count": 46,
   "id": "673b0d9f-5e9b-4965-9a62-2b74e7e9d134",
   "metadata": {},
   "outputs": [
    {
     "data": {
      "text/plain": [
       "'rex'"
      ]
     },
     "execution_count": 46,
     "metadata": {},
     "output_type": "execute_result"
    }
   ],
   "source": [
    "dog1.name"
   ]
  },
  {
   "cell_type": "code",
   "execution_count": 47,
   "id": "73171a1e-687e-493d-9a01-41039321e115",
   "metadata": {},
   "outputs": [],
   "source": [
    "dog2 = Dog()"
   ]
  },
  {
   "cell_type": "code",
   "execution_count": 48,
   "id": "b38b793b-c845-4613-a98f-3ed55311d074",
   "metadata": {},
   "outputs": [],
   "source": [
    "class Dog:\n",
    "    def __init__(self, name):\n",
    "        self.name = name\n",
    "    def bark(self):\n",
    "        print('haw haw haw')"
   ]
  },
  {
   "cell_type": "code",
   "execution_count": 49,
   "id": "a3ae030c-1b79-48b0-a28b-85410f9a1b66",
   "metadata": {},
   "outputs": [],
   "source": [
    "dog1 = Dog('simba')"
   ]
  },
  {
   "cell_type": "code",
   "execution_count": 50,
   "id": "64d0240c-5844-4e1b-abc7-03342b034a6e",
   "metadata": {},
   "outputs": [
    {
     "data": {
      "text/plain": [
       "'simba'"
      ]
     },
     "execution_count": 50,
     "metadata": {},
     "output_type": "execute_result"
    }
   ],
   "source": [
    "dog1.name"
   ]
  },
  {
   "cell_type": "code",
   "execution_count": 51,
   "id": "9fd972b8-12a1-47be-9eb6-365266791411",
   "metadata": {},
   "outputs": [],
   "source": [
    "dog2 = Dog('mesh simba')"
   ]
  },
  {
   "cell_type": "code",
   "execution_count": 52,
   "id": "c12d063d-8929-407e-af04-76b48862ddb2",
   "metadata": {},
   "outputs": [
    {
     "data": {
      "text/plain": [
       "'mesh simba'"
      ]
     },
     "execution_count": 52,
     "metadata": {},
     "output_type": "execute_result"
    }
   ],
   "source": [
    "dog2.name"
   ]
  },
  {
   "cell_type": "code",
   "execution_count": 53,
   "id": "0082b0d2-53e5-47d5-8ec2-4cb10361e677",
   "metadata": {},
   "outputs": [],
   "source": [
    "dog1.name = 'Joy'"
   ]
  },
  {
   "cell_type": "code",
   "execution_count": 54,
   "id": "6e202f0b-0f49-4ba2-8700-ae4328b58b58",
   "metadata": {},
   "outputs": [
    {
     "data": {
      "text/plain": [
       "'Joy'"
      ]
     },
     "execution_count": 54,
     "metadata": {},
     "output_type": "execute_result"
    }
   ],
   "source": [
    "dog1.name"
   ]
  },
  {
   "cell_type": "code",
   "execution_count": 55,
   "id": "4ae7fd11-f1f7-47e7-8745-fcf93ffa5123",
   "metadata": {},
   "outputs": [],
   "source": [
    "class Dog:\n",
    "    def __init__(self,name,age):\n",
    "        self.name = name\n",
    "        self.age = age\n",
    "    def bark(self):\n",
    "        print(\"haw haw haw\")\n",
    "    def set_age(self,age):\n",
    "        self.age = age"
   ]
  },
  {
   "cell_type": "code",
   "execution_count": 56,
   "id": "2078c943-f470-4b6b-8413-9dcc01445a9d",
   "metadata": {},
   "outputs": [],
   "source": [
    "dog1 = Dog('zeft',2)"
   ]
  },
  {
   "cell_type": "code",
   "execution_count": 57,
   "id": "0e3b5cb1-114b-4ab4-a12d-1e6f7696545b",
   "metadata": {},
   "outputs": [],
   "source": [
    "dog1.set_age(3)"
   ]
  },
  {
   "cell_type": "code",
   "execution_count": 58,
   "id": "bbc8752a-1849-428e-8223-288e2c2594b2",
   "metadata": {},
   "outputs": [
    {
     "data": {
      "text/plain": [
       "3"
      ]
     },
     "execution_count": 58,
     "metadata": {},
     "output_type": "execute_result"
    }
   ],
   "source": [
    "dog1.age"
   ]
  },
  {
   "cell_type": "code",
   "execution_count": 59,
   "id": "ff7864ee-aea2-4f0e-a188-adb80f965b72",
   "metadata": {},
   "outputs": [],
   "source": [
    "class Dog:\n",
    "    def __init__(self,name,age):\n",
    "        self.name = name\n",
    "        self.age = age\n",
    "    def bark(self):\n",
    "        print(\"haw haw haw\")\n",
    "    def set_age(self,age):\n",
    "        self.age = age\n",
    "    @property\n",
    "    def name(self):\n",
    "        return self._name\n",
    "    @name.setter\n",
    "    def name(self, name):\n",
    "        if not name.isalpha():\n",
    "            raise ValueError('Name must be alphabetical only')\n",
    "        self._name = name\n",
    "    @name.deleter\n",
    "    def name(self):\n",
    "        self.name = None\n"
   ]
  },
  {
   "cell_type": "code",
   "execution_count": 61,
   "id": "912c2a43-6216-46de-97f9-c22d0631bbbb",
   "metadata": {},
   "outputs": [],
   "source": [
    "dog1 = Dog('juva', 2)"
   ]
  },
  {
   "cell_type": "code",
   "execution_count": 62,
   "id": "6af26910-a87a-48b6-97f1-46efc32bed43",
   "metadata": {},
   "outputs": [
    {
     "ename": "ValueError",
     "evalue": "Name must be alphabetical only",
     "output_type": "error",
     "traceback": [
      "\u001b[1;31m---------------------------------------------------------------------------\u001b[0m",
      "\u001b[1;31mValueError\u001b[0m                                Traceback (most recent call last)",
      "Cell \u001b[1;32mIn[62], line 1\u001b[0m\n\u001b[1;32m----> 1\u001b[0m dog2 \u001b[38;5;241m=\u001b[39m Dog(\u001b[38;5;124m'\u001b[39m\u001b[38;5;124mabc1\u001b[39m\u001b[38;5;124m'\u001b[39m, \u001b[38;5;241m2\u001b[39m)\n",
      "Cell \u001b[1;32mIn[59], line 3\u001b[0m, in \u001b[0;36mDog.__init__\u001b[1;34m(self, name, age)\u001b[0m\n\u001b[0;32m      2\u001b[0m \u001b[38;5;28;01mdef\u001b[39;00m \u001b[38;5;21m__init__\u001b[39m(\u001b[38;5;28mself\u001b[39m,name,age):\n\u001b[1;32m----> 3\u001b[0m     \u001b[38;5;28mself\u001b[39m\u001b[38;5;241m.\u001b[39mname \u001b[38;5;241m=\u001b[39m name\n\u001b[0;32m      4\u001b[0m     \u001b[38;5;28mself\u001b[39m\u001b[38;5;241m.\u001b[39mage \u001b[38;5;241m=\u001b[39m age\n",
      "Cell \u001b[1;32mIn[59], line 15\u001b[0m, in \u001b[0;36mDog.name\u001b[1;34m(self, name)\u001b[0m\n\u001b[0;32m     12\u001b[0m \u001b[38;5;129m@name\u001b[39m\u001b[38;5;241m.\u001b[39msetter\n\u001b[0;32m     13\u001b[0m \u001b[38;5;28;01mdef\u001b[39;00m \u001b[38;5;21mname\u001b[39m(\u001b[38;5;28mself\u001b[39m, name):\n\u001b[0;32m     14\u001b[0m     \u001b[38;5;28;01mif\u001b[39;00m \u001b[38;5;129;01mnot\u001b[39;00m name\u001b[38;5;241m.\u001b[39misalpha():\n\u001b[1;32m---> 15\u001b[0m         \u001b[38;5;28;01mraise\u001b[39;00m \u001b[38;5;167;01mValueError\u001b[39;00m(\u001b[38;5;124m'\u001b[39m\u001b[38;5;124mName must be alphabetical only\u001b[39m\u001b[38;5;124m'\u001b[39m)\n\u001b[0;32m     16\u001b[0m     \u001b[38;5;28mself\u001b[39m\u001b[38;5;241m.\u001b[39m_name \u001b[38;5;241m=\u001b[39m name\n",
      "\u001b[1;31mValueError\u001b[0m: Name must be alphabetical only"
     ]
    }
   ],
   "source": [
    "dog2 = Dog('abc1', 2)"
   ]
  },
  {
   "cell_type": "code",
   "execution_count": 63,
   "id": "23e45161-d4fb-43b7-b98f-b7e286698760",
   "metadata": {},
   "outputs": [
    {
     "data": {
      "text/plain": [
       "'juva'"
      ]
     },
     "execution_count": 63,
     "metadata": {},
     "output_type": "execute_result"
    }
   ],
   "source": [
    "dog1.name"
   ]
  },
  {
   "cell_type": "code",
   "execution_count": 65,
   "id": "909d269a-92e8-41f0-89d0-4afce63a9071",
   "metadata": {},
   "outputs": [],
   "source": [
    "class Account:#Bank Account\n",
    "    def __init__(self,name,balance):\n",
    "        #initialize the Attributes\n",
    "        self.name = name\n",
    "        self.balance = balance\n",
    "    def deposit(self,amount):\n",
    "        self.balance += amount\n",
    "    def withdraw(self,amount):\n",
    "        self.balance -= amount"
   ]
  },
  {
   "cell_type": "code",
   "execution_count": 66,
   "id": "6114ca75-d289-4e0c-9601-faf41efa20a1",
   "metadata": {},
   "outputs": [],
   "source": [
    "acct1 = Account('maher',230.7)"
   ]
  },
  {
   "cell_type": "code",
   "execution_count": 67,
   "id": "c705bec4-ad2b-4e59-9ad1-cae0cec0496d",
   "metadata": {},
   "outputs": [
    {
     "data": {
      "text/plain": [
       "['__class__',\n",
       " '__delattr__',\n",
       " '__dict__',\n",
       " '__dir__',\n",
       " '__doc__',\n",
       " '__eq__',\n",
       " '__format__',\n",
       " '__ge__',\n",
       " '__getattribute__',\n",
       " '__getstate__',\n",
       " '__gt__',\n",
       " '__hash__',\n",
       " '__init__',\n",
       " '__init_subclass__',\n",
       " '__le__',\n",
       " '__lt__',\n",
       " '__module__',\n",
       " '__ne__',\n",
       " '__new__',\n",
       " '__reduce__',\n",
       " '__reduce_ex__',\n",
       " '__repr__',\n",
       " '__setattr__',\n",
       " '__sizeof__',\n",
       " '__str__',\n",
       " '__subclasshook__',\n",
       " '__weakref__',\n",
       " 'balance',\n",
       " 'deposit',\n",
       " 'name',\n",
       " 'withdraw']"
      ]
     },
     "execution_count": 67,
     "metadata": {},
     "output_type": "execute_result"
    }
   ],
   "source": [
    "dir(acct1)"
   ]
  },
  {
   "cell_type": "code",
   "execution_count": 68,
   "id": "d77a96cb-319a-4fd2-a05b-2cb44cc0702c",
   "metadata": {},
   "outputs": [
    {
     "data": {
      "text/plain": [
       "230.7"
      ]
     },
     "execution_count": 68,
     "metadata": {},
     "output_type": "execute_result"
    }
   ],
   "source": [
    "acct1.balance"
   ]
  },
  {
   "cell_type": "code",
   "execution_count": 71,
   "id": "49a7b443-05de-410b-b6ac-33da6289a3f8",
   "metadata": {},
   "outputs": [],
   "source": [
    "acct1.deposit(-12)"
   ]
  },
  {
   "cell_type": "code",
   "execution_count": 72,
   "id": "16673831-4bee-4e0e-a263-d24e18d9885e",
   "metadata": {},
   "outputs": [
    {
     "data": {
      "text/plain": [
       "230.7"
      ]
     },
     "execution_count": 72,
     "metadata": {},
     "output_type": "execute_result"
    }
   ],
   "source": [
    "acct1.balance"
   ]
  },
  {
   "cell_type": "code",
   "execution_count": 73,
   "id": "a9145ca4-a3aa-43a9-bff7-da20a1cf8aef",
   "metadata": {},
   "outputs": [],
   "source": [
    "class Account:\n",
    "    def __init__(self,name,balance):\n",
    "        self.name = name\n",
    "        self.balance = balance\n",
    "    def deposit(self,amount):\n",
    "        if amount > 0:\n",
    "            self.balance += amount\n",
    "        else:\n",
    "            raise ValueError('amount must be positive.')\n",
    "    def withdraw(self,amount):\n",
    "        if amount > 0:\n",
    "            self.balance -= amount"
   ]
  },
  {
   "cell_type": "code",
   "execution_count": 74,
   "id": "d8e85c23-030f-4ab5-80f3-cad304f3cc3f",
   "metadata": {},
   "outputs": [],
   "source": [
    "my_acct= Account('ahmed',230.15)"
   ]
  },
  {
   "cell_type": "code",
   "execution_count": 75,
   "id": "e1bd70e2-197c-41df-9ce1-4717704a62ed",
   "metadata": {},
   "outputs": [
    {
     "ename": "ValueError",
     "evalue": "amount must be positive.",
     "output_type": "error",
     "traceback": [
      "\u001b[1;31m---------------------------------------------------------------------------\u001b[0m",
      "\u001b[1;31mValueError\u001b[0m                                Traceback (most recent call last)",
      "Cell \u001b[1;32mIn[75], line 1\u001b[0m\n\u001b[1;32m----> 1\u001b[0m my_acct\u001b[38;5;241m.\u001b[39mdeposit(\u001b[38;5;241m-\u001b[39m\u001b[38;5;241m12\u001b[39m)\n",
      "Cell \u001b[1;32mIn[73], line 9\u001b[0m, in \u001b[0;36mAccount.deposit\u001b[1;34m(self, amount)\u001b[0m\n\u001b[0;32m      7\u001b[0m     \u001b[38;5;28mself\u001b[39m\u001b[38;5;241m.\u001b[39mbalance \u001b[38;5;241m+\u001b[39m\u001b[38;5;241m=\u001b[39m amount\n\u001b[0;32m      8\u001b[0m \u001b[38;5;28;01melse\u001b[39;00m:\n\u001b[1;32m----> 9\u001b[0m     \u001b[38;5;28;01mraise\u001b[39;00m \u001b[38;5;167;01mValueError\u001b[39;00m(\u001b[38;5;124m'\u001b[39m\u001b[38;5;124mamount must be positive.\u001b[39m\u001b[38;5;124m'\u001b[39m)\n",
      "\u001b[1;31mValueError\u001b[0m: amount must be positive."
     ]
    }
   ],
   "source": [
    "my_acct.deposit(-12)"
   ]
  },
  {
   "cell_type": "code",
   "execution_count": 76,
   "id": "68d70f6f-fb63-490d-bb2c-76f8ba5a546b",
   "metadata": {},
   "outputs": [],
   "source": [
    "acct2 = Account('magdy', 300)"
   ]
  },
  {
   "cell_type": "code",
   "execution_count": 77,
   "id": "539a086b-77b0-4eb8-bbc2-484d679ddb00",
   "metadata": {},
   "outputs": [
    {
     "data": {
      "text/plain": [
       "['__class__',\n",
       " '__delattr__',\n",
       " '__dict__',\n",
       " '__dir__',\n",
       " '__doc__',\n",
       " '__eq__',\n",
       " '__format__',\n",
       " '__ge__',\n",
       " '__getattribute__',\n",
       " '__getstate__',\n",
       " '__gt__',\n",
       " '__hash__',\n",
       " '__init__',\n",
       " '__init_subclass__',\n",
       " '__le__',\n",
       " '__lt__',\n",
       " '__module__',\n",
       " '__ne__',\n",
       " '__new__',\n",
       " '__reduce__',\n",
       " '__reduce_ex__',\n",
       " '__repr__',\n",
       " '__setattr__',\n",
       " '__sizeof__',\n",
       " '__str__',\n",
       " '__subclasshook__',\n",
       " '__weakref__',\n",
       " 'balance',\n",
       " 'deposit',\n",
       " 'name',\n",
       " 'withdraw']"
      ]
     },
     "execution_count": 77,
     "metadata": {},
     "output_type": "execute_result"
    }
   ],
   "source": [
    "dir(acct2)"
   ]
  },
  {
   "cell_type": "code",
   "execution_count": 78,
   "id": "68772c90-77ee-43b2-beb7-1595b1346dcc",
   "metadata": {},
   "outputs": [],
   "source": [
    "acct2._Account_ssn = '000000'"
   ]
  },
  {
   "cell_type": "code",
   "execution_count": 79,
   "id": "c2b39066-a5cb-472a-95e4-36fdc9dce36d",
   "metadata": {},
   "outputs": [
    {
     "data": {
      "text/plain": [
       "<__main__.Account at 0x1eb2f3a6090>"
      ]
     },
     "execution_count": 79,
     "metadata": {},
     "output_type": "execute_result"
    }
   ],
   "source": [
    "acct2"
   ]
  },
  {
   "cell_type": "code",
   "execution_count": 80,
   "id": "6c173e1b-e897-445e-965c-19fd6d3b9d7d",
   "metadata": {},
   "outputs": [],
   "source": [
    "myr = range(1,178,3)"
   ]
  },
  {
   "cell_type": "code",
   "execution_count": 81,
   "id": "76898cd0-baf2-47ee-b821-d20213e6d348",
   "metadata": {},
   "outputs": [
    {
     "data": {
      "text/plain": [
       "range(1, 178, 3)"
      ]
     },
     "execution_count": 81,
     "metadata": {},
     "output_type": "execute_result"
    }
   ],
   "source": [
    "myr"
   ]
  },
  {
   "cell_type": "code",
   "execution_count": 82,
   "id": "c10f456f-8547-4314-a330-d20f4f0209ec",
   "metadata": {},
   "outputs": [],
   "source": [
    "myl = list([1,2,3])"
   ]
  },
  {
   "cell_type": "code",
   "execution_count": 83,
   "id": "5ebdb18f-fc95-4beb-93c4-f30aff2f7025",
   "metadata": {},
   "outputs": [
    {
     "name": "stdout",
     "output_type": "stream",
     "text": [
      "[1, 2, 3]\n"
     ]
    }
   ],
   "source": [
    "print(myl)"
   ]
  },
  {
   "cell_type": "code",
   "execution_count": 84,
   "id": "e2fe5831-1023-496f-8119-b06beca0c272",
   "metadata": {},
   "outputs": [
    {
     "data": {
      "text/plain": [
       "'hellohello'"
      ]
     },
     "execution_count": 84,
     "metadata": {},
     "output_type": "execute_result"
    }
   ],
   "source": [
    "st = \"hello\"\n",
    "st + st"
   ]
  },
  {
   "cell_type": "code",
   "execution_count": 85,
   "id": "6b2e0ebf-e6c2-4747-9bd5-9fbd22dd141c",
   "metadata": {},
   "outputs": [
    {
     "data": {
      "text/plain": [
       "['_Account_ssn',\n",
       " '__class__',\n",
       " '__delattr__',\n",
       " '__dict__',\n",
       " '__dir__',\n",
       " '__doc__',\n",
       " '__eq__',\n",
       " '__format__',\n",
       " '__ge__',\n",
       " '__getattribute__',\n",
       " '__getstate__',\n",
       " '__gt__',\n",
       " '__hash__',\n",
       " '__init__',\n",
       " '__init_subclass__',\n",
       " '__le__',\n",
       " '__lt__',\n",
       " '__module__',\n",
       " '__ne__',\n",
       " '__new__',\n",
       " '__reduce__',\n",
       " '__reduce_ex__',\n",
       " '__repr__',\n",
       " '__setattr__',\n",
       " '__sizeof__',\n",
       " '__str__',\n",
       " '__subclasshook__',\n",
       " '__weakref__',\n",
       " 'balance',\n",
       " 'deposit',\n",
       " 'name',\n",
       " 'withdraw']"
      ]
     },
     "execution_count": 85,
     "metadata": {},
     "output_type": "execute_result"
    }
   ],
   "source": [
    "dir(acct2)"
   ]
  },
  {
   "cell_type": "code",
   "execution_count": 86,
   "id": "4e301ecb-d4cc-43b7-b63a-5245803d57d7",
   "metadata": {},
   "outputs": [
    {
     "name": "stdout",
     "output_type": "stream",
     "text": [
      "<__main__.Account object at 0x000001EB2F3A6090>\n"
     ]
    }
   ],
   "source": [
    "print(acct2)"
   ]
  },
  {
   "cell_type": "code",
   "execution_count": 103,
   "id": "c810c8a2-6da8-4c86-aeeb-a7af59226b6e",
   "metadata": {},
   "outputs": [],
   "source": [
    "class Account:\n",
    "    def __init__(self,name,balance):\n",
    "        self.name = name\n",
    "        self.balance = balance\n",
    "        self.__ssn = '123-45-6789'\n",
    "    def deposit(self,amount:'must-be positive value') -> 'insert money':\n",
    "        if amount > 0:\n",
    "            self.balance += amount\n",
    "        else:\n",
    "            raise ValueError('amount must be positive')\n",
    "    def withdraw(self,amount):\n",
    "        if amount > 0:\n",
    "            self.balance -= amount\n",
    "    def __repr__(self):\n",
    "        return f'{self.name} currently has {self.balance} $ in this account'\n",
    "    def __add__(self, other):\n",
    "        return f'{self.name} and {other.name} both have a total of',self.balance + other.balance,'$'"
   ]
  },
  {
   "cell_type": "code",
   "execution_count": 104,
   "id": "b70f438d-fecc-4ad8-9be5-6bb9c55dd4a1",
   "metadata": {},
   "outputs": [],
   "source": [
    "C1 = Account('AhmedAlsaidi','1000000000000000000000')"
   ]
  },
  {
   "cell_type": "code",
   "execution_count": 105,
   "id": "582cfc50-b121-45a4-b414-e12d2204b1da",
   "metadata": {},
   "outputs": [
    {
     "data": {
      "text/plain": [
       "AhmedAlsaidi currently has 1000000000000000000000 $ in this account"
      ]
     },
     "execution_count": 105,
     "metadata": {},
     "output_type": "execute_result"
    }
   ],
   "source": [
    "C1"
   ]
  },
  {
   "cell_type": "code",
   "execution_count": 106,
   "id": "7f393ee9-6da1-4c0e-94c2-4a5940e05931",
   "metadata": {},
   "outputs": [
    {
     "name": "stdout",
     "output_type": "stream",
     "text": [
      "Go To>>3.Data model 3.1. Objects, value and types\n"
     ]
    }
   ],
   "source": [
    "print(\"Go To>>3.Data model 3.1. Objects, value and types\")"
   ]
  },
  {
   "cell_type": "code",
   "execution_count": 107,
   "id": "6a1a290a-00d8-44db-8c98-5bac19e3c652",
   "metadata": {},
   "outputs": [
    {
     "name": "stdout",
     "output_type": "stream",
     "text": [
      "Emulating numeric types\n"
     ]
    }
   ],
   "source": [
    "print(\"Emulating numeric types\")"
   ]
  },
  {
   "cell_type": "code",
   "execution_count": 108,
   "id": "b5ea2a23-a674-4e74-b68b-6f16185051ce",
   "metadata": {},
   "outputs": [
    {
     "name": "stdout",
     "output_type": "stream",
     "text": [
      "def __add__(self,other):\n"
     ]
    }
   ],
   "source": [
    "print(\"def __add__(self,other):\")"
   ]
  },
  {
   "cell_type": "code",
   "execution_count": 109,
   "id": "045f21df-76ca-4b50-9b0b-a1d5222578b3",
   "metadata": {},
   "outputs": [],
   "source": [
    "Customer1 = Account('Ahmed','10000000000')\n",
    "Customer2 = Account('Alsaidi','100000000000000000000000')"
   ]
  },
  {
   "cell_type": "code",
   "execution_count": 110,
   "id": "870a6bb0-8c21-4c9b-ac88-caac566bf587",
   "metadata": {},
   "outputs": [
    {
     "data": {
      "text/plain": [
       "('Ahmed and Alsaidi both have a total of',\n",
       " '10000000000100000000000000000000000',\n",
       " '$')"
      ]
     },
     "execution_count": 110,
     "metadata": {},
     "output_type": "execute_result"
    }
   ],
   "source": [
    "Customer1+Customer2"
   ]
  },
  {
   "cell_type": "code",
   "execution_count": 111,
   "id": "2de0a9cc-7289-4ff6-acab-03419c66e54d",
   "metadata": {},
   "outputs": [
    {
     "name": "stdout",
     "output_type": "stream",
     "text": [
      "Inheritance\n"
     ]
    }
   ],
   "source": [
    "print(\"Inheritance\")"
   ]
  },
  {
   "cell_type": "code",
   "execution_count": 112,
   "id": "d6f64af6-cbda-4565-a28c-474f6a384501",
   "metadata": {},
   "outputs": [
    {
     "name": "stdout",
     "output_type": "stream",
     "text": [
      "Class Inheritance\n"
     ]
    }
   ],
   "source": [
    "print(\"Class Inheritance\")"
   ]
  },
  {
   "cell_type": "code",
   "execution_count": 113,
   "id": "a552efb3-f0e4-4aa6-9288-80ec9dc43d64",
   "metadata": {},
   "outputs": [],
   "source": [
    "class Employee:\n",
    "    def __init__(self,fname,lname):\n",
    "        self.fname = fname\n",
    "        self.lname = lname\n",
    "        self.email = fname + '.' + lname + '@email.com'"
   ]
  },
  {
   "cell_type": "code",
   "execution_count": 114,
   "id": "5a2dda35-bfea-4192-8b0c-857600165525",
   "metadata": {},
   "outputs": [],
   "source": [
    "emp1 = Employee('Ahmed','Alsaidi')"
   ]
  },
  {
   "cell_type": "code",
   "execution_count": 115,
   "id": "a51ed226-7a26-4048-bd88-6ee82762cc12",
   "metadata": {},
   "outputs": [
    {
     "data": {
      "text/plain": [
       "'Ahmed.Alsaidi@email.com'"
      ]
     },
     "execution_count": 115,
     "metadata": {},
     "output_type": "execute_result"
    }
   ],
   "source": [
    "emp1.email"
   ]
  },
  {
   "cell_type": "code",
   "execution_count": 116,
   "id": "9ba802fd-88b4-4b2d-bf0a-0950c95b31a5",
   "metadata": {},
   "outputs": [],
   "source": [
    "class Teacher(Employee):\n",
    "    pass"
   ]
  },
  {
   "cell_type": "code",
   "execution_count": 117,
   "id": "4335ffd0-1c95-4ea4-962e-4b5aed0e2a6e",
   "metadata": {},
   "outputs": [],
   "source": [
    "tr1 = Teacher('hany','hassan')"
   ]
  },
  {
   "cell_type": "code",
   "execution_count": 118,
   "id": "ca695ebd-761b-4c4e-a78f-7e10086c0f01",
   "metadata": {},
   "outputs": [
    {
     "data": {
      "text/plain": [
       "'hany.hassan@email.com'"
      ]
     },
     "execution_count": 118,
     "metadata": {},
     "output_type": "execute_result"
    }
   ],
   "source": [
    "tr1.email"
   ]
  },
  {
   "cell_type": "code",
   "execution_count": 125,
   "id": "b8b0c578-7642-4c7f-adc1-b9d46d266d83",
   "metadata": {},
   "outputs": [],
   "source": [
    "class Teacher(Employee):\n",
    "    def __init__(self,fname,lname):\n",
    "        super().__init__(fname,lname)\n",
    "        self.email = 't-'+fname+'.'+lname+'@email.com'"
   ]
  },
  {
   "cell_type": "code",
   "execution_count": 126,
   "id": "3cfeafd3-4d42-4330-8b04-38a0f6caec7e",
   "metadata": {},
   "outputs": [],
   "source": [
    "tr1 = Teacher('ahmed','Alsaidi')"
   ]
  },
  {
   "cell_type": "code",
   "execution_count": 127,
   "id": "1fcad0a7-1296-43a7-8623-6556cd649a47",
   "metadata": {},
   "outputs": [
    {
     "data": {
      "text/plain": [
       "'t-ahmed.Alsaidi@email.com'"
      ]
     },
     "execution_count": 127,
     "metadata": {},
     "output_type": "execute_result"
    }
   ],
   "source": [
    "tr1.email"
   ]
  },
  {
   "cell_type": "code",
   "execution_count": 132,
   "id": "fa50a9cd-e111-46d1-83dc-6813d0c7deb0",
   "metadata": {},
   "outputs": [
    {
     "name": "stdout",
     "output_type": "stream",
     "text": [
      "ASCII-Table\n",
      "Convert to Upper Case Using ASCII-Table\n"
     ]
    }
   ],
   "source": [
    "print(\"ASCII-Table\")\n",
    "print(\"Convert to Upper Case Using ASCII-Table\")"
   ]
  },
  {
   "cell_type": "code",
   "execution_count": 130,
   "id": "b93a90cb-d1d1-49f0-be56-e56e07730a91",
   "metadata": {},
   "outputs": [
    {
     "data": {
      "text/plain": [
       "'HELLO MR. AHMED !'"
      ]
     },
     "execution_count": 130,
     "metadata": {},
     "output_type": "execute_result"
    }
   ],
   "source": [
    "somestr = 'hEllo mR. aHmed !'\n",
    "newstrlist = []\n",
    "for string in somestr:\n",
    "    if 97 <= ord(string) <= 122:\n",
    "        newstrlist.append(chr(ord(string)-32))\n",
    "    else:\n",
    "        newstrlist.append(string)\n",
    "newstrlist\n",
    "''.join(newstrlist)"
   ]
  },
  {
   "cell_type": "code",
   "execution_count": 133,
   "id": "e9099e3f-0c3c-4e25-8b89-5dc256f5b909",
   "metadata": {},
   "outputs": [
    {
     "name": "stdout",
     "output_type": "stream",
     "text": [
      "Help on class Teacher in module __main__:\n",
      "\n",
      "class Teacher(Employee)\n",
      " |  Teacher(fname, lname)\n",
      " |  \n",
      " |  Method resolution order:\n",
      " |      Teacher\n",
      " |      Employee\n",
      " |      builtins.object\n",
      " |  \n",
      " |  Methods defined here:\n",
      " |  \n",
      " |  __init__(self, fname, lname)\n",
      " |      Initialize self.  See help(type(self)) for accurate signature.\n",
      " |  \n",
      " |  ----------------------------------------------------------------------\n",
      " |  Data descriptors inherited from Employee:\n",
      " |  \n",
      " |  __dict__\n",
      " |      dictionary for instance variables\n",
      " |  \n",
      " |  __weakref__\n",
      " |      list of weak references to the object\n",
      "\n",
      "None\n"
     ]
    }
   ],
   "source": [
    "print(help(Teacher))"
   ]
  },
  {
   "cell_type": "code",
   "execution_count": 134,
   "id": "27572e62-eca1-4cfe-a9b3-b568c4eb4104",
   "metadata": {},
   "outputs": [
    {
     "name": "stdout",
     "output_type": "stream",
     "text": [
      "Using uppercase using ASCII-Table\n"
     ]
    }
   ],
   "source": [
    "print(\"Using uppercase using ASCII-Table\")"
   ]
  },
  {
   "cell_type": "code",
   "execution_count": 141,
   "id": "4f86919d-c197-4f55-b22c-0a8cf626475c",
   "metadata": {},
   "outputs": [],
   "source": [
    "def uppercase(name):\n",
    "    \"\"\"bla bla\"\"\"\n",
    "    somestr = name\n",
    "    newstrlist = []\n",
    "    for string in somestr:\n",
    "        if 97<= ord(string) <= 122:\n",
    "            newstrlist.append(chr(ord(string) - 32))\n",
    "        else:\n",
    "            newstrlist.append(string)\n",
    "    return ''.join(newstrlist)"
   ]
  },
  {
   "cell_type": "code",
   "execution_count": 142,
   "id": "1e1b115e-9852-408a-a13b-870fdd789511",
   "metadata": {},
   "outputs": [],
   "source": [
    "newstr = uppercase('string')"
   ]
  },
  {
   "cell_type": "code",
   "execution_count": 143,
   "id": "e6c4c65c-bef8-465e-9c2c-56f666070692",
   "metadata": {},
   "outputs": [
    {
     "data": {
      "text/plain": [
       "'STRING'"
      ]
     },
     "execution_count": 143,
     "metadata": {},
     "output_type": "execute_result"
    }
   ],
   "source": [
    "newstr"
   ]
  },
  {
   "cell_type": "code",
   "execution_count": 146,
   "id": "29ae8383-da9b-434d-be83-f7688d78bb72",
   "metadata": {},
   "outputs": [],
   "source": [
    "class Card:\n",
    "    FACES = ['ace','2','3','4','5','6','7','8','9',\n",
    "            '10','jack','queen','king']\n",
    "    SUITS = ['hearts','diamonds','clubs','spades']\n",
    "    def __init__(self,face,suit):\n",
    "        \"\"\"Initialize a Card with a face and suit. \"\"\"\n",
    "        self._face = face\n",
    "        self._suit = suit\n",
    "    @property\n",
    "    def face(self):\n",
    "        \"\"\"Return the Card's self._face value.\"\"\"\n",
    "        return self._suit\n",
    "    @property\n",
    "    def image_name(self):\n",
    "        \"\"\"Return the card's image file name.\"\"\"\n",
    "        return str(self).replace(' ','_') + '.png'"
   ]
  },
  {
   "cell_type": "code",
   "execution_count": 147,
   "id": "727fa2d1-076a-422a-9bce-3f76e954300f",
   "metadata": {},
   "outputs": [
    {
     "name": "stdout",
     "output_type": "stream",
     "text": [
      "Modules and Packages\n"
     ]
    }
   ],
   "source": [
    "print(\"Modules and Packages\")"
   ]
  },
  {
   "cell_type": "code",
   "execution_count": 1,
   "id": "d0df3881-0251-454b-ae83-a6eaaab5739a",
   "metadata": {},
   "outputs": [
    {
     "name": "stdout",
     "output_type": "stream",
     "text": [
      "Modules,Packages,Libraries and Frameworks.\n"
     ]
    }
   ],
   "source": [
    "print(\"Modules,Packages,Libraries and Frameworks.\")"
   ]
  },
  {
   "cell_type": "code",
   "execution_count": 4,
   "id": "c7f87f18-0d4a-4dd7-81f8-fb3a5518a0b7",
   "metadata": {},
   "outputs": [],
   "source": [
    "#def fib2(n):\n",
    "#    result = []\n",
    "#    a, b = 0, 1\n",
    "#    while a< n:\n",
    "#        result.append(a)\n",
    "#        a, b = b, a+b\n",
    "#    return result\n",
    "#class Trivial:\n",
    "#    pass\n",
    "#if__name__ == \"__main__\":\n",
    "#    import sys\n",
    "#    fib(int(sys.argv[1]))"
   ]
  },
  {
   "cell_type": "code",
   "execution_count": 5,
   "id": "2f3c2efc-006f-463b-9b6c-d2873d62a016",
   "metadata": {},
   "outputs": [],
   "source": [
    "#import sound.effects.echo\n",
    "#sound.effects.echo.echofilter(input,output,delay=0.7,atten=4)"
   ]
  },
  {
   "cell_type": "code",
   "execution_count": 6,
   "id": "bf2cb47f-726e-4965-90a8-6eb0b1681eaf",
   "metadata": {},
   "outputs": [
    {
     "name": "stdout",
     "output_type": "stream",
     "text": [
      "first some important standard library modules\n"
     ]
    }
   ],
   "source": [
    "print(\"first some important standard library modules\")"
   ]
  },
  {
   "cell_type": "code",
   "execution_count": 7,
   "id": "5a20b740-e921-4d5b-a473-bf7917729b91",
   "metadata": {},
   "outputs": [
    {
     "name": "stdout",
     "output_type": "stream",
     "text": [
      ">>Standard-Library-Modules<<\n",
      "random\n",
      "math \n",
      "statistics\n",
      "decimal\n",
      "array\n",
      "collections\n",
      "string\n",
      "sys\n",
      "os \n",
      "shutil\n",
      "glob\n",
      "re\n",
      "datetime\n",
      "time\n",
      "json\n",
      "csv\n",
      "\n"
     ]
    }
   ],
   "source": [
    "print(\"\"\">>Standard-Library-Modules<<\n",
    "random\n",
    "math \n",
    "statistics\n",
    "decimal\n",
    "array\n",
    "collections\n",
    "string\n",
    "sys\n",
    "os \n",
    "shutil\n",
    "glob\n",
    "re\n",
    "datetime\n",
    "time\n",
    "json\n",
    "csv\n",
    "\"\"\")"
   ]
  },
  {
   "cell_type": "code",
   "execution_count": 8,
   "id": "ef098b40-e762-4947-a990-4275d02ff1e6",
   "metadata": {},
   "outputs": [
    {
     "name": "stdout",
     "output_type": "stream",
     "text": [
      "10.1 Operating System Interface\n"
     ]
    }
   ],
   "source": [
    "print(\"10.1 Operating System Interface\")"
   ]
  },
  {
   "cell_type": "code",
   "execution_count": 9,
   "id": "84a4d0b1-1e54-4d9f-89c1-2b79cdef0948",
   "metadata": {},
   "outputs": [],
   "source": [
    "import os"
   ]
  },
  {
   "cell_type": "code",
   "execution_count": 10,
   "id": "b36bef19-bb48-4162-b281-9b124b8dd661",
   "metadata": {},
   "outputs": [
    {
     "data": {
      "text/plain": [
       "['DirEntry',\n",
       " 'EX_OK',\n",
       " 'F_OK',\n",
       " 'GenericAlias',\n",
       " 'Mapping',\n",
       " 'MutableMapping',\n",
       " 'O_APPEND',\n",
       " 'O_BINARY',\n",
       " 'O_CREAT',\n",
       " 'O_EXCL',\n",
       " 'O_NOINHERIT',\n",
       " 'O_RANDOM',\n",
       " 'O_RDONLY',\n",
       " 'O_RDWR',\n",
       " 'O_SEQUENTIAL',\n",
       " 'O_SHORT_LIVED',\n",
       " 'O_TEMPORARY',\n",
       " 'O_TEXT',\n",
       " 'O_TRUNC',\n",
       " 'O_WRONLY',\n",
       " 'P_DETACH',\n",
       " 'P_NOWAIT',\n",
       " 'P_NOWAITO',\n",
       " 'P_OVERLAY',\n",
       " 'P_WAIT',\n",
       " 'PathLike',\n",
       " 'R_OK',\n",
       " 'SEEK_CUR',\n",
       " 'SEEK_END',\n",
       " 'SEEK_SET',\n",
       " 'TMP_MAX',\n",
       " 'W_OK',\n",
       " 'X_OK',\n",
       " '_AddedDllDirectory',\n",
       " '_Environ',\n",
       " '__all__',\n",
       " '__builtins__',\n",
       " '__doc__',\n",
       " '__file__',\n",
       " '__loader__',\n",
       " '__name__',\n",
       " '__package__',\n",
       " '__spec__',\n",
       " '_check_methods',\n",
       " '_execvpe',\n",
       " '_exists',\n",
       " '_exit',\n",
       " '_fspath',\n",
       " '_get_exports_list',\n",
       " '_walk',\n",
       " '_wrap_close',\n",
       " 'abc',\n",
       " 'abort',\n",
       " 'access',\n",
       " 'add_dll_directory',\n",
       " 'altsep',\n",
       " 'chdir',\n",
       " 'chmod',\n",
       " 'close',\n",
       " 'closerange',\n",
       " 'cpu_count',\n",
       " 'curdir',\n",
       " 'defpath',\n",
       " 'device_encoding',\n",
       " 'devnull',\n",
       " 'dup',\n",
       " 'dup2',\n",
       " 'environ',\n",
       " 'error',\n",
       " 'execl',\n",
       " 'execle',\n",
       " 'execlp',\n",
       " 'execlpe',\n",
       " 'execv',\n",
       " 'execve',\n",
       " 'execvp',\n",
       " 'execvpe',\n",
       " 'extsep',\n",
       " 'fdopen',\n",
       " 'fsdecode',\n",
       " 'fsencode',\n",
       " 'fspath',\n",
       " 'fstat',\n",
       " 'fsync',\n",
       " 'ftruncate',\n",
       " 'get_exec_path',\n",
       " 'get_handle_inheritable',\n",
       " 'get_inheritable',\n",
       " 'get_terminal_size',\n",
       " 'getcwd',\n",
       " 'getcwdb',\n",
       " 'getenv',\n",
       " 'getlogin',\n",
       " 'getpid',\n",
       " 'getppid',\n",
       " 'isatty',\n",
       " 'kill',\n",
       " 'linesep',\n",
       " 'link',\n",
       " 'listdir',\n",
       " 'lseek',\n",
       " 'lstat',\n",
       " 'makedirs',\n",
       " 'mkdir',\n",
       " 'name',\n",
       " 'open',\n",
       " 'pardir',\n",
       " 'path',\n",
       " 'pathsep',\n",
       " 'pipe',\n",
       " 'popen',\n",
       " 'putenv',\n",
       " 'read',\n",
       " 'readlink',\n",
       " 'remove',\n",
       " 'removedirs',\n",
       " 'rename',\n",
       " 'renames',\n",
       " 'replace',\n",
       " 'rmdir',\n",
       " 'scandir',\n",
       " 'sep',\n",
       " 'set_handle_inheritable',\n",
       " 'set_inheritable',\n",
       " 'spawnl',\n",
       " 'spawnle',\n",
       " 'spawnv',\n",
       " 'spawnve',\n",
       " 'st',\n",
       " 'startfile',\n",
       " 'stat',\n",
       " 'stat_result',\n",
       " 'statvfs_result',\n",
       " 'strerror',\n",
       " 'supports_bytes_environ',\n",
       " 'supports_dir_fd',\n",
       " 'supports_effective_ids',\n",
       " 'supports_fd',\n",
       " 'supports_follow_symlinks',\n",
       " 'symlink',\n",
       " 'sys',\n",
       " 'system',\n",
       " 'terminal_size',\n",
       " 'times',\n",
       " 'times_result',\n",
       " 'truncate',\n",
       " 'umask',\n",
       " 'uname_result',\n",
       " 'unlink',\n",
       " 'unsetenv',\n",
       " 'urandom',\n",
       " 'utime',\n",
       " 'waitpid',\n",
       " 'waitstatus_to_exitcode',\n",
       " 'walk',\n",
       " 'write']"
      ]
     },
     "execution_count": 10,
     "metadata": {},
     "output_type": "execute_result"
    }
   ],
   "source": [
    "dir(os)"
   ]
  },
  {
   "cell_type": "code",
   "execution_count": 11,
   "id": "f4b79f61-78c8-4d70-9aee-5b4d4facf842",
   "metadata": {},
   "outputs": [
    {
     "data": {
      "text/plain": [
       "\u001b[1;31mSignature:\u001b[0m \u001b[0mos\u001b[0m\u001b[1;33m.\u001b[0m\u001b[0mgetlogin\u001b[0m\u001b[1;33m(\u001b[0m\u001b[1;33m)\u001b[0m\u001b[1;33m\u001b[0m\u001b[1;33m\u001b[0m\u001b[0m\n",
       "\u001b[1;31mDocstring:\u001b[0m Return the actual login name.\n",
       "\u001b[1;31mType:\u001b[0m      builtin_function_or_method"
      ]
     },
     "metadata": {},
     "output_type": "display_data"
    }
   ],
   "source": [
    "os.getlogin?"
   ]
  },
  {
   "cell_type": "code",
   "execution_count": 12,
   "id": "2a9fa0b5-421d-4bff-8c8c-207bf8940a2b",
   "metadata": {},
   "outputs": [
    {
     "data": {
      "text/plain": [
       "'ahmed'"
      ]
     },
     "execution_count": 12,
     "metadata": {},
     "output_type": "execute_result"
    }
   ],
   "source": [
    "os.getlogin()"
   ]
  },
  {
   "cell_type": "code",
   "execution_count": 13,
   "id": "93656c60-5c95-41b2-b0d0-392dd426c5f4",
   "metadata": {},
   "outputs": [
    {
     "data": {
      "text/plain": [
       "'C:\\\\Users\\\\ahmed\\\\Documents'"
      ]
     },
     "execution_count": 13,
     "metadata": {},
     "output_type": "execute_result"
    }
   ],
   "source": [
    "os.getcwd()"
   ]
  },
  {
   "cell_type": "code",
   "execution_count": 14,
   "id": "be21562e-2998-4164-a8e0-06b0bd10853e",
   "metadata": {},
   "outputs": [
    {
     "data": {
      "text/plain": [
       "0"
      ]
     },
     "execution_count": 14,
     "metadata": {},
     "output_type": "execute_result"
    }
   ],
   "source": [
    "os.system('mkdir today')"
   ]
  },
  {
   "cell_type": "code",
   "execution_count": 15,
   "id": "48ca6844-70f4-4328-a549-691ba1738240",
   "metadata": {},
   "outputs": [
    {
     "data": {
      "text/plain": [
       "['.ipynb_checkpoints',\n",
       " 'DiscussTheProject.ipynb',\n",
       " 'My Music',\n",
       " 'My Pictures',\n",
       " 'My Videos',\n",
       " 'SQL Server Management Studio',\n",
       " 'ThePython.ipynb',\n",
       " 'today',\n",
       " 'Visual Studio 2017']"
      ]
     },
     "execution_count": 15,
     "metadata": {},
     "output_type": "execute_result"
    }
   ],
   "source": [
    "os.listdir()"
   ]
  },
  {
   "cell_type": "code",
   "execution_count": 16,
   "id": "e6935994-7c2b-42f7-a024-5628b33a10b4",
   "metadata": {},
   "outputs": [],
   "source": [
    "import glob"
   ]
  },
  {
   "cell_type": "code",
   "execution_count": 17,
   "id": "ff284a0e-2f99-403d-ad0b-9d7b6a0ad347",
   "metadata": {},
   "outputs": [
    {
     "data": {
      "text/plain": [
       "[]"
      ]
     },
     "execution_count": 17,
     "metadata": {},
     "output_type": "execute_result"
    }
   ],
   "source": [
    "glob.glob('*.py')"
   ]
  },
  {
   "cell_type": "code",
   "execution_count": 18,
   "id": "dabef531-75a0-489b-b002-9b726132af1c",
   "metadata": {},
   "outputs": [],
   "source": [
    "import re"
   ]
  },
  {
   "cell_type": "code",
   "execution_count": 19,
   "id": "665bbd89-2cb1-41bc-bcfd-5d495c65637a",
   "metadata": {},
   "outputs": [
    {
     "data": {
      "text/plain": [
       "['foot', 'fell', 'fastest', 'f']"
      ]
     },
     "execution_count": 19,
     "metadata": {},
     "output_type": "execute_result"
    }
   ],
   "source": [
    "re.findall(r'\\bf[a-z]*','which foot or hand fell fastest f2astlest')"
   ]
  },
  {
   "cell_type": "code",
   "execution_count": 20,
   "id": "3b0b25e8-f026-498d-a7d6-d473552a44d4",
   "metadata": {},
   "outputs": [],
   "source": [
    "import sys"
   ]
  },
  {
   "cell_type": "code",
   "execution_count": 21,
   "id": "707b0185-4a70-45c0-b89b-a555638764e0",
   "metadata": {},
   "outputs": [
    {
     "name": "stdout",
     "output_type": "stream",
     "text": [
      "['C:\\\\Jupiter\\\\Lib\\\\site-packages\\\\ipykernel_launcher.py', '-f', 'C:\\\\Users\\\\ahmed\\\\AppData\\\\Roaming\\\\jupyter\\\\runtime\\\\kernel-9431337d-c249-444b-b424-570dc76d4b42.json']\n"
     ]
    }
   ],
   "source": [
    "print(sys.argv)"
   ]
  },
  {
   "cell_type": "code",
   "execution_count": 22,
   "id": "0b4cd8c1-6cb2-4a10-83cd-672d544cfd2a",
   "metadata": {},
   "outputs": [
    {
     "name": "stdout",
     "output_type": "stream",
     "text": [
      "Out: \n"
     ]
    }
   ],
   "source": [
    "print(sys.ps3)"
   ]
  },
  {
   "cell_type": "code",
   "execution_count": 23,
   "id": "dab83209-1eed-4d05-8c7e-594db98c08e9",
   "metadata": {},
   "outputs": [
    {
     "data": {
      "text/plain": [
       "['__breakpointhook__',\n",
       " '__displayhook__',\n",
       " '__doc__',\n",
       " '__excepthook__',\n",
       " '__interactivehook__',\n",
       " '__loader__',\n",
       " '__name__',\n",
       " '__package__',\n",
       " '__spec__',\n",
       " '__stderr__',\n",
       " '__stdin__',\n",
       " '__stdout__',\n",
       " '__unraisablehook__',\n",
       " '_base_executable',\n",
       " '_clear_type_cache',\n",
       " '_current_exceptions',\n",
       " '_current_frames',\n",
       " '_debugmallocstats',\n",
       " '_enablelegacywindowsfsencoding',\n",
       " '_framework',\n",
       " '_getframe',\n",
       " '_getquickenedcount',\n",
       " '_git',\n",
       " '_home',\n",
       " '_stdlib_dir',\n",
       " '_vpath',\n",
       " '_xoptions',\n",
       " 'addaudithook',\n",
       " 'api_version',\n",
       " 'argv',\n",
       " 'audit',\n",
       " 'base_exec_prefix',\n",
       " 'base_prefix',\n",
       " 'breakpointhook',\n",
       " 'builtin_module_names',\n",
       " 'byteorder',\n",
       " 'call_tracing',\n",
       " 'copyright',\n",
       " 'displayhook',\n",
       " 'dllhandle',\n",
       " 'dont_write_bytecode',\n",
       " 'exc_info',\n",
       " 'excepthook',\n",
       " 'exception',\n",
       " 'exec_prefix',\n",
       " 'executable',\n",
       " 'exit',\n",
       " 'flags',\n",
       " 'float_info',\n",
       " 'float_repr_style',\n",
       " 'get_asyncgen_hooks',\n",
       " 'get_coroutine_origin_tracking_depth',\n",
       " 'get_int_max_str_digits',\n",
       " 'getallocatedblocks',\n",
       " 'getdefaultencoding',\n",
       " 'getfilesystemencodeerrors',\n",
       " 'getfilesystemencoding',\n",
       " 'getprofile',\n",
       " 'getrecursionlimit',\n",
       " 'getrefcount',\n",
       " 'getsizeof',\n",
       " 'getswitchinterval',\n",
       " 'gettrace',\n",
       " 'getwindowsversion',\n",
       " 'hash_info',\n",
       " 'hexversion',\n",
       " 'implementation',\n",
       " 'int_info',\n",
       " 'intern',\n",
       " 'is_finalizing',\n",
       " 'last_traceback',\n",
       " 'last_type',\n",
       " 'last_value',\n",
       " 'maxsize',\n",
       " 'maxunicode',\n",
       " 'meta_path',\n",
       " 'modules',\n",
       " 'orig_argv',\n",
       " 'path',\n",
       " 'path_hooks',\n",
       " 'path_importer_cache',\n",
       " 'platform',\n",
       " 'platlibdir',\n",
       " 'prefix',\n",
       " 'ps1',\n",
       " 'ps2',\n",
       " 'ps3',\n",
       " 'pycache_prefix',\n",
       " 'set_asyncgen_hooks',\n",
       " 'set_coroutine_origin_tracking_depth',\n",
       " 'set_int_max_str_digits',\n",
       " 'setprofile',\n",
       " 'setrecursionlimit',\n",
       " 'setswitchinterval',\n",
       " 'settrace',\n",
       " 'stderr',\n",
       " 'stdin',\n",
       " 'stdlib_module_names',\n",
       " 'stdout',\n",
       " 'thread_info',\n",
       " 'unraisablehook',\n",
       " 'version',\n",
       " 'version_info',\n",
       " 'warnoptions',\n",
       " 'winver']"
      ]
     },
     "execution_count": 23,
     "metadata": {},
     "output_type": "execute_result"
    }
   ],
   "source": [
    "dir(sys)"
   ]
  },
  {
   "cell_type": "code",
   "execution_count": 24,
   "id": "23069bc6-6085-4762-8a38-eec190f208b7",
   "metadata": {},
   "outputs": [],
   "source": [
    "from datetime import date"
   ]
  },
  {
   "cell_type": "code",
   "execution_count": 25,
   "id": "8a0ea3d8-5ac3-4a58-abb7-d809b2b35d13",
   "metadata": {},
   "outputs": [
    {
     "data": {
      "text/plain": [
       "datetime.date(2024, 6, 28)"
      ]
     },
     "execution_count": 25,
     "metadata": {},
     "output_type": "execute_result"
    }
   ],
   "source": [
    "now = date.today()\n",
    "now"
   ]
  },
  {
   "cell_type": "code",
   "execution_count": 27,
   "id": "996aed20-3bb4-4164-b7fa-b70faa010059",
   "metadata": {},
   "outputs": [
    {
     "data": {
      "text/plain": [
       "'2024-06-28 00:00:00'"
      ]
     },
     "execution_count": 27,
     "metadata": {},
     "output_type": "execute_result"
    }
   ],
   "source": [
    "now.strftime('%Y-%m-%d %H:%M:%S')"
   ]
  },
  {
   "cell_type": "code",
   "execution_count": 28,
   "id": "7779fcc2-2fe9-4cad-803c-b2cedfb7f944",
   "metadata": {},
   "outputs": [
    {
     "data": {
      "text/plain": [
       "'06-28-24. 28 Jun 2024 is a Friday on the 28 day of June.'"
      ]
     },
     "execution_count": 28,
     "metadata": {},
     "output_type": "execute_result"
    }
   ],
   "source": [
    "now.strftime('%m-%d-%y. %d %b %Y is a %A on the %d day of %B.')"
   ]
  },
  {
   "cell_type": "code",
   "execution_count": 29,
   "id": "2f674ca1-40ce-4059-b953-199e20f5c8b3",
   "metadata": {},
   "outputs": [
    {
     "name": "stdout",
     "output_type": "stream",
     "text": [
      "Dates support calender Arithmetic\n"
     ]
    }
   ],
   "source": [
    "print('Dates support calender Arithmetic')"
   ]
  },
  {
   "cell_type": "code",
   "execution_count": 31,
   "id": "d8461cd9-b5c9-4273-b358-8e8ee93708af",
   "metadata": {},
   "outputs": [
    {
     "data": {
      "text/plain": [
       "8640"
      ]
     },
     "execution_count": 31,
     "metadata": {},
     "output_type": "execute_result"
    }
   ],
   "source": [
    "birthday = date(2000, 11, 1)\n",
    "age = now - birthday\n",
    "age.days"
   ]
  },
  {
   "cell_type": "code",
   "execution_count": 32,
   "id": "a6465ead-a948-4175-96ae-8c95709b85b5",
   "metadata": {},
   "outputs": [],
   "source": [
    "import math"
   ]
  },
  {
   "cell_type": "code",
   "execution_count": 33,
   "id": "b4397721-3162-45cc-a14d-ead29ec9a1b6",
   "metadata": {},
   "outputs": [
    {
     "data": {
      "text/plain": [
       "['__doc__',\n",
       " '__loader__',\n",
       " '__name__',\n",
       " '__package__',\n",
       " '__spec__',\n",
       " 'acos',\n",
       " 'acosh',\n",
       " 'asin',\n",
       " 'asinh',\n",
       " 'atan',\n",
       " 'atan2',\n",
       " 'atanh',\n",
       " 'cbrt',\n",
       " 'ceil',\n",
       " 'comb',\n",
       " 'copysign',\n",
       " 'cos',\n",
       " 'cosh',\n",
       " 'degrees',\n",
       " 'dist',\n",
       " 'e',\n",
       " 'erf',\n",
       " 'erfc',\n",
       " 'exp',\n",
       " 'exp2',\n",
       " 'expm1',\n",
       " 'fabs',\n",
       " 'factorial',\n",
       " 'floor',\n",
       " 'fmod',\n",
       " 'frexp',\n",
       " 'fsum',\n",
       " 'gamma',\n",
       " 'gcd',\n",
       " 'hypot',\n",
       " 'inf',\n",
       " 'isclose',\n",
       " 'isfinite',\n",
       " 'isinf',\n",
       " 'isnan',\n",
       " 'isqrt',\n",
       " 'lcm',\n",
       " 'ldexp',\n",
       " 'lgamma',\n",
       " 'log',\n",
       " 'log10',\n",
       " 'log1p',\n",
       " 'log2',\n",
       " 'modf',\n",
       " 'nan',\n",
       " 'nextafter',\n",
       " 'perm',\n",
       " 'pi',\n",
       " 'pow',\n",
       " 'prod',\n",
       " 'radians',\n",
       " 'remainder',\n",
       " 'sin',\n",
       " 'sinh',\n",
       " 'sqrt',\n",
       " 'tan',\n",
       " 'tanh',\n",
       " 'tau',\n",
       " 'trunc',\n",
       " 'ulp']"
      ]
     },
     "execution_count": 33,
     "metadata": {},
     "output_type": "execute_result"
    }
   ],
   "source": [
    "dir(math)"
   ]
  },
  {
   "cell_type": "code",
   "execution_count": 34,
   "id": "7f5e4405-95a9-4d03-938a-75434add87ed",
   "metadata": {},
   "outputs": [
    {
     "name": "stdout",
     "output_type": "stream",
     "text": [
      "3.141592653589793\n"
     ]
    }
   ],
   "source": [
    "print(math.pi)"
   ]
  },
  {
   "cell_type": "code",
   "execution_count": 35,
   "id": "cc977b50-8ea8-4b9d-9a6d-6925cf486590",
   "metadata": {},
   "outputs": [
    {
     "data": {
      "text/plain": [
       "-1.0"
      ]
     },
     "execution_count": 35,
     "metadata": {},
     "output_type": "execute_result"
    }
   ],
   "source": [
    "math.cos(math.pi)"
   ]
  },
  {
   "cell_type": "code",
   "execution_count": 36,
   "id": "b1e5aaff-139c-4733-9ffe-a6930974c8c3",
   "metadata": {},
   "outputs": [
    {
     "data": {
      "text/plain": [
       "10.0"
      ]
     },
     "execution_count": 36,
     "metadata": {},
     "output_type": "execute_result"
    }
   ],
   "source": [
    "math.log(1024,2)"
   ]
  },
  {
   "cell_type": "code",
   "execution_count": 38,
   "id": "1a426d4c-6581-4e74-bc9f-17a1bd72d06f",
   "metadata": {},
   "outputs": [
    {
     "data": {
      "text/plain": [
       "35"
      ]
     },
     "execution_count": 38,
     "metadata": {},
     "output_type": "execute_result"
    }
   ],
   "source": [
    "math.gcd(35,105)"
   ]
  },
  {
   "cell_type": "code",
   "execution_count": 40,
   "id": "5b9dec52-7540-410a-8edc-b1f4acdd25d1",
   "metadata": {},
   "outputs": [
    {
     "name": "stdout",
     "output_type": "stream",
     "text": [
      "Greatest common divisor.\n",
      "24, 18\n",
      "24 = 2 x 2 x 2 x 3.\n",
      "18 = 2 x 2 x 3.\n",
      "2 x 3 = 6.\n",
      "\n"
     ]
    }
   ],
   "source": [
    "print(\"\"\"Greatest common divisor.\n",
    "24, 18\n",
    "24 = 2 x 2 x 2 x 3.\n",
    "18 = 2 x 2 x 3.\n",
    "2 x 3 = 6.\n",
    "\"\"\")"
   ]
  },
  {
   "cell_type": "code",
   "execution_count": 41,
   "id": "f5257dbf-4d37-4370-8808-0c31ff7c3913",
   "metadata": {},
   "outputs": [],
   "source": [
    "import statistics"
   ]
  },
  {
   "cell_type": "code",
   "execution_count": 42,
   "id": "a4d7be0e-01ac-41c3-a041-ffcd34aede4e",
   "metadata": {},
   "outputs": [
    {
     "data": {
      "text/plain": [
       "['Counter',\n",
       " 'Decimal',\n",
       " 'Fraction',\n",
       " 'LinearRegression',\n",
       " 'NormalDist',\n",
       " 'StatisticsError',\n",
       " '_SQRT2',\n",
       " '__all__',\n",
       " '__annotations__',\n",
       " '__builtins__',\n",
       " '__cached__',\n",
       " '__doc__',\n",
       " '__file__',\n",
       " '__loader__',\n",
       " '__name__',\n",
       " '__package__',\n",
       " '__spec__',\n",
       " '_coerce',\n",
       " '_convert',\n",
       " '_decimal_sqrt_of_frac',\n",
       " '_exact_ratio',\n",
       " '_fail_neg',\n",
       " '_float_sqrt_of_frac',\n",
       " '_integer_sqrt_of_frac_rto',\n",
       " '_isfinite',\n",
       " '_mean_stdev',\n",
       " '_normal_dist_inv_cdf',\n",
       " '_sqrt_bit_width',\n",
       " '_ss',\n",
       " '_sum',\n",
       " 'bisect_left',\n",
       " 'bisect_right',\n",
       " 'correlation',\n",
       " 'covariance',\n",
       " 'defaultdict',\n",
       " 'erf',\n",
       " 'exp',\n",
       " 'fabs',\n",
       " 'fmean',\n",
       " 'fsum',\n",
       " 'geometric_mean',\n",
       " 'groupby',\n",
       " 'harmonic_mean',\n",
       " 'hypot',\n",
       " 'linear_regression',\n",
       " 'log',\n",
       " 'math',\n",
       " 'mean',\n",
       " 'median',\n",
       " 'median_grouped',\n",
       " 'median_high',\n",
       " 'median_low',\n",
       " 'mode',\n",
       " 'mul',\n",
       " 'multimode',\n",
       " 'namedtuple',\n",
       " 'numbers',\n",
       " 'pstdev',\n",
       " 'pvariance',\n",
       " 'quantiles',\n",
       " 'random',\n",
       " 'reduce',\n",
       " 'repeat',\n",
       " 'sqrt',\n",
       " 'stdev',\n",
       " 'sys',\n",
       " 'tau',\n",
       " 'variance']"
      ]
     },
     "execution_count": 42,
     "metadata": {},
     "output_type": "execute_result"
    }
   ],
   "source": [
    "dir(statistics)"
   ]
  },
  {
   "cell_type": "code",
   "execution_count": 43,
   "id": "7a7c822e-e2f8-4ff8-b7a2-45afd15ec012",
   "metadata": {},
   "outputs": [],
   "source": [
    "data = [2.75,1.75,1.25,0.25,0.5,1.25,3.5]"
   ]
  },
  {
   "cell_type": "code",
   "execution_count": 44,
   "id": "6a1947a3-8b41-4bb9-952d-0711e93689dd",
   "metadata": {},
   "outputs": [
    {
     "name": "stdout",
     "output_type": "stream",
     "text": [
      "mean: 1.6071428571428572\n",
      "median: 1.25\n",
      "variance: 1.3720238095238095\n"
     ]
    }
   ],
   "source": [
    "print('mean:', statistics.mean(data))\n",
    "print('median:',statistics.median(data))\n",
    "print('variance:',statistics.variance(data))"
   ]
  },
  {
   "cell_type": "code",
   "execution_count": 1,
   "id": "113efd7b-86db-42d1-a14b-50dbc3e14c0c",
   "metadata": {},
   "outputs": [],
   "source": [
    "from decimal import Decimal"
   ]
  },
  {
   "cell_type": "code",
   "execution_count": 2,
   "id": "965232fa-ed97-4d63-b24a-82048124a5a9",
   "metadata": {},
   "outputs": [],
   "source": [
    "x = y = z = 0.1\n",
    "s = x + y + z"
   ]
  },
  {
   "cell_type": "code",
   "execution_count": 3,
   "id": "0c6611c1-e958-49f7-a2a9-f5cf596f57f3",
   "metadata": {},
   "outputs": [
    {
     "data": {
      "text/plain": [
       "0.30000000000000004"
      ]
     },
     "execution_count": 3,
     "metadata": {},
     "output_type": "execute_result"
    }
   ],
   "source": [
    "s"
   ]
  },
  {
   "cell_type": "code",
   "execution_count": 4,
   "id": "25272591-359a-49b6-b9b7-e75479d85889",
   "metadata": {},
   "outputs": [
    {
     "data": {
      "text/plain": [
       "True"
      ]
     },
     "execution_count": 4,
     "metadata": {},
     "output_type": "execute_result"
    }
   ],
   "source": [
    "0.30000000000000004 == 0.30000000000000005"
   ]
  },
  {
   "cell_type": "code",
   "execution_count": 5,
   "id": "faa9683d-4a59-4ac4-b6d5-1c061b6d74d2",
   "metadata": {},
   "outputs": [
    {
     "data": {
      "text/plain": [
       "True"
      ]
     },
     "execution_count": 5,
     "metadata": {},
     "output_type": "execute_result"
    }
   ],
   "source": [
    "0.30000000000000004 == 0.30000000000000005"
   ]
  },
  {
   "cell_type": "code",
   "execution_count": 7,
   "id": "f9b2dcde-3538-411e-bbc5-854761b6eb8d",
   "metadata": {},
   "outputs": [
    {
     "name": "stdout",
     "output_type": "stream",
     "text": [
      "0.3\n"
     ]
    }
   ],
   "source": [
    "x = Decimal('0.1')\n",
    "y = Decimal('0.1')\n",
    "z = Decimal('0.1')\n",
    "s = x + y + z\n",
    "print(s)"
   ]
  },
  {
   "cell_type": "code",
   "execution_count": 8,
   "id": "05fc7190-29c2-41fd-91b8-2c5557eb328a",
   "metadata": {},
   "outputs": [],
   "source": [
    "x = Decimal((0, (3,1,4), -1))"
   ]
  },
  {
   "cell_type": "code",
   "execution_count": 9,
   "id": "bc12c280-5544-4da7-b91e-ec9e90990126",
   "metadata": {},
   "outputs": [
    {
     "data": {
      "text/plain": [
       "Decimal('31.4')"
      ]
     },
     "execution_count": 9,
     "metadata": {},
     "output_type": "execute_result"
    }
   ],
   "source": [
    "x"
   ]
  },
  {
   "cell_type": "code",
   "execution_count": 10,
   "id": "7d8f4f8b-367c-4b06-a29e-f6194b06512e",
   "metadata": {},
   "outputs": [
    {
     "data": {
      "text/plain": [
       "Decimal('314')"
      ]
     },
     "execution_count": 10,
     "metadata": {},
     "output_type": "execute_result"
    }
   ],
   "source": [
    "Decimal((0,(3,1,4),0))"
   ]
  },
  {
   "cell_type": "code",
   "execution_count": 12,
   "id": "e15af0be-9712-4d1f-a898-29be3bec4535",
   "metadata": {},
   "outputs": [
    {
     "data": {
      "text/plain": [
       "Decimal('3.14')"
      ]
     },
     "execution_count": 12,
     "metadata": {},
     "output_type": "execute_result"
    }
   ],
   "source": [
    "Decimal((0,(3,1,4),-2))"
   ]
  },
  {
   "cell_type": "code",
   "execution_count": 13,
   "id": "187b310a-654c-4bd2-a7c7-0442fcbca280",
   "metadata": {},
   "outputs": [
    {
     "data": {
      "text/plain": [
       "True"
      ]
     },
     "execution_count": 13,
     "metadata": {},
     "output_type": "execute_result"
    }
   ],
   "source": [
    "Decimal((0,(3,1,4),-2)) == Decimal('3.14')"
   ]
  },
  {
   "cell_type": "code",
   "execution_count": 14,
   "id": "233fa5ba-d6b5-40e6-b3b5-fdb5dcfd20eb",
   "metadata": {},
   "outputs": [],
   "source": [
    "import typing"
   ]
  },
  {
   "cell_type": "code",
   "execution_count": 16,
   "id": "05b6c5eb-4522-4b71-aeb7-0023e27c1f9b",
   "metadata": {},
   "outputs": [],
   "source": [
    "def  scale(scalar, vector):\n",
    "    return [scalar * num for num in vector]\n",
    "new_vector = scale(2.0,[1.0,-4.2,5.4])"
   ]
  },
  {
   "cell_type": "code",
   "execution_count": 17,
   "id": "950fd3dd-b02a-404f-95c9-e4a11f11471c",
   "metadata": {},
   "outputs": [
    {
     "data": {
      "text/plain": [
       "[2.0, -8.4, 10.8]"
      ]
     },
     "execution_count": 17,
     "metadata": {},
     "output_type": "execute_result"
    }
   ],
   "source": [
    "new_vector"
   ]
  },
  {
   "cell_type": "code",
   "execution_count": 18,
   "id": "32c8af6f-8524-45d2-a32c-a2b62ae84e83",
   "metadata": {},
   "outputs": [
    {
     "data": {
      "text/plain": [
       "list"
      ]
     },
     "execution_count": 18,
     "metadata": {},
     "output_type": "execute_result"
    }
   ],
   "source": [
    "type(new_vector)"
   ]
  },
  {
   "cell_type": "code",
   "execution_count": 19,
   "id": "926b1f56-1f78-49ff-a9c8-a741aaf190fa",
   "metadata": {},
   "outputs": [],
   "source": [
    "import array"
   ]
  },
  {
   "cell_type": "code",
   "execution_count": 20,
   "id": "bb2476e9-b894-491c-8ed9-8dec4996cc90",
   "metadata": {},
   "outputs": [],
   "source": [
    "a = array.array('l',[1,2,3,4,5]) "
   ]
  },
  {
   "cell_type": "code",
   "execution_count": 21,
   "id": "34abfebd-f7c1-4725-bba3-faab01c33cd4",
   "metadata": {},
   "outputs": [
    {
     "data": {
      "text/plain": [
       "array('l', [1, 2, 3, 4, 5])"
      ]
     },
     "execution_count": 21,
     "metadata": {},
     "output_type": "execute_result"
    }
   ],
   "source": [
    "a"
   ]
  },
  {
   "cell_type": "code",
   "execution_count": 22,
   "id": "47b0fd47-edfe-42e3-9b2f-029c64aa3b18",
   "metadata": {},
   "outputs": [
    {
     "data": {
      "text/plain": [
       "1"
      ]
     },
     "execution_count": 22,
     "metadata": {},
     "output_type": "execute_result"
    }
   ],
   "source": [
    "a[0]"
   ]
  },
  {
   "cell_type": "code",
   "execution_count": 23,
   "id": "deb4a304-670b-46d4-bfaf-ee16eaa4b01c",
   "metadata": {},
   "outputs": [
    {
     "data": {
      "text/plain": [
       "2"
      ]
     },
     "execution_count": 23,
     "metadata": {},
     "output_type": "execute_result"
    }
   ],
   "source": [
    "a[1]"
   ]
  },
  {
   "cell_type": "code",
   "execution_count": 24,
   "id": "a8144ad5-4ef8-48f1-9624-7b623131f7a7",
   "metadata": {},
   "outputs": [
    {
     "data": {
      "text/plain": [
       "array.array"
      ]
     },
     "execution_count": 24,
     "metadata": {},
     "output_type": "execute_result"
    }
   ],
   "source": [
    "type(a)"
   ]
  },
  {
   "cell_type": "code",
   "execution_count": 25,
   "id": "0f635271-fa65-45e4-9dfd-9a89519cf5de",
   "metadata": {},
   "outputs": [],
   "source": [
    "import random"
   ]
  },
  {
   "cell_type": "code",
   "execution_count": 29,
   "id": "fdc24d05-d9a1-4f26-8fa9-7200ce96d65d",
   "metadata": {},
   "outputs": [
    {
     "data": {
      "text/plain": [
       "0.5714025946899135"
      ]
     },
     "execution_count": 29,
     "metadata": {},
     "output_type": "execute_result"
    }
   ],
   "source": [
    "random.seed(10)\n",
    "random.random()"
   ]
  },
  {
   "cell_type": "code",
   "execution_count": 30,
   "id": "84c7eb7a-ac10-4802-9d45-2948c650df13",
   "metadata": {},
   "outputs": [
    {
     "data": {
      "text/plain": [
       "86.20002984152063"
      ]
     },
     "execution_count": 30,
     "metadata": {},
     "output_type": "execute_result"
    }
   ],
   "source": [
    "random.uniform(9,189)"
   ]
  },
  {
   "cell_type": "code",
   "execution_count": 33,
   "id": "6f87d39c-c56d-4c15-8fee-8a1f61f32463",
   "metadata": {},
   "outputs": [
    {
     "data": {
      "text/plain": [
       "39"
      ]
     },
     "execution_count": 33,
     "metadata": {},
     "output_type": "execute_result"
    }
   ],
   "source": [
    "random.randrange(0,100,3)"
   ]
  },
  {
   "cell_type": "code",
   "execution_count": 43,
   "id": "3d916e6f-6c8a-489b-a106-0df9785158ce",
   "metadata": {},
   "outputs": [
    {
     "data": {
      "text/plain": [
       "'win'"
      ]
     },
     "execution_count": 43,
     "metadata": {},
     "output_type": "execute_result"
    }
   ],
   "source": [
    "random.choice(['win','lose','draw'])"
   ]
  },
  {
   "cell_type": "code",
   "execution_count": 39,
   "id": "36781024-0632-49c1-8434-2f1fdfb3cdfe",
   "metadata": {},
   "outputs": [
    {
     "data": {
      "text/plain": [
       "'win'"
      ]
     },
     "execution_count": 39,
     "metadata": {},
     "output_type": "execute_result"
    }
   ],
   "source": [
    "random.choice(['win','lose','draw'])"
   ]
  },
  {
   "cell_type": "code",
   "execution_count": 38,
   "id": "98c35914-ac48-4efe-844d-09948f0b295d",
   "metadata": {},
   "outputs": [
    {
     "data": {
      "text/plain": [
       "'win'"
      ]
     },
     "execution_count": 38,
     "metadata": {},
     "output_type": "execute_result"
    }
   ],
   "source": [
    "random.choice(['win','lose','draw'])"
   ]
  },
  {
   "cell_type": "code",
   "execution_count": 44,
   "id": "cfb88511-47f5-4ef6-978a-67fa135069a7",
   "metadata": {},
   "outputs": [
    {
     "data": {
      "text/plain": [
       "'win'"
      ]
     },
     "execution_count": 44,
     "metadata": {},
     "output_type": "execute_result"
    }
   ],
   "source": [
    "random.choice(['win','lose','draw'])"
   ]
  },
  {
   "cell_type": "code",
   "execution_count": 48,
   "id": "3fe91260-43d6-4997-8621-ccd2e50a0078",
   "metadata": {},
   "outputs": [],
   "source": [
    "#تقلب القيم عشوقية\n",
    "il = [1,2,3,4,5]\n",
    "sl = ['a','b','c','d','e']\n",
    "random.shuffle(il)\n",
    "random.shuffle(sl)"
   ]
  },
  {
   "cell_type": "code",
   "execution_count": 49,
   "id": "6b48a033-fdea-401b-8320-24d2e8272941",
   "metadata": {},
   "outputs": [
    {
     "name": "stdout",
     "output_type": "stream",
     "text": [
      "[4, 1, 2, 5, 3]\n"
     ]
    }
   ],
   "source": [
    "print(il)"
   ]
  },
  {
   "cell_type": "code",
   "execution_count": 50,
   "id": "a07c7e3a-7006-4326-bce2-c97add49fa2c",
   "metadata": {},
   "outputs": [
    {
     "name": "stdout",
     "output_type": "stream",
     "text": [
      "['d', 'b', 'a', 'e', 'c']\n"
     ]
    }
   ],
   "source": [
    "print(sl)"
   ]
  },
  {
   "cell_type": "code",
   "execution_count": 52,
   "id": "6c064fee-e0bb-45ea-a2f1-ad4f2086eee5",
   "metadata": {},
   "outputs": [
    {
     "data": {
      "text/plain": [
       "[40, 'c', 'b', 10, 50, 'd', 20]"
      ]
     },
     "execution_count": 52,
     "metadata": {},
     "output_type": "execute_result"
    }
   ],
   "source": [
    "random.sample([10,20,30,40,50,'a','b','c','d','e'],k = 7)"
   ]
  },
  {
   "cell_type": "code",
   "execution_count": 53,
   "id": "f24c6782-785c-4aec-955d-f9b20724fdbb",
   "metadata": {},
   "outputs": [
    {
     "data": {
      "text/plain": [
       "['red', 'green', 'red', 'red', 'green', 'red']"
      ]
     },
     "execution_count": 53,
     "metadata": {},
     "output_type": "execute_result"
    }
   ],
   "source": [
    "random.choices(['red','black','green'],[18,1,5],k=6)"
   ]
  },
  {
   "cell_type": "code",
   "execution_count": 54,
   "id": "c8ff046e-1054-4e8a-b66f-9e64388a84a8",
   "metadata": {},
   "outputs": [],
   "source": [
    "import collections"
   ]
  },
  {
   "cell_type": "code",
   "execution_count": 56,
   "id": "c7fd8838-4dd2-4770-84bb-2abfdd9b281f",
   "metadata": {},
   "outputs": [],
   "source": [
    "Point = collections.namedtuple('Point',['x','y'])"
   ]
  },
  {
   "cell_type": "code",
   "execution_count": 57,
   "id": "5096e574-485c-42f7-be37-86c1da691cde",
   "metadata": {},
   "outputs": [],
   "source": [
    "p1 = Point(13,99)"
   ]
  },
  {
   "cell_type": "code",
   "execution_count": 58,
   "id": "0d45c539-b1de-4ed6-addd-7bb17782c67e",
   "metadata": {},
   "outputs": [
    {
     "data": {
      "text/plain": [
       "13"
      ]
     },
     "execution_count": 58,
     "metadata": {},
     "output_type": "execute_result"
    }
   ],
   "source": [
    "p1[0]"
   ]
  },
  {
   "cell_type": "code",
   "execution_count": 59,
   "id": "205d1048-0677-45ce-989a-b991a06d5737",
   "metadata": {},
   "outputs": [
    {
     "data": {
      "text/plain": [
       "99"
      ]
     },
     "execution_count": 59,
     "metadata": {},
     "output_type": "execute_result"
    }
   ],
   "source": [
    "p1[1]"
   ]
  },
  {
   "cell_type": "code",
   "execution_count": 60,
   "id": "da19dbbb-5b11-4af2-9e03-49189f11739e",
   "metadata": {},
   "outputs": [
    {
     "data": {
      "text/plain": [
       "13"
      ]
     },
     "execution_count": 60,
     "metadata": {},
     "output_type": "execute_result"
    }
   ],
   "source": [
    "p1.x"
   ]
  },
  {
   "cell_type": "code",
   "execution_count": 61,
   "id": "a1b38d5e-20cd-4a2a-9a03-403844fcaed0",
   "metadata": {},
   "outputs": [
    {
     "data": {
      "text/plain": [
       "99"
      ]
     },
     "execution_count": 61,
     "metadata": {},
     "output_type": "execute_result"
    }
   ],
   "source": [
    "p1.y"
   ]
  },
  {
   "cell_type": "code",
   "execution_count": 63,
   "id": "92e1cc6f-cd4e-4f08-88ca-c52f6d19f723",
   "metadata": {},
   "outputs": [
    {
     "name": "stdout",
     "output_type": "stream",
     "text": [
      "String module constants\n"
     ]
    }
   ],
   "source": [
    "import string\n",
    "print(\"String module constants\")"
   ]
  },
  {
   "cell_type": "code",
   "execution_count": 64,
   "id": "b21636e8-d691-42ad-bea0-488d57edee8e",
   "metadata": {},
   "outputs": [
    {
     "name": "stdout",
     "output_type": "stream",
     "text": [
      "abcdefghijklmnopqrstuvwxyzABCDEFGHIJKLMNOPQRSTUVWXYZ\n"
     ]
    }
   ],
   "source": [
    "print(string.ascii_letters)"
   ]
  },
  {
   "cell_type": "code",
   "execution_count": 65,
   "id": "5cbdb54d-a452-4084-a8b7-9b3a383232b8",
   "metadata": {},
   "outputs": [
    {
     "name": "stdout",
     "output_type": "stream",
     "text": [
      "abcdefghijklmnopqrstuvwxyz\n"
     ]
    }
   ],
   "source": [
    "print(string.ascii_lowercase)"
   ]
  },
  {
   "cell_type": "code",
   "execution_count": 66,
   "id": "516a2d7e-0aac-4863-b8a5-3ce3c47e76a8",
   "metadata": {},
   "outputs": [
    {
     "name": "stdout",
     "output_type": "stream",
     "text": [
      "ABCDEFGHIJKLMNOPQRSTUVWXYZ\n"
     ]
    }
   ],
   "source": [
    "print(string.ascii_uppercase)"
   ]
  },
  {
   "cell_type": "code",
   "execution_count": 67,
   "id": "76e3261b-753f-4ed5-a858-1484b6e9559e",
   "metadata": {},
   "outputs": [
    {
     "name": "stdout",
     "output_type": "stream",
     "text": [
      "0123456789\n"
     ]
    }
   ],
   "source": [
    "print(string.digits)"
   ]
  },
  {
   "cell_type": "code",
   "execution_count": 68,
   "id": "69affd6e-e3d8-4a1f-8e35-7a7ca5a9237a",
   "metadata": {},
   "outputs": [
    {
     "name": "stdout",
     "output_type": "stream",
     "text": [
      "0123456789abcdefABCDEF\n"
     ]
    }
   ],
   "source": [
    "print(string.hexdigits)"
   ]
  },
  {
   "cell_type": "code",
   "execution_count": 69,
   "id": "2c8d5c50-f3e5-4cfb-8f29-82d939e64593",
   "metadata": {},
   "outputs": [
    {
     "name": "stdout",
     "output_type": "stream",
     "text": [
      " \t\n",
      "\u000b",
      "\f",
      "\n"
     ]
    }
   ],
   "source": [
    "print(string.whitespace)"
   ]
  },
  {
   "cell_type": "code",
   "execution_count": 70,
   "id": "8e4fa01a-95d5-4d92-84ed-f3c30881da04",
   "metadata": {},
   "outputs": [
    {
     "name": "stdout",
     "output_type": "stream",
     "text": [
      "!\"#$%&'()*+,-./:;<=>?@[\\]^_`{|}~\n"
     ]
    }
   ],
   "source": [
    "print(string.punctuation)"
   ]
  },
  {
   "cell_type": "code",
   "execution_count": 71,
   "id": "3340467e-84a7-4ef2-8b22-3c7222ddad0e",
   "metadata": {},
   "outputs": [
    {
     "name": "stdout",
     "output_type": "stream",
     "text": [
      "Working With Files\n"
     ]
    }
   ],
   "source": [
    "print(\"Working With Files\")"
   ]
  },
  {
   "cell_type": "code",
   "execution_count": 4,
   "id": "e8162a3a-7dbc-4213-9d29-63d6792629f9",
   "metadata": {},
   "outputs": [
    {
     "name": "stdout",
     "output_type": "stream",
     "text": [
      "\n",
      "Complete>>>>>File Handling>>>>W3Schools.\n",
      "----------------------------------------\n",
      "The open() function takes two parameters; filename, and mode.\n",
      "----------------------------------------\n",
      "Python File Handling.\n",
      "Python Read Files.\n",
      "Python Write/Create Files.\n",
      "Python Delete Files.\n",
      "----------------------------------------\n",
      ">>Ask ChatGPT>>File Handling Python.\n",
      "----------------------------------------\n",
      "\n"
     ]
    }
   ],
   "source": [
    "print(\"\"\"\n",
    "Complete>>>>>File Handling>>>>W3Schools.\n",
    "----------------------------------------\n",
    "The open() function takes two parameters; filename, and mode.\n",
    "----------------------------------------\n",
    "Python File Handling.\n",
    "Python Read Files.\n",
    "Python Write/Create Files.\n",
    "Python Delete Files.\n",
    "----------------------------------------\n",
    ">>Ask ChatGPT>>File Handling Python.\n",
    "----------------------------------------\n",
    "\"\"\")"
   ]
  },
  {
   "cell_type": "code",
   "execution_count": 5,
   "id": "2f70729e-3917-4155-a061-2b44e7dc7416",
   "metadata": {},
   "outputs": [
    {
     "name": "stdout",
     "output_type": "stream",
     "text": [
      "Ask ChatGPT>>python 8. Errors and Exceptions?\n"
     ]
    }
   ],
   "source": [
    "print(\"Ask ChatGPT>>python 8. Errors and Exceptions?\")"
   ]
  },
  {
   "cell_type": "code",
   "execution_count": 6,
   "id": "8611a74f-59e0-46be-8acf-4ab7932d8c92",
   "metadata": {},
   "outputs": [
    {
     "data": {
      "text/plain": [
       "'Ask ChatGPT Handling errors and exceptions ?'"
      ]
     },
     "execution_count": 6,
     "metadata": {},
     "output_type": "execute_result"
    }
   ],
   "source": [
    "\"Ask ChatGPT Handling errors and exceptions ?\""
   ]
  },
  {
   "cell_type": "code",
   "execution_count": null,
   "id": "ae821792-88dc-4b71-8580-60334a2b1046",
   "metadata": {},
   "outputs": [],
   "source": []
  }
 ],
 "metadata": {
  "kernelspec": {
   "display_name": "Python 3 (ipykernel)",
   "language": "python",
   "name": "python3"
  },
  "language_info": {
   "codemirror_mode": {
    "name": "ipython",
    "version": 3
   },
   "file_extension": ".py",
   "mimetype": "text/x-python",
   "name": "python",
   "nbconvert_exporter": "python",
   "pygments_lexer": "ipython3",
   "version": "3.11.7"
  }
 },
 "nbformat": 4,
 "nbformat_minor": 5
}
